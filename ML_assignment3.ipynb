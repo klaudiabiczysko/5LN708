{
  "nbformat": 4,
  "nbformat_minor": 0,
  "metadata": {
    "colab": {
      "name": "old_ass3_ver2 (3).ipynb",
      "provenance": [],
      "collapsed_sections": [],
      "toc_visible": true
    },
    "kernelspec": {
      "name": "python3",
      "display_name": "Python 3"
    },
    "accelerator": "GPU"
  },
  "cells": [
    {
      "cell_type": "markdown",
      "metadata": {
        "id": "GgPqt4p1y36p"
      },
      "source": [
        "# Assignment 3: Evaluating and extending an RNN based POS tagger\n",
        "\n",
        "### Extensions, which were used:\n",
        " \n",
        "1. Added the option to use a GRU layer instead of LSTM.\n",
        "2. Added the option to use a bi-directional RNN layer.\n",
        "5. Implemented dropout.\n",
        "\n",
        "### Datasets:\n",
        "1. Universal Dependencies: Polish\n",
        "2. Universal Dependencies: English\n",
        "3. Universal Dependencies: Swedish"
      ]
    },
    {
      "cell_type": "markdown",
      "metadata": {
        "id": "3iYSaBnojZ9k"
      },
      "source": [
        ""
      ]
    },
    {
      "cell_type": "markdown",
      "metadata": {
        "id": "wqnpxZv_jnuS"
      },
      "source": [
        "## Loading libraries"
      ]
    },
    {
      "cell_type": "markdown",
      "metadata": {
        "id": "H-hLbPUVuCiF"
      },
      "source": [
        "Importing libraries:"
      ]
    },
    {
      "cell_type": "code",
      "metadata": {
        "id": "qDDstzhwztQS"
      },
      "source": [
        "# Our standard imports for maths and basic methodology\n",
        "import numpy as np\n",
        "from sklearn.model_selection import train_test_split\n",
        "\n",
        "# For user feedback\n",
        "from tqdm import tqdm\n",
        "import matplotlib.pyplot as plt\n",
        "\n",
        "# Imports for pytorch\n",
        "import torch\n",
        "import torch.nn as nn"
      ],
      "execution_count": 2,
      "outputs": []
    },
    {
      "cell_type": "markdown",
      "metadata": {
        "id": "Okj6Den-4-Wd"
      },
      "source": [
        "Let's see if we have a GPU."
      ]
    },
    {
      "cell_type": "code",
      "metadata": {
        "colab": {
          "base_uri": "https://localhost:8080/"
        },
        "id": "nYGiUxG746pz",
        "outputId": "9c7d9f51-3103-4c18-a318-d933a9c1592c"
      },
      "source": [
        "if torch.cuda.is_available():\n",
        "  for i in range(torch.cuda.device_count()):\n",
        "    print(torch.cuda.get_device_name(i))\n",
        "else:\n",
        "  print(\"No GPU available\")"
      ],
      "execution_count": 3,
      "outputs": [
        {
          "output_type": "stream",
          "text": [
            "Tesla T4\n"
          ],
          "name": "stdout"
        }
      ]
    },
    {
      "cell_type": "markdown",
      "metadata": {
        "id": "HJTNgsXAuQ_6"
      },
      "source": [
        "Downloading the data from github and unzipping it."
      ]
    },
    {
      "cell_type": "code",
      "metadata": {
        "id": "8b-339rfE2JQ"
      },
      "source": [
        "#Downloading the UD datasets from github\n",
        "!wget -O 'English' https://github.com/UniversalDependencies/UD_English-ParTUT/archive/refs/heads/master.zip\n",
        "!wget -O 'Polish' https://github.com/UniversalDependencies/UD_Polish-PDB/archive/refs/heads/master.zip \n",
        "!wget -O 'Swedish' https://github.com/UniversalDependencies/UD_Swedish-LinES/archive/refs/heads/master.zip"
      ],
      "execution_count": null,
      "outputs": []
    },
    {
      "cell_type": "code",
      "metadata": {
        "id": "qh3rkeyHvnVS"
      },
      "source": [
        "#Unzipping the folders\n",
        "!unzip 'English'\n",
        "!unzip 'Polish'\n",
        "!unzip 'Swedish'"
      ],
      "execution_count": null,
      "outputs": []
    },
    {
      "cell_type": "markdown",
      "metadata": {
        "id": "XBN__X-5truS"
      },
      "source": [
        "## Polish"
      ]
    },
    {
      "cell_type": "markdown",
      "metadata": {
        "id": "Dfi53sg7u7Jv"
      },
      "source": [
        "### Loading & parsing CONLLU files"
      ]
    },
    {
      "cell_type": "markdown",
      "metadata": {
        "id": "AoyAGaqLeNUX"
      },
      "source": [
        "Since UD datasets are already split into test and train sets, we can load them separately. "
      ]
    },
    {
      "cell_type": "code",
      "metadata": {
        "id": "6-z7-hRoD7Cf"
      },
      "source": [
        "def load_dataset(file):\n",
        "    X = []  #words\n",
        "    Y = []  #labels\n",
        "    global sents\n",
        "    sents = []\n",
        "    \n",
        "    with open(file, \"r\") as f:\n",
        "      if file.endswith(\".conllu\"):\n",
        "          sentences = f.read().split(\"\\n\\n\")\n",
        "          if sentences[-1] == \"\":\n",
        "              sentences = sentences[:-1]\n",
        "          for sentence in sentences:\n",
        "              words = []\n",
        "              tags =  []\n",
        "              sent = []\n",
        "              lines = sentence.split(\"\\n\")\n",
        "              for line in lines:\n",
        "                  if line.startswith(\"#\"):\n",
        "                      continue\n",
        "                  line = line.strip().split(\"\\t\")\n",
        "\n",
        "                  word = line[1].lower() \n",
        "                  tag = line[3]\n",
        "\n",
        "                  words.append(word) \n",
        "                  tags.append(tag)\n",
        "                  sent.append((word,tag))\n",
        "\n",
        "              X.append(words)\n",
        "              Y.append(tags)\n",
        "              sents.append(sent)\n",
        "      else:\n",
        "          print(\"The file needs to be .conllu\")\n",
        "\n",
        "    return X, Y\n"
      ],
      "execution_count": 79,
      "outputs": []
    },
    {
      "cell_type": "code",
      "metadata": {
        "id": "RBc0oGxFF1A3"
      },
      "source": [
        "#Load Polish datasets\n",
        "X_test, y_test = load_dataset('/content/UD_Polish-PDB-master/pl_pdb-ud-test.conllu')\n",
        "X_train, y_train = load_dataset('/content/UD_Polish-PDB-master/pl_pdb-ud-train.conllu')\n",
        " "
      ],
      "execution_count": 87,
      "outputs": []
    },
    {
      "cell_type": "code",
      "metadata": {
        "id": "HKzl8rL1FEFe",
        "colab": {
          "base_uri": "https://localhost:8080/"
        },
        "outputId": "57b7cd38-eec7-4be2-e03e-a2afa1b6cd2d"
      },
      "source": [
        "X = X_train + X_test\n",
        "y = y_train + y_test\n",
        "\n",
        "#print(X_test[:5])\n",
        "#print(y_test[:5])\n",
        "#print(X_train[:5])\n",
        "#print(y_train[:5])\n",
        "\n",
        "assert len(X_train) == len(y_train)\n",
        "assert len(X_test) == len(y_test)\n",
        "assert len(X_train)+len(X_test) == len(X)\n",
        "\n",
        "print(\"The training set includes %i sentences.\" % len(X_train))\n",
        "print(\"The test set includes %i sentences.\" % len(X_test))\n"
      ],
      "execution_count": 88,
      "outputs": [
        {
          "output_type": "stream",
          "text": [
            "The training set includes 17722 sentences.\n",
            "The test set includes 2215 sentences.\n"
          ],
          "name": "stdout"
        }
      ]
    },
    {
      "cell_type": "code",
      "metadata": {
        "colab": {
          "base_uri": "https://localhost:8080/",
          "height": 279
        },
        "id": "VDr3RtmYveUD",
        "outputId": "1b06942d-dc3a-4aa6-8339-b21ef0c6616f"
      },
      "source": [
        "#plotting the length of sentences\n",
        "l = np.asarray([len(x) for x in X], dtype=np.int)\n",
        "plt.figure(figsize=(8, 4))\n",
        "x = np.unique(l)\n",
        "plt.bar(x, [np.sum(l==e) for e in x], width=1)\n",
        "plt.xlabel(\"Sentence length\")\n",
        "plt.ylabel(\"# sentences\")\n",
        "plt.show()"
      ],
      "execution_count": 89,
      "outputs": [
        {
          "output_type": "display_data",
          "data": {
            "image/png": "[encoded data removed]",
            "text/plain": [
              "<Figure size 576x288 with 1 Axes>"
            ]
          },
          "metadata": {
            "tags": [],
            "needs_background": "light"
          }
        }
      ]
    },
    {
      "cell_type": "markdown",
      "metadata": {
        "id": "fHIiYxLyz2cf"
      },
      "source": [
        "### Idx2tags & Tag2idx\n",
        "\n"
      ]
    },
    {
      "cell_type": "code",
      "metadata": {
        "colab": {
          "base_uri": "https://localhost:8080/"
        },
        "id": "1i9ge2AMwNGs",
        "outputId": "73d9cad4-e182-4b04-e2d3-15cae2089485"
      },
      "source": [
        "tokens = {token for sentence in X_train for token in sentence}\n",
        "idx2token = list(tokens)\n",
        "idx2token.insert(0, '<UNK>')   #unknown token; unknown class\n",
        "idx2token.append('<PAD>')  #sentences have different lengths, all columns have different rows\n",
        "token2idx = {token:idx for idx, token in enumerate(idx2token)}\n",
        "\n",
        "tags = {tag for tags in y_train for tag in tags}\n",
        "idx2tag = list(tags)\n",
        "idx2tag.append('<PAD>')\n",
        "tag2idx = {tag:idx for idx, tag in enumerate(idx2tag)}\n",
        "\n",
        "print(idx2token[:30])\n",
        "print(idx2tag)"
      ],
      "execution_count": 90,
      "outputs": [
        {
          "output_type": "stream",
          "text": [
            "['<UNK>', 'prokop', 'oszczędny', 'strzeli', 'trunku', 'kpn', 'poznikały', 'portugalscy', 'uwielbiającym', 'najpiękniejszych', 'uzależnieniem', 'prysło', '7152', 'zaopatrzenie', 'andrzejkowych', 'stoiska', 'ogrodzeniu', 'apator-a', 'płakałyśmy', 'kornhausera', 'ziemską', 'pasek', 'antybiotykami', 'utylizacji', 'koca', 'krótkometrażowym', 'pereł', 'modiglianiego', 'małpę', 'szkodliwych']\n",
            "['ADV', 'VERB', 'PUNCT', 'DET', 'CCONJ', 'PROPN', 'NOUN', 'NUM', 'ADP', '_', 'SYM', 'PRON', 'SCONJ', 'INTJ', 'PART', 'X', 'ADJ', 'AUX', '<PAD>']\n"
          ],
          "name": "stdout"
        }
      ]
    },
    {
      "cell_type": "markdown",
      "metadata": {
        "id": "ul-hfdR0w3h-"
      },
      "source": [
        "### RNN Model"
      ]
    },
    {
      "cell_type": "code",
      "metadata": {
        "id": "7lcvw9Jqw3iM"
      },
      "source": [
        "class Tagger(nn.Module):\n",
        "  def __init__(self, model_type, word_embedding_dim, hidden_dim, vocabulary_size, tagset_size, bidirectional=False, dropout=0.00, epochs=5):\n",
        "    super(Tagger, self).__init__()    \n",
        "                                          \n",
        "    self.hidden_dim_ = hidden_dim                                     \n",
        "    self.vocabulary_size_ = vocabulary_size\n",
        "    self.tagset_size_ = tagset_size\n",
        "    self.model_type = model_type                                                #Choice between LSTM/GRU\n",
        "    self.bidirectional = bidirectional                                          #Specifies if bidirectional, False as default\n",
        "    self.dropout = dropout                                                      #Specifies dropout, 0 as default\n",
        "    self.epochs = epochs                                                        #Specifies the number of epochs, 5 as default\n",
        "\n",
        "    self._word_embedding = nn.Embedding(num_embeddings=vocabulary_size,         # Creates the vector space for the input words\n",
        "                                         embedding_dim=word_embedding_dim, \n",
        "                                         padding_idx=token2idx['<PAD>'])\n",
        "    \n",
        "    if model_type == 'GRU':\n",
        "      self._gru = nn.GRU(input_size=word_embedding_dim,                         # The GRU takes an embedded sentence as input, and outputs \n",
        "                          hidden_size=hidden_dim,                               # vectors with dimensionality gru_hidden_dim.\n",
        "                          batch_first=True,\n",
        "                        bidirectional=bidirectional,\n",
        "                        dropout=dropout)\n",
        "    elif model_type == 'LSTM':\n",
        "      self._lstm = nn.LSTM(input_size=word_embedding_dim,                       # The LSTM takes an embedded sentence as input, and outputs \n",
        "                         hidden_size=hidden_dim,                                # vectors with dimensionality lstm_hidden_dim.\n",
        "                         batch_first=True,\n",
        "                         bidirectional=bidirectional,\n",
        "                         dropout=dropout)\n",
        "    else:\n",
        "      print(\"Model not available\")                                              #printing error message if model type not LSTM/GRU\n",
        "\n",
        "    #connected layer\n",
        "    if bidirectional:\n",
        "      self._fc = nn.Linear(hidden_dim*2, tagset_size)                           # doubled hidden dimensions if bidirectional\n",
        "    else:\n",
        "      self._fc = nn.Linear(hidden_dim, tagset_size)                             # The linear layer maps from the RNN output space to tag space\n",
        "\n",
        "    self._softmax = nn.LogSoftmax(dim=1)                                        # Softmax of outputting PDFs over tags\n",
        "    \n",
        "    self.training_loss_ = list()                                                # For plotting\n",
        "    self.training_accuracy_ = list()\n",
        "\n",
        "    if torch.cuda.is_available():                                               # Move the model to the GPU (if we have one)\n",
        "      self.cuda()\n",
        "\n",
        "\n",
        "  def pad_and_encode(self, sentences, labels):\n",
        "    assert len(sentences)==len(labels)\n",
        "    assert np.all([len(sentence)==len(tags) for sentence, tags in zip(sentences, labels)])\n",
        "    max_sentence_length = np.max([len(sentence) for sentence in sentences])     # Find out how much to pad\n",
        "    padded_sentences = torch.zeros(len(sentences), max_sentence_length,         # Create data structures with <PAD> as default\n",
        "                                  dtype=torch.long)\n",
        "    padded_sentences[:] = token2idx['<PAD>']\n",
        "    padded_labels = torch.zeros(len(sentences), max_sentence_length, \n",
        "                                dtype=torch.long)\n",
        "    padded_labels[:] = tag2idx['<PAD>']\n",
        "    for i, (sentence, tags) in enumerate(zip(sentences, labels)):               # Loop over the data\n",
        "      for j, token in enumerate(sentence):\n",
        "        if token in token2idx.keys():\n",
        "          padded_sentences[i, j] = token2idx[token]\n",
        "        else:\n",
        "          padded_sentences[i, j] = token2idx['<UNK>']\n",
        "      for j, tag in enumerate(tags):\n",
        "        padded_labels[i, j] = tag2idx[tag]\n",
        "    return padded_sentences, padded_labels\n",
        "\n",
        "\n",
        "  def batch_iterator(self, sentences, labels, batch_size=64):\n",
        "    \"\"\"Helper function for iterating over batches of the data\"\"\"\n",
        "    assert len(sentences) == len(labels)\n",
        "    for i in range(0, len(sentences), batch_size):\n",
        "      X, y = self.pad_and_encode(sentences[i:min(i+batch_size, len(sentences))], \n",
        "                              labels[i:min(i+batch_size, len(sentences))])\n",
        "      if torch.cuda.is_available():                                             # Move data to the GPU, if possible, before yielding it\n",
        "        yield (X.cuda(), y.cuda())\n",
        "      else:\n",
        "        yield (X, y)\n",
        "\n",
        "\n",
        "  def forward(self, padded_sentences):\n",
        "     \"\"\"The forward pass through the network\"\"\"\n",
        "\n",
        "     batch_size, max_sentence_length = padded_sentences.size()\n",
        "\n",
        "     embedded_sentences = self._word_embedding(padded_sentences)                 # Sentences encoded as integers are mapped to vectors    \n",
        "\n",
        "     sentence_lengths = (padded_sentences!=token2idx['<PAD>']).sum(dim=1)        # Find the length of sentences\n",
        "     sentence_lengths = sentence_lengths.long().cpu()                            # Ensure the correct format\n",
        "     X = nn.utils.rnn.pack_padded_sequence(embedded_sentences, sentence_lengths, # Pack the embedded data\n",
        "                                            batch_first=True, enforce_sorted=False)\n",
        "     if self.model_type == 'GRU':\n",
        "       gru_out, _ = self._gru(X)                                                   # Run the GRU layer\n",
        "       X, _ = nn.utils.rnn.pad_packed_sequence(gru_out, batch_first=True)          # Unpack the output from the GRU\n",
        "\n",
        "     elif self.model_type == 'LSTM': \n",
        "       lstm_out, _ = self._lstm(X)                                               # Run the LSTM layer\n",
        "       X, _ = nn.utils.rnn.pad_packed_sequence(lstm_out, batch_first=True)         # Unpack the output from the LSTM\n",
        "\n",
        "\n",
        "     X = X.contiguous().view(-1, X.shape[2])                                     # The output from the LSTM/GRU layer is flattened\n",
        "     tag_space = self._fc(X)                                                     # Fully connected layer\n",
        "     tag_scores = self._softmax(tag_space)                                       # Softmax is applied to normalise the outputs\n",
        "\n",
        "     return tag_scores.view(batch_size, max_sentence_length, self.tagset_size_)\n",
        "\n",
        "\n",
        "  def fit(self, X, y):\n",
        "    loss_function = nn.NLLLoss(ignore_index=tag2idx['<PAD>'])                   # A loss function that fits our choice of output layer and data.\n",
        "                                                                                # loss function will ignore the padding index in the targets.\n",
        "    optimizer = torch.optim.Adam(model.parameters(), lr=0.01)                   # We give the optimiser the parameters to work with, note that we can choose to only give some parameters\n",
        "\n",
        "    batch_size = 256                                                            # Define the size of each batch\n",
        "    for epoch in range(self.epochs):                                            # Times to loop over the full dataset\n",
        "      with tqdm(self.batch_iterator(X_train, y_train, batch_size), \n",
        "           total=len(X_train)//batch_size+1, unit=\"batch\", desc=\"Epoch %i\" % epoch) as batches:\n",
        "        for inputs, targets in batches:                                         # Loop once over the training data\n",
        "          model.zero_grad()                                                     # Reset gradients\n",
        "          scores = model(inputs)                                                # Forward pass\n",
        "          loss = loss_function(scores.view(-1, model.tagset_size_),             # Get loss, the data is reshaped as a long line of predictions and targets\n",
        "                              targets.view(-1))               \n",
        "          loss.backward()                                                       # Backpropagate the error\n",
        "          optimizer.step()                                                      # Run the optimizer to change the weights w.r.t the loss\n",
        "          predictions = scores.argmax(dim=2, keepdim=True).squeeze()            # Calculate the batch training accuracy\n",
        "          mask = targets!=tag2idx['<PAD>']                                      # Create a mask for ignoring <PAD> in the targets\n",
        "          correct = (predictions[mask] == targets[mask]).sum().item()           # Item pulls the value from the GPU automatically (if needed)\n",
        "          accuracy = correct / mask.sum().item()*100\n",
        "          model.training_accuracy_.append(accuracy)                             # Save the accuracy for plotting\n",
        "          model.training_loss_.append(loss.item())                              # Save the loss for plotting\n",
        "          batches.set_postfix(loss=loss.item(), accuracy=accuracy)              # Update the progress bar\n",
        "  \n",
        "  def plot(self):\n",
        "    batch_size = 256\n",
        "    fig = plt.figure(figsize=(6, 4))\n",
        "    ax = plt.subplot()\n",
        "    ax.set_title(\"Plot for the (hopefully) decreasing loss over epochs\")\n",
        "    ax.plot(model.training_loss_, 'b-')\n",
        "    ax.set_ylabel(\"Training Loss\", color='b')\n",
        "    ax.set_xlabel(\"Epoch\")\n",
        "    # ax.set_yscale('log')\n",
        "    ax.tick_params(axis='y', labelcolor='b')\n",
        "    ax = ax.twinx()\n",
        "    ax.plot(model.training_accuracy_, 'r-')\n",
        "    ax.set_ylabel(\"Accuracy [%]\", color='r')\n",
        "    ax.tick_params(axis='y', labelcolor='r')\n",
        "    a = list(ax.axis())\n",
        "    a[2] = 0\n",
        "    a[3] = 100\n",
        "    ax.axis(a)\n",
        "    t = np.arange(0, len(model.training_accuracy_), len(X_train)//batch_size+1)\n",
        "    ax.set_xticks(ticks=t)\n",
        "    ax.set_xticklabels(labels=np.arange(len(t)))\n",
        "    fig.tight_layout()\n",
        "    plt.show()\n",
        "  \n",
        "  def predict(self, X, y):  \n",
        "    batch_size = 256\n",
        "    pred = []\n",
        "    with torch.no_grad():                                                       \n",
        "      for inputs, targets in self.batch_iterator(X, y, batch_size=batch_size):  # Loop once over the test data\n",
        "        scores = model(inputs)                                                  # Runs the test data through the model\n",
        "        predictions = scores.argmax(dim=2, keepdim=True).squeeze() \n",
        "        mask = targets!=tag2idx['<PAD>']                                        \n",
        "        pred.append(predictions)  \n",
        "      return pred\n",
        "\n",
        "  def score(self, X, y):\n",
        "    batch_size = 256\n",
        "    with torch.no_grad():                                                       \n",
        "      n_correct = 0\n",
        "      n_total = 0\n",
        "      for inputs, targets in self.batch_iterator(X, y, batch_size=batch_size):  # Loop once over the test data\n",
        "        scores = model(inputs)                                                  # Runs the test data through the model\n",
        "        predictions = scores.argmax(dim=2, keepdim=True).squeeze()              # Finds the predictions\n",
        "        mask = targets!=tag2idx['<PAD>']                                        # Create a mask for ignoring <PAD> in the targets; MASK = non_pad_elements\n",
        "        n_correct += (predictions[mask] == targets[mask]).sum().item()          # Sums the number of correct predictions\n",
        "        n_total += mask.sum().item()\n",
        "    return 100*n_correct/n_total\n",
        "    #print(\"Test accuracy %.1f%%\" % (100*n_correct/n_total))"
      ],
      "execution_count": 14,
      "outputs": []
    },
    {
      "cell_type": "markdown",
      "metadata": {
        "id": "aamGLlFYzJsS"
      },
      "source": [
        "### Tuning hyperparameters\n",
        "Looking for the best model."
      ]
    },
    {
      "cell_type": "code",
      "metadata": {
        "id": "OyFrzjiMzJsU"
      },
      "source": [
        "import warnings\n",
        "\n",
        "#Hyperparameters\n",
        "model_types = ['LSTM', 'GRU']\n",
        "bidirectional_values= [False, True]\n",
        "dropout_values = [0.0, 0.01, 0.001]\n",
        "dimensions = [32, 64, 96, 128]\n",
        "hid_dimensions = [32, 64, 96, 128]\n",
        "\n",
        "#dataframe\n",
        "results = []\n",
        "\n",
        "for model_type in model_types:\n",
        "  for dim in dimensions:\n",
        "    for h_dim in hid_dimensions:\n",
        "      for bidir in bidirectional_values:\n",
        "        for drop in dropout_values:\n",
        "            with warnings.catch_warnings():\n",
        "              warnings.simplefilter(\"ignore\")\n",
        "              print(f'Training with hyperparameters: model_type [{model_type}], hidden_dim [{h_dim}], word_embedding_dim [{dim}], bidirectional [{bidir}], dropout [{drop}]')\n",
        "              model = Tagger(model_type = model_type,\n",
        "                      word_embedding_dim=dim, #32,                                        \n",
        "                      hidden_dim=h_dim, #64,                                          \n",
        "                      vocabulary_size=len(token2idx),                              \n",
        "                      tagset_size=len(tag2idx)-1,                                  \n",
        "                      bidirectional=bidir,\n",
        "                      dropout=drop)   \n",
        "              \n",
        "              model.fit(X_train, y_train)\n",
        "\n",
        "              model.predict(X_test, y_test)\n",
        "\n",
        "              acc = model.score(X_test, y_test)\n",
        "\n",
        "              #dataframe\n",
        "              results.append({\n",
        "                    'model': model_type,\n",
        "                    'hidden_dim': h_dim,\n",
        "                    'word_embedding_dim': dim,\n",
        "                    'bidirectional': bidir,\n",
        "                    'dropout': drop,\n",
        "                    'Accuracy': acc\n",
        "                      })"
      ],
      "execution_count": null,
      "outputs": []
    },
    {
      "cell_type": "code",
      "metadata": {
        "id": "E39yDViNzJsi"
      },
      "source": [
        "import pandas as pd\n",
        "results = pd.DataFrame(results)\n",
        "results = results.sort_values(by='Accuracy', ascending=False)\n",
        "print(results)"
      ],
      "execution_count": null,
      "outputs": []
    },
    {
      "cell_type": "markdown",
      "metadata": {
        "id": "F4Hmq1FTzMhx"
      },
      "source": [
        "### Final model"
      ]
    },
    {
      "cell_type": "code",
      "metadata": {
        "id": "QQmrObkIzJsk",
        "colab": {
          "base_uri": "https://localhost:8080/"
        },
        "outputId": "a7762db0-3c8e-40f2-f724-f4fdd6b3db5d"
      },
      "source": [
        "model = Tagger(model_type = \"LSTM\",\n",
        "               word_embedding_dim=96,                                     \n",
        "               hidden_dim=64,                                           \n",
        "               vocabulary_size=len(token2idx),                              \n",
        "               tagset_size=len(tag2idx)-1,                                  \n",
        "               bidirectional=True,\n",
        "               dropout=0.010)   "
      ],
      "execution_count": 104,
      "outputs": [
        {
          "output_type": "stream",
          "text": [
            "/usr/local/lib/python3.7/dist-packages/torch/nn/modules/rnn.py:63: UserWarning: dropout option adds dropout after all but last recurrent layer, so non-zero dropout expects num_layers greater than 1, but got dropout=0.01 and num_layers=1\n",
            "  \"num_layers={}\".format(dropout, num_layers))\n"
          ],
          "name": "stderr"
        }
      ]
    },
    {
      "cell_type": "code",
      "metadata": {
        "id": "jhC2B8gzzJsl",
        "colab": {
          "base_uri": "https://localhost:8080/"
        },
        "outputId": "a84b20ae-f7f9-4e42-bd5a-5bb4869e3218"
      },
      "source": [
        "model.fit(X_train, y_train)\n",
        "model.score(X_test, y_test)"
      ],
      "execution_count": 95,
      "outputs": [
        {
          "output_type": "stream",
          "text": [
            "Epoch 0: 100%|██████████| 70/70 [00:03<00:00, 19.15batch/s, accuracy=80.5, loss=0.587]\n",
            "Epoch 1: 100%|██████████| 70/70 [00:03<00:00, 19.15batch/s, accuracy=92.7, loss=0.216]\n",
            "Epoch 2: 100%|██████████| 70/70 [00:03<00:00, 19.11batch/s, accuracy=98.8, loss=0.0485]\n",
            "Epoch 3: 100%|██████████| 70/70 [00:03<00:00, 19.02batch/s, accuracy=99.9, loss=0.0176]\n",
            "Epoch 4: 100%|██████████| 70/70 [00:03<00:00, 18.67batch/s, accuracy=100, loss=0.00878]\n"
          ],
          "name": "stderr"
        },
        {
          "output_type": "execute_result",
          "data": {
            "text/plain": [
              "91.08867038710248"
            ]
          },
          "metadata": {
            "tags": []
          },
          "execution_count": 95
        }
      ]
    },
    {
      "cell_type": "code",
      "metadata": {
        "id": "Ok2qBkT0zJsl",
        "colab": {
          "base_uri": "https://localhost:8080/",
          "height": 297
        },
        "outputId": "17a7cbaf-aca8-4980-f0e7-b0bfa18f0a93"
      },
      "source": [
        "model.plot()"
      ],
      "execution_count": 37,
      "outputs": [
        {
          "output_type": "display_data",
          "data": {
            "image/png": "[encoded data removed]",
            "text/plain": [
              "<Figure size 432x288 with 2 Axes>"
            ]
          },
          "metadata": {
            "tags": [],
            "needs_background": "light"
          }
        }
      ]
    },
    {
      "cell_type": "markdown",
      "metadata": {
        "id": "ZtLywNBQf4WL"
      },
      "source": [
        "### Baseline model\n",
        "\n",
        "As a Baseline model, I decided to use the most Vanilla LTSM, which was implemented in the beginning."
      ]
    },
    {
      "cell_type": "code",
      "metadata": {
        "id": "zLpqpXVUf4WL"
      },
      "source": [
        "model = Tagger(model_type = \"LSTM\",\n",
        "               word_embedding_dim=32,\n",
        "               hidden_dim=64, \n",
        "               vocabulary_size=len(token2idx),                             \n",
        "               tagset_size=len(tag2idx)-1)   "
      ],
      "execution_count": 45,
      "outputs": []
    },
    {
      "cell_type": "code",
      "metadata": {
        "id": "A8eHxCLSf4WM",
        "colab": {
          "base_uri": "https://localhost:8080/",
          "height": 501
        },
        "outputId": "50607e5f-c123-448d-a23b-101855fd6d25"
      },
      "source": [
        "# training\n",
        "model.fit(X_train, y_train)\n",
        "\n",
        "#score\n",
        "score = model.score(X_test, y_test)\n",
        "print('\\n')\n",
        "print('====')\n",
        "print(f'Accuracy for the Baseline model is {score}')\n",
        "print('====')\n",
        "print('\\n')\n",
        "\n",
        "#plot\n",
        "model.plot()"
      ],
      "execution_count": 46,
      "outputs": [
        {
          "output_type": "stream",
          "text": [
            "Epoch 0: 100%|██████████| 70/70 [00:03<00:00, 21.73batch/s, accuracy=67.6, loss=0.941]\n",
            "Epoch 1: 100%|██████████| 70/70 [00:03<00:00, 21.52batch/s, accuracy=84.3, loss=0.491]\n",
            "Epoch 2: 100%|██████████| 70/70 [00:03<00:00, 21.83batch/s, accuracy=92.1, loss=0.258]\n",
            "Epoch 3: 100%|██████████| 70/70 [00:03<00:00, 21.77batch/s, accuracy=96.2, loss=0.128]\n",
            "Epoch 4: 100%|██████████| 70/70 [00:03<00:00, 21.84batch/s, accuracy=97.8, loss=0.0736]\n"
          ],
          "name": "stderr"
        },
        {
          "output_type": "stream",
          "text": [
            "\n",
            "\n",
            "====\n",
            "Accuracy for the Baseline model is 87.56311453627426\n",
            "====\n",
            "\n",
            "\n"
          ],
          "name": "stdout"
        },
        {
          "output_type": "display_data",
          "data": {
            "image/png": "[encoded data removed]",
            "text/plain": [
              "<Figure size 432x288 with 2 Axes>"
            ]
          },
          "metadata": {
            "tags": [],
            "needs_background": "light"
          }
        }
      ]
    },
    {
      "cell_type": "markdown",
      "metadata": {
        "id": "X-5G0CuxugGB"
      },
      "source": [
        "## English"
      ]
    },
    {
      "cell_type": "markdown",
      "metadata": {
        "id": "ZKhDK1DDv7Ke"
      },
      "source": [
        "### Loading & parsing CONLLU files"
      ]
    },
    {
      "cell_type": "markdown",
      "metadata": {
        "id": "PuI_wWzrv7Kh"
      },
      "source": [
        "Since UD datasets are already split into test and train sets, we can load them separately. "
      ]
    },
    {
      "cell_type": "code",
      "metadata": {
        "id": "HTu3h1Xov7Kh"
      },
      "source": [
        "def load_conllu(file):\n",
        "    X = []  #words\n",
        "    Y = []  #labels\n",
        "    global sents\n",
        "    sents = []\n",
        "    \n",
        "    with open(file, \"r\") as f:\n",
        "      if file.endswith(\".conllu\"):\n",
        "          sentences = f.read().split(\"\\n\\n\")\n",
        "          if sentences[-1] == \"\":\n",
        "              sentences = sentences[:-1]\n",
        "          for sentence in sentences:\n",
        "              words = []\n",
        "              tags =  []\n",
        "              sent = []\n",
        "              lines = sentence.split(\"\\n\")\n",
        "              for line in lines:\n",
        "                  if line.startswith(\"#\"):\n",
        "                      continue\n",
        "                  line = line.strip().split(\"\\t\")\n",
        "\n",
        "                  word = line[1].lower() \n",
        "                  tag = line[3]\n",
        "\n",
        "                  words.append(word) \n",
        "                  tags.append(tag)\n",
        "                  sent.append((word,tag))\n",
        "\n",
        "              X.append(words)\n",
        "              Y.append(tags)\n",
        "              sents.append(sent)\n",
        "      else:\n",
        "          print(\"The file needs to be .conllu\")\n",
        "\n",
        "    return X, Y\n"
      ],
      "execution_count": 107,
      "outputs": []
    },
    {
      "cell_type": "code",
      "metadata": {
        "id": "bKnUeUqSwZn6"
      },
      "source": [
        "# Load English datasets\n",
        "X_test, y_test = load_conllu('/content/UD_English-ParTUT-master/en_partut-ud-test.conllu')\n",
        "X_train, y_train = load_conllu('/content/UD_English-ParTUT-master/en_partut-ud-train.conllu')"
      ],
      "execution_count": 108,
      "outputs": []
    },
    {
      "cell_type": "code",
      "metadata": {
        "colab": {
          "base_uri": "https://localhost:8080/"
        },
        "id": "ao9FS_XKv7Kj",
        "outputId": "264c2c20-f125-4a52-90ab-fbebe2ffe4f9"
      },
      "source": [
        "X = X_train + X_test\n",
        "y = y_train + y_test\n",
        "\n",
        "assert len(X_train) == len(y_train)\n",
        "assert len(X_test) == len(y_test)\n",
        "assert len(X_train)+len(X_test) == len(X)\n",
        "\n",
        "print(\"The training set includes %i sentences.\" % len(X_train))\n",
        "print(\"The test set includes %i sentences.\" % len(X_test))\n"
      ],
      "execution_count": 109,
      "outputs": [
        {
          "output_type": "stream",
          "text": [
            "The training set includes 1781 sentences.\n",
            "The test set includes 153 sentences.\n"
          ],
          "name": "stdout"
        }
      ]
    },
    {
      "cell_type": "code",
      "metadata": {
        "colab": {
          "base_uri": "https://localhost:8080/",
          "height": 279
        },
        "id": "sIG4dEmdv7Kj",
        "outputId": "f3e20956-e976-4d1c-f3a9-7c81579baf00"
      },
      "source": [
        "#plotting the length of sentences\n",
        "l = np.asarray([len(x) for x in X], dtype=np.int)\n",
        "plt.figure(figsize=(8, 4))\n",
        "x = np.unique(l)\n",
        "plt.bar(x, [np.sum(l==e) for e in x], width=1)\n",
        "plt.xlabel(\"Sentence length\")\n",
        "plt.ylabel(\"# sentences\")\n",
        "plt.show()"
      ],
      "execution_count": 110,
      "outputs": [
        {
          "output_type": "display_data",
          "data": {
            "image/png": "[encoded data removed]",
            "text/plain": [
              "<Figure size 576x288 with 1 Axes>"
            ]
          },
          "metadata": {
            "tags": [],
            "needs_background": "light"
          }
        }
      ]
    },
    {
      "cell_type": "markdown",
      "metadata": {
        "id": "xqxVqV5uwXV-"
      },
      "source": [
        "### Idx2tags & Tag2idx\n",
        "\n"
      ]
    },
    {
      "cell_type": "code",
      "metadata": {
        "colab": {
          "base_uri": "https://localhost:8080/"
        },
        "id": "WorK0YNswXWA",
        "outputId": "4ee253a3-add9-4f0c-c752-ef021c549abc"
      },
      "source": [
        "tokens = {token for sentence in X_train for token in sentence}\n",
        "idx2token = list(tokens)\n",
        "idx2token.insert(0, '<UNK>')   #unknown token; unknown class\n",
        "idx2token.append('<PAD>')  #sentences have different lengths, all columns have different rows\n",
        "token2idx = {token:idx for idx, token in enumerate(idx2token)}\n",
        "\n",
        "tags = {tag for tags in y_train for tag in tags}\n",
        "idx2tag = list(tags)\n",
        "idx2tag.append('<PAD>')\n",
        "tag2idx = {tag:idx for idx, tag in enumerate(idx2tag)}\n",
        "\n",
        "print(idx2token[:30])\n",
        "print(idx2tag)"
      ],
      "execution_count": 111,
      "outputs": [
        {
          "output_type": "stream",
          "text": [
            "['<UNK>', 'ordered', 'memorials', '1799', 'target', 'awful', 'hye', 'examined', 'closer', 'generalization', ')', '22', 'golden', 'tabled', 'obliged', 'laments', 'educated', 'observed', 'databases', '30', 'demonstrate', 'previous', 'morality', 'sense', 'praised', 'pious', '1878', 'ratings', 'governance', 'succeed']\n",
            "['ADV', 'DET', 'VERB', 'PUNCT', 'PROPN', 'CCONJ', 'NOUN', 'NUM', 'ADP', '_', 'SYM', 'PRON', 'SCONJ', 'INTJ', 'PART', 'X', 'ADJ', 'AUX', '<PAD>']\n"
          ],
          "name": "stdout"
        }
      ]
    },
    {
      "cell_type": "markdown",
      "metadata": {
        "id": "j7BmBUqHw9iA"
      },
      "source": [
        "### RNN Model"
      ]
    },
    {
      "cell_type": "code",
      "metadata": {
        "id": "Sc4gjl2qw9iB"
      },
      "source": [
        "class Tagger(nn.Module):\n",
        "  def __init__(self, model_type, word_embedding_dim, hidden_dim, vocabulary_size, tagset_size, bidirectional=False, dropout=0.00, epochs=5):\n",
        "    super(Tagger, self).__init__()    \n",
        "                                          \n",
        "    self.hidden_dim_ = hidden_dim                                     \n",
        "    self.vocabulary_size_ = vocabulary_size\n",
        "    self.tagset_size_ = tagset_size\n",
        "    self.model_type = model_type                                                #Choice between LSTM/GRU\n",
        "    self.bidirectional = bidirectional                                          #Specifies if bidirectional, False as default\n",
        "    self.dropout = dropout                                                      #Specifies dropout, 0 as default\n",
        "    self.epochs = epochs                                                        #Specifies the number of epochs, 5 as default\n",
        "\n",
        "    self._word_embedding = nn.Embedding(num_embeddings=vocabulary_size,         # Creates the vector space for the input words\n",
        "                                         embedding_dim=word_embedding_dim, \n",
        "                                         padding_idx=token2idx['<PAD>'])\n",
        "    \n",
        "    if model_type == 'GRU':\n",
        "      self._gru = nn.GRU(input_size=word_embedding_dim,                         # The GRU takes an embedded sentence as input, and outputs \n",
        "                          hidden_size=hidden_dim,                               # vectors with dimensionality gru_hidden_dim.\n",
        "                          batch_first=True,\n",
        "                        bidirectional=bidirectional,\n",
        "                        dropout=dropout)\n",
        "    elif model_type == 'LSTM':\n",
        "      self._lstm = nn.LSTM(input_size=word_embedding_dim,                       # The LSTM takes an embedded sentence as input, and outputs \n",
        "                         hidden_size=hidden_dim,                                # vectors with dimensionality lstm_hidden_dim.\n",
        "                         batch_first=True,\n",
        "                         bidirectional=bidirectional,\n",
        "                         dropout=dropout)\n",
        "    else:\n",
        "      print(\"Model not available\")                                              #printing error message if model type not LSTM/GRU\n",
        "\n",
        "    #connected layer\n",
        "    if bidirectional:\n",
        "      self._fc = nn.Linear(hidden_dim*2, tagset_size)                           # doubled hidden dimensions if bidirectional\n",
        "    else:\n",
        "      self._fc = nn.Linear(hidden_dim, tagset_size)                             # The linear layer maps from the RNN output space to tag space\n",
        "\n",
        "    self._softmax = nn.LogSoftmax(dim=1)                                        # Softmax of outputting PDFs over tags\n",
        "    \n",
        "    self.training_loss_ = list()                                                # For plotting\n",
        "    self.training_accuracy_ = list()\n",
        "\n",
        "    if torch.cuda.is_available():                                               # Move the model to the GPU (if we have one)\n",
        "      self.cuda()\n",
        "\n",
        "\n",
        "  def pad_and_encode(self, sentences, labels):\n",
        "    assert len(sentences)==len(labels)\n",
        "    assert np.all([len(sentence)==len(tags) for sentence, tags in zip(sentences, labels)])\n",
        "    max_sentence_length = np.max([len(sentence) for sentence in sentences])     # Find out how much to pad\n",
        "    padded_sentences = torch.zeros(len(sentences), max_sentence_length,         # Create data structures with <PAD> as default\n",
        "                                  dtype=torch.long)\n",
        "    padded_sentences[:] = token2idx['<PAD>']\n",
        "    padded_labels = torch.zeros(len(sentences), max_sentence_length, \n",
        "                                dtype=torch.long)\n",
        "    padded_labels[:] = tag2idx['<PAD>']\n",
        "    for i, (sentence, tags) in enumerate(zip(sentences, labels)):               # Loop over the data\n",
        "      for j, token in enumerate(sentence):\n",
        "        if token in token2idx.keys():\n",
        "          padded_sentences[i, j] = token2idx[token]\n",
        "        else:\n",
        "          padded_sentences[i, j] = token2idx['<UNK>']\n",
        "      for j, tag in enumerate(tags):\n",
        "        padded_labels[i, j] = tag2idx[tag]\n",
        "    return padded_sentences, padded_labels\n",
        "\n",
        "\n",
        "  def batch_iterator(self, sentences, labels, batch_size=64):\n",
        "    \"\"\"Helper function for iterating over batches of the data\"\"\"\n",
        "    assert len(sentences) == len(labels)\n",
        "    for i in range(0, len(sentences), batch_size):\n",
        "      X, y = self.pad_and_encode(sentences[i:min(i+batch_size, len(sentences))], \n",
        "                              labels[i:min(i+batch_size, len(sentences))])\n",
        "      if torch.cuda.is_available():                                             # Move data to the GPU, if possible, before yielding it\n",
        "        yield (X.cuda(), y.cuda())\n",
        "      else:\n",
        "        yield (X, y)\n",
        "\n",
        "\n",
        "  def forward(self, padded_sentences):\n",
        "     \"\"\"The forward pass through the network\"\"\"\n",
        "\n",
        "     batch_size, max_sentence_length = padded_sentences.size()\n",
        "\n",
        "     embedded_sentences = self._word_embedding(padded_sentences)                 # Sentences encoded as integers are mapped to vectors    \n",
        "\n",
        "     sentence_lengths = (padded_sentences!=token2idx['<PAD>']).sum(dim=1)        # Find the length of sentences\n",
        "     sentence_lengths = sentence_lengths.long().cpu()                            # Ensure the correct format\n",
        "     X = nn.utils.rnn.pack_padded_sequence(embedded_sentences, sentence_lengths, # Pack the embedded data\n",
        "                                            batch_first=True, enforce_sorted=False)\n",
        "     if self.model_type == 'GRU':\n",
        "       gru_out, _ = self._gru(X)                                                   # Run the GRU layer\n",
        "       X, _ = nn.utils.rnn.pad_packed_sequence(gru_out, batch_first=True)          # Unpack the output from the GRU\n",
        "\n",
        "     elif self.model_type == 'LSTM': \n",
        "       lstm_out, _ = self._lstm(X)                                               # Run the LSTM layer\n",
        "       X, _ = nn.utils.rnn.pad_packed_sequence(lstm_out, batch_first=True)         # Unpack the output from the LSTM\n",
        "\n",
        "\n",
        "     X = X.contiguous().view(-1, X.shape[2])                                     # The output from the LSTM/GRU layer is flattened\n",
        "     tag_space = self._fc(X)                                                     # Fully connected layer\n",
        "     tag_scores = self._softmax(tag_space)                                       # Softmax is applied to normalise the outputs\n",
        "\n",
        "     return tag_scores.view(batch_size, max_sentence_length, self.tagset_size_)\n",
        "\n",
        "\n",
        "  def fit(self, X, y):\n",
        "    loss_function = nn.NLLLoss(ignore_index=tag2idx['<PAD>'])                   # A loss function that fits our choice of output layer and data.\n",
        "                                                                                # loss function will ignore the padding index in the targets.\n",
        "    optimizer = torch.optim.Adam(model.parameters(), lr=0.01)                   # We give the optimiser the parameters to work with, note that we can choose to only give some parameters\n",
        "\n",
        "    batch_size = 256                                                            # Define the size of each batch\n",
        "    for epoch in range(self.epochs):                                            # Times to loop over the full dataset\n",
        "      with tqdm(self.batch_iterator(X_train, y_train, batch_size), \n",
        "           total=len(X_train)//batch_size+1, unit=\"batch\", desc=\"Epoch %i\" % epoch) as batches:\n",
        "        for inputs, targets in batches:                                         # Loop once over the training data\n",
        "          model.zero_grad()                                                     # Reset gradients\n",
        "          scores = model(inputs)                                                # Forward pass\n",
        "          loss = loss_function(scores.view(-1, model.tagset_size_),             # Get loss, the data is reshaped as a long line of predictions and targets\n",
        "                              targets.view(-1))               \n",
        "          loss.backward()                                                       # Backpropagate the error\n",
        "          optimizer.step()                                                      # Run the optimizer to change the weights w.r.t the loss\n",
        "          predictions = scores.argmax(dim=2, keepdim=True).squeeze()            # Calculate the batch training accuracy\n",
        "          mask = targets!=tag2idx['<PAD>']                                      # Create a mask for ignoring <PAD> in the targets\n",
        "          correct = (predictions[mask] == targets[mask]).sum().item()           # Item pulls the value from the GPU automatically (if needed)\n",
        "          accuracy = correct / mask.sum().item()*100\n",
        "          model.training_accuracy_.append(accuracy)                             # Save the accuracy for plotting\n",
        "          model.training_loss_.append(loss.item())                              # Save the loss for plotting\n",
        "          batches.set_postfix(loss=loss.item(), accuracy=accuracy)              # Update the progress bar\n",
        "  \n",
        "  def plot(self):\n",
        "    batch_size = 256\n",
        "    fig = plt.figure(figsize=(6, 4))\n",
        "    ax = plt.subplot()\n",
        "    ax.set_title(\"Plot for the (hopefully) decreasing loss over epochs\")\n",
        "    ax.plot(model.training_loss_, 'b-')\n",
        "    ax.set_ylabel(\"Training Loss\", color='b')\n",
        "    ax.set_xlabel(\"Epoch\")\n",
        "    # ax.set_yscale('log')\n",
        "    ax.tick_params(axis='y', labelcolor='b')\n",
        "    ax = ax.twinx()\n",
        "    ax.plot(model.training_accuracy_, 'r-')\n",
        "    ax.set_ylabel(\"Accuracy [%]\", color='r')\n",
        "    ax.tick_params(axis='y', labelcolor='r')\n",
        "    a = list(ax.axis())\n",
        "    a[2] = 0\n",
        "    a[3] = 100\n",
        "    ax.axis(a)\n",
        "    t = np.arange(0, len(model.training_accuracy_), len(X_train)//batch_size+1)\n",
        "    ax.set_xticks(ticks=t)\n",
        "    ax.set_xticklabels(labels=np.arange(len(t)))\n",
        "    fig.tight_layout()\n",
        "    plt.show()\n",
        "  \n",
        "  def predict(self, X, y):  \n",
        "    batch_size = 256\n",
        "    pred = []\n",
        "    with torch.no_grad():                                                       \n",
        "      for inputs, targets in self.batch_iterator(X, y, batch_size=batch_size):  # Loop once over the test data\n",
        "        scores = model(inputs)                                                  # Runs the test data through the model\n",
        "        predictions = scores.argmax(dim=2, keepdim=True).squeeze() \n",
        "        mask = targets!=tag2idx['<PAD>']                                        \n",
        "        pred.append(predictions)  \n",
        "      return pred\n",
        "\n",
        "  def score(self, X, y):\n",
        "    batch_size = 256\n",
        "    with torch.no_grad():                                                       \n",
        "      n_correct = 0\n",
        "      n_total = 0\n",
        "      for inputs, targets in self.batch_iterator(X, y, batch_size=batch_size):  # Loop once over the test data\n",
        "        scores = model(inputs)                                                  # Runs the test data through the model\n",
        "        predictions = scores.argmax(dim=2, keepdim=True).squeeze()              # Finds the predictions\n",
        "        mask = targets!=tag2idx['<PAD>']                                        # Create a mask for ignoring <PAD> in the targets; MASK = non_pad_elements\n",
        "        n_correct += (predictions[mask] == targets[mask]).sum().item()          # Sums the number of correct predictions\n",
        "        n_total += mask.sum().item()\n",
        "    return 100*n_correct/n_total                                                #accuracy"
      ],
      "execution_count": 112,
      "outputs": []
    },
    {
      "cell_type": "markdown",
      "metadata": {
        "id": "IhxIG67ix6lj"
      },
      "source": [
        "### Tuning hyperparameters\n",
        "Looking for the best model."
      ]
    },
    {
      "cell_type": "code",
      "metadata": {
        "id": "cuK5DLNxx6lk"
      },
      "source": [
        "import warnings\n",
        "\n",
        "#Hyperparameters\n",
        "model_types = ['LSTM', 'GRU']\n",
        "bidirectional_values= [False, True]\n",
        "dropout_values = [0.0, 0.01, 0.001]\n",
        "dimensions = [32, 64, 96, 128]\n",
        "hid_dimensions = [32, 64, 96, 128]\n",
        "\n",
        "#dataframe\n",
        "results = []\n",
        "\n",
        "for model_type in model_types:\n",
        "  for dim in dimensions:\n",
        "    for h_dim in hid_dimensions:\n",
        "      for bidir in bidirectional_values:\n",
        "        for drop in dropout_values:\n",
        "            with warnings.catch_warnings():\n",
        "              warnings.simplefilter(\"ignore\")\n",
        "              print(f'Training with hyperparameters: model_type [{model_type}], hidden_dim [{h_dim}], word_embedding_dim [{dim}], bidirectional [{bidir}], dropout [{drop}]')\n",
        "              model = Tagger(model_type = model_type,\n",
        "                      word_embedding_dim=dim, #32,                                        \n",
        "                      hidden_dim=h_dim, #64,                                          \n",
        "                      vocabulary_size=len(token2idx),                              \n",
        "                      tagset_size=len(tag2idx)-1,                                  \n",
        "                      bidirectional=bidir,\n",
        "                      dropout=drop)   \n",
        "              \n",
        "              model.fit(X_train, y_train)\n",
        "\n",
        "              model.predict(X_test, y_test)\n",
        "\n",
        "              acc = model.score(X_test, y_test)\n",
        "\n",
        "              #dataframe\n",
        "              results.append({\n",
        "                    'model': model_type,\n",
        "                    'hidden_dim': h_dim,\n",
        "                    'word_embedding_dim': dim,\n",
        "                    'bidirectional': bidir,\n",
        "                    'dropout': drop,\n",
        "                    'Accuracy': acc\n",
        "                      })"
      ],
      "execution_count": null,
      "outputs": []
    },
    {
      "cell_type": "code",
      "metadata": {
        "id": "F2MWylx_x6lm"
      },
      "source": [
        "import pandas as pd\n",
        "eng_results = pd.DataFrame(results)\n",
        "eng_results = eng_results.sort_values(by='Accuracy', ascending=False)\n",
        "print(eng_results)"
      ],
      "execution_count": null,
      "outputs": []
    },
    {
      "cell_type": "markdown",
      "metadata": {
        "id": "YcHU-prdyKEC"
      },
      "source": [
        "### Final model"
      ]
    },
    {
      "cell_type": "code",
      "metadata": {
        "id": "V1OHAipFx6lq"
      },
      "source": [
        "model = Tagger(model_type = \"LSTM\",\n",
        "               word_embedding_dim=64,                                        # Dimensionality of the work embedding\n",
        "               hidden_dim=128,                                           # Dimensionality of the hidden state in the LSTM\n",
        "               vocabulary_size=len(token2idx),                              # The vocabulary incudes both the 'padding' and 'unknown' symbols\n",
        "               tagset_size=len(tag2idx)-1,                                  # We have no interest in the network outputting the padding symbol\n",
        "               bidirectional=True,\n",
        "               dropout=0.001)   "
      ],
      "execution_count": null,
      "outputs": []
    },
    {
      "cell_type": "code",
      "metadata": {
        "id": "OrXfHu7Bx6lr",
        "colab": {
          "base_uri": "https://localhost:8080/"
        },
        "outputId": "4294d9ec-b94f-4cd7-f938-47fdc8bd23f2"
      },
      "source": [
        "model.fit(X_train, y_train)\n",
        "model.score(X_test, y_test)"
      ],
      "execution_count": 130,
      "outputs": [
        {
          "output_type": "stream",
          "text": [
            "Epoch 0: 100%|██████████| 7/7 [00:00<00:00, 11.12batch/s, accuracy=46.2, loss=1.74]\n",
            "Epoch 1: 100%|██████████| 7/7 [00:00<00:00, 11.12batch/s, accuracy=62.4, loss=1.15]\n",
            "Epoch 2: 100%|██████████| 7/7 [00:00<00:00, 11.57batch/s, accuracy=73.2, loss=0.831]\n",
            "Epoch 3: 100%|██████████| 7/7 [00:00<00:00, 11.64batch/s, accuracy=78.2, loss=0.661]\n",
            "Epoch 4: 100%|██████████| 7/7 [00:00<00:00, 12.03batch/s, accuracy=83.2, loss=0.518]\n"
          ],
          "name": "stderr"
        },
        {
          "output_type": "execute_result",
          "data": {
            "text/plain": [
              "85.63892145369284"
            ]
          },
          "metadata": {
            "tags": []
          },
          "execution_count": 130
        }
      ]
    },
    {
      "cell_type": "code",
      "metadata": {
        "id": "vPYA_Sfay_cw",
        "colab": {
          "base_uri": "https://localhost:8080/",
          "height": 297
        },
        "outputId": "564fcfb5-8a78-450e-cdaf-bf761b943f01"
      },
      "source": [
        "model.plot()"
      ],
      "execution_count": 132,
      "outputs": [
        {
          "output_type": "display_data",
          "data": {
            "image/png": "[encoded data removed]",
            "text/plain": [
              "<Figure size 432x288 with 2 Axes>"
            ]
          },
          "metadata": {
            "tags": [],
            "needs_background": "light"
          }
        }
      ]
    },
    {
      "cell_type": "markdown",
      "metadata": {
        "id": "545-7eF7f1mD"
      },
      "source": [
        "### Baseline model\n",
        "\n",
        "As a Baseline model, I decided to use the most Vanilla LTSM, which was implemented in the beginning."
      ]
    },
    {
      "cell_type": "code",
      "metadata": {
        "id": "Si7opwFQf1mR"
      },
      "source": [
        "model = Tagger(model_type = \"LSTM\",\n",
        "               word_embedding_dim=32,\n",
        "               hidden_dim=64, \n",
        "               vocabulary_size=len(token2idx),                             \n",
        "               tagset_size=len(tag2idx)-1)   "
      ],
      "execution_count": 133,
      "outputs": []
    },
    {
      "cell_type": "code",
      "metadata": {
        "colab": {
          "base_uri": "https://localhost:8080/",
          "height": 501
        },
        "id": "-LxeBtCwqX59",
        "outputId": "53db0aad-a693-4103-edd5-df86e64b7b52"
      },
      "source": [
        "# training\n",
        "model.fit(X_train, y_train)\n",
        "\n",
        "#score\n",
        "score = model.score(X_test, y_test)\n",
        "print('\\n')\n",
        "print('====')\n",
        "print(f'Accuracy for the Baseline model is {score}')\n",
        "print('====')\n",
        "print('\\n')\n",
        "\n",
        "#plot\n",
        "model.plot()"
      ],
      "execution_count": 134,
      "outputs": [
        {
          "output_type": "stream",
          "text": [
            "Epoch 0: 100%|██████████| 7/7 [00:00<00:00, 15.26batch/s, accuracy=32.9, loss=2.33]\n",
            "Epoch 1: 100%|██████████| 7/7 [00:00<00:00, 15.38batch/s, accuracy=50.7, loss=1.8]\n",
            "Epoch 2: 100%|██████████| 7/7 [00:00<00:00, 15.34batch/s, accuracy=55.1, loss=1.43]\n",
            "Epoch 3: 100%|██████████| 7/7 [00:00<00:00, 15.38batch/s, accuracy=61.6, loss=1.2]\n",
            "Epoch 4: 100%|██████████| 7/7 [00:00<00:00, 15.61batch/s, accuracy=66.1, loss=1.04]\n"
          ],
          "name": "stderr"
        },
        {
          "output_type": "stream",
          "text": [
            "\n",
            "\n",
            "====\n",
            "Accuracy for the Baseline model is 72.30363423212192\n",
            "====\n",
            "\n",
            "\n"
          ],
          "name": "stdout"
        },
        {
          "output_type": "display_data",
          "data": {
            "image/png": "[encoded data removed]",
            "text/plain": [
              "<Figure size 432x288 with 2 Axes>"
            ]
          },
          "metadata": {
            "tags": [],
            "needs_background": "light"
          }
        }
      ]
    },
    {
      "cell_type": "markdown",
      "metadata": {
        "id": "J9YzDOdxwe6f"
      },
      "source": [
        "## Swedish"
      ]
    },
    {
      "cell_type": "markdown",
      "metadata": {
        "id": "hJwqOTECwrrA"
      },
      "source": [
        "### Loading & parsing CONLLU files"
      ]
    },
    {
      "cell_type": "code",
      "metadata": {
        "id": "PRYQsz4Qupea"
      },
      "source": [
        "def load_conllu(file):\n",
        "    X = []  #words\n",
        "    Y = []  #labels\n",
        "    global sents\n",
        "    sents = []\n",
        "    \n",
        "    with open(file, \"r\") as f:\n",
        "      if file.endswith(\".conllu\"):\n",
        "          sentences = f.read().split(\"\\n\\n\")\n",
        "          if sentences[-1] == \"\":\n",
        "              sentences = sentences[:-1]\n",
        "          for sentence in sentences:\n",
        "              words = []\n",
        "              tags =  []\n",
        "              sent = []\n",
        "              lines = sentence.split(\"\\n\")\n",
        "              for line in lines:\n",
        "                  if line.startswith(\"#\"):\n",
        "                      continue\n",
        "                  line = line.strip().split(\"\\t\")\n",
        "\n",
        "                  word = line[1].lower() \n",
        "                  tag = line[3]\n",
        "\n",
        "                  words.append(word) \n",
        "                  tags.append(tag)\n",
        "                  sent.append((word,tag))\n",
        "\n",
        "              X.append(words)\n",
        "              Y.append(tags)\n",
        "              sents.append(sent)\n",
        "      else:\n",
        "          print(\"The file needs to be .conllu\")\n",
        "\n",
        "    return X, Y\n"
      ],
      "execution_count": 135,
      "outputs": []
    },
    {
      "cell_type": "code",
      "metadata": {
        "id": "wMD4XsfxHnN4"
      },
      "source": [
        "# Load Swedish datasets\n",
        "X_test, y_test = load_dataset('/content/UD_Swedish-LinES-master/sv_lines-ud-test.conllu')\n",
        "X_train, y_train = load_dataset('/content/UD_Swedish-LinES-master/sv_lines-ud-train.conllu')  "
      ],
      "execution_count": 136,
      "outputs": []
    },
    {
      "cell_type": "code",
      "metadata": {
        "colab": {
          "base_uri": "https://localhost:8080/"
        },
        "id": "vCPOHY4Lvhd4",
        "outputId": "0e623b82-5eec-4af3-9285-da41fed1242c"
      },
      "source": [
        "X = X_train + X_test\n",
        "y = y_train + y_test\n",
        "\n",
        "#print(X_test[:5])\n",
        "#print(y_test[:5])\n",
        "#print(X_train[:5])\n",
        "#print(y_train[:5])\n",
        "\n",
        "assert len(X_train) == len(y_train)\n",
        "assert len(X_test) == len(y_test)\n",
        "assert len(X_train)+len(X_test) == len(X)\n",
        "\n",
        "print(\"The training set includes %i sentences.\" % len(X_train))\n",
        "print(\"The test set includes %i sentences.\" % len(X_test))\n"
      ],
      "execution_count": 137,
      "outputs": [
        {
          "output_type": "stream",
          "text": [
            "The training set includes 3176 sentences.\n",
            "The test set includes 1035 sentences.\n"
          ],
          "name": "stdout"
        }
      ]
    },
    {
      "cell_type": "code",
      "metadata": {
        "colab": {
          "base_uri": "https://localhost:8080/",
          "height": 279
        },
        "id": "nJLBRZL6i_39",
        "outputId": "faf3530e-5972-42ce-de0b-23d9a4b2a039"
      },
      "source": [
        "#plotting the length of sentences\n",
        "l = np.asarray([len(x) for x in X], dtype=np.int)\n",
        "plt.figure(figsize=(8, 4))\n",
        "x = np.unique(l)\n",
        "plt.bar(x, [np.sum(l==e) for e in x], width=1)\n",
        "plt.xlabel(\"Sentence length\")\n",
        "plt.ylabel(\"# sentences\")\n",
        "plt.show()"
      ],
      "execution_count": 138,
      "outputs": [
        {
          "output_type": "display_data",
          "data": {
            "image/png": "[encoded data removed]",
            "text/plain": [
              "<Figure size 576x288 with 1 Axes>"
            ]
          },
          "metadata": {
            "tags": [],
            "needs_background": "light"
          }
        }
      ]
    },
    {
      "cell_type": "markdown",
      "metadata": {
        "id": "Sk5fSDCqwmz-"
      },
      "source": [
        "### Idx2tags & Tag2idx\n",
        "\n"
      ]
    },
    {
      "cell_type": "code",
      "metadata": {
        "id": "9fjVkyDOP9MU",
        "colab": {
          "base_uri": "https://localhost:8080/"
        },
        "outputId": "297f7578-d25d-4261-f450-0ca527a44568"
      },
      "source": [
        "tokens = {token for sentence in X_train for token in sentence}\n",
        "idx2token = list(tokens)\n",
        "idx2token.insert(0, '<UNK>')   #unknown token; unknown class\n",
        "idx2token.append('<PAD>')  #sentences have different lengths, all columns have different rows\n",
        "token2idx = {token:idx for idx, token in enumerate(idx2token)}\n",
        "\n",
        "tags = {tag for tags in y_train for tag in tags}\n",
        "idx2tag = list(tags)\n",
        "idx2tag.append('<PAD>')\n",
        "tag2idx = {tag:idx for idx, tag in enumerate(idx2tag)}\n",
        "\n",
        "print(idx2token[:30])\n",
        "print(idx2tag)"
      ],
      "execution_count": 139,
      "outputs": [
        {
          "output_type": "stream",
          "text": [
            "['<UNK>', 'verkar', 'kullvräkt', 'percy', 'kvinnfolk', 'läggas', 'njöt', 'höra', 'konstmuseum', 'vraket', 'uppochner', 'tidiga', 'sistnämnda', 'trängdes', 'snegla', 'etapper', 'utrymmet', 'orsak', 'elits', 'snärtar', 'ända', 'kareernas', 'skillnaden', 'bogserarna', ')', 'overkliga', 'tjänsterum', 'bohéme', 'medellängd', 'förfarandet']\n",
            "['ADV', 'VERB', 'PROPN', 'DET', 'PUNCT', 'CCONJ', 'NOUN', 'NUM', 'ADP', 'SYM', 'PRON', 'SCONJ', 'INTJ', 'PART', 'X', 'ADJ', 'AUX', '<PAD>']\n"
          ],
          "name": "stdout"
        }
      ]
    },
    {
      "cell_type": "markdown",
      "metadata": {
        "id": "8OZnDa4OxDQ3"
      },
      "source": [
        "### RNN Model"
      ]
    },
    {
      "cell_type": "code",
      "metadata": {
        "id": "8mBgfesDxDQ4"
      },
      "source": [
        "class Tagger(nn.Module):\n",
        "  def __init__(self, model_type, word_embedding_dim, hidden_dim, vocabulary_size, tagset_size, bidirectional=False, dropout=0.00, epochs=5):\n",
        "    super(Tagger, self).__init__()    \n",
        "                                          \n",
        "    self.hidden_dim_ = hidden_dim                                     \n",
        "    self.vocabulary_size_ = vocabulary_size\n",
        "    self.tagset_size_ = tagset_size\n",
        "    self.model_type = model_type                                                #Choice between LSTM/GRU\n",
        "    self.bidirectional = bidirectional                                          #Specifies if bidirectional, False as default\n",
        "    self.dropout = dropout                                                      #Specifies dropout, 0 as default\n",
        "    self.epochs = epochs                                                        #Specifies the number of epochs, 5 as default\n",
        "\n",
        "    self._word_embedding = nn.Embedding(num_embeddings=vocabulary_size,         # Creates the vector space for the input words\n",
        "                                         embedding_dim=word_embedding_dim, \n",
        "                                         padding_idx=token2idx['<PAD>'])\n",
        "    \n",
        "    if model_type == 'GRU':\n",
        "      self._gru = nn.GRU(input_size=word_embedding_dim,                         # The GRU takes an embedded sentence as input, and outputs \n",
        "                          hidden_size=hidden_dim,                               # vectors with dimensionality gru_hidden_dim.\n",
        "                          batch_first=True,\n",
        "                        bidirectional=bidirectional,\n",
        "                        dropout=dropout)\n",
        "    elif model_type == 'LSTM':\n",
        "      self._lstm = nn.LSTM(input_size=word_embedding_dim,                       # The LSTM takes an embedded sentence as input, and outputs \n",
        "                         hidden_size=hidden_dim,                                # vectors with dimensionality lstm_hidden_dim.\n",
        "                         batch_first=True,\n",
        "                         bidirectional=bidirectional,\n",
        "                         dropout=dropout)\n",
        "    else:\n",
        "      print(\"Model not available\")                                              #printing error message if model type not LSTM/GRU\n",
        "\n",
        "    #connected layer\n",
        "    if bidirectional:\n",
        "      self._fc = nn.Linear(hidden_dim*2, tagset_size)                           # doubled hidden dimensions if bidirectional\n",
        "    else:\n",
        "      self._fc = nn.Linear(hidden_dim, tagset_size)                             # The linear layer maps from the RNN output space to tag space\n",
        "\n",
        "    self._softmax = nn.LogSoftmax(dim=1)                                        # Softmax of outputting PDFs over tags\n",
        "    \n",
        "    self.training_loss_ = list()                                                # For plotting\n",
        "    self.training_accuracy_ = list()\n",
        "\n",
        "    if torch.cuda.is_available():                                               # Move the model to the GPU (if we have one)\n",
        "      self.cuda()\n",
        "\n",
        "\n",
        "  def pad_and_encode(self, sentences, labels):\n",
        "    assert len(sentences)==len(labels)\n",
        "    assert np.all([len(sentence)==len(tags) for sentence, tags in zip(sentences, labels)])\n",
        "    max_sentence_length = np.max([len(sentence) for sentence in sentences])     # Find out how much to pad\n",
        "    padded_sentences = torch.zeros(len(sentences), max_sentence_length,         # Create data structures with <PAD> as default\n",
        "                                  dtype=torch.long)\n",
        "    padded_sentences[:] = token2idx['<PAD>']\n",
        "    padded_labels = torch.zeros(len(sentences), max_sentence_length, \n",
        "                                dtype=torch.long)\n",
        "    padded_labels[:] = tag2idx['<PAD>']\n",
        "    for i, (sentence, tags) in enumerate(zip(sentences, labels)):               # Loop over the data\n",
        "      for j, token in enumerate(sentence):\n",
        "        if token in token2idx.keys():\n",
        "          padded_sentences[i, j] = token2idx[token]\n",
        "        else:\n",
        "          padded_sentences[i, j] = token2idx['<UNK>']\n",
        "      for j, tag in enumerate(tags):\n",
        "        padded_labels[i, j] = tag2idx[tag]\n",
        "    return padded_sentences, padded_labels\n",
        "\n",
        "\n",
        "  def batch_iterator(self, sentences, labels, batch_size=64):\n",
        "    \"\"\"Helper function for iterating over batches of the data\"\"\"\n",
        "    assert len(sentences) == len(labels)\n",
        "    for i in range(0, len(sentences), batch_size):\n",
        "      X, y = self.pad_and_encode(sentences[i:min(i+batch_size, len(sentences))], \n",
        "                              labels[i:min(i+batch_size, len(sentences))])\n",
        "      if torch.cuda.is_available():                                             # Move data to the GPU, if possible, before yielding it\n",
        "        yield (X.cuda(), y.cuda())\n",
        "      else:\n",
        "        yield (X, y)\n",
        "\n",
        "\n",
        "  def forward(self, padded_sentences):\n",
        "     \"\"\"The forward pass through the network\"\"\"\n",
        "\n",
        "     batch_size, max_sentence_length = padded_sentences.size()\n",
        "\n",
        "     embedded_sentences = self._word_embedding(padded_sentences)                 # Sentences encoded as integers are mapped to vectors    \n",
        "\n",
        "     sentence_lengths = (padded_sentences!=token2idx['<PAD>']).sum(dim=1)        # Find the length of sentences\n",
        "     sentence_lengths = sentence_lengths.long().cpu()                            # Ensure the correct format\n",
        "     X = nn.utils.rnn.pack_padded_sequence(embedded_sentences, sentence_lengths, # Pack the embedded data\n",
        "                                            batch_first=True, enforce_sorted=False)\n",
        "     if self.model_type == 'GRU':\n",
        "       gru_out, _ = self._gru(X)                                                   # Run the GRU layer\n",
        "       X, _ = nn.utils.rnn.pad_packed_sequence(gru_out, batch_first=True)          # Unpack the output from the GRU\n",
        "\n",
        "     elif self.model_type == 'LSTM': \n",
        "       lstm_out, _ = self._lstm(X)                                               # Run the LSTM layer\n",
        "       X, _ = nn.utils.rnn.pad_packed_sequence(lstm_out, batch_first=True)         # Unpack the output from the LSTM\n",
        "\n",
        "\n",
        "     X = X.contiguous().view(-1, X.shape[2])                                     # The output from the LSTM/GRU layer is flattened\n",
        "     tag_space = self._fc(X)                                                     # Fully connected layer\n",
        "     tag_scores = self._softmax(tag_space)                                       # Softmax is applied to normalise the outputs\n",
        "\n",
        "     return tag_scores.view(batch_size, max_sentence_length, self.tagset_size_)\n",
        "\n",
        "\n",
        "  def fit(self, X, y):\n",
        "    loss_function = nn.NLLLoss(ignore_index=tag2idx['<PAD>'])                   # A loss function that fits our choice of output layer and data.\n",
        "                                                                                # loss function will ignore the padding index in the targets.\n",
        "    optimizer = torch.optim.Adam(model.parameters(), lr=0.01)                   # We give the optimiser the parameters to work with, note that we can choose to only give some parameters\n",
        "\n",
        "    batch_size = 256                                                            # Define the size of each batch\n",
        "    for epoch in range(self.epochs):                                            # Times to loop over the full dataset\n",
        "      with tqdm(self.batch_iterator(X_train, y_train, batch_size), \n",
        "           total=len(X_train)//batch_size+1, unit=\"batch\", desc=\"Epoch %i\" % epoch) as batches:\n",
        "        for inputs, targets in batches:                                         # Loop once over the training data\n",
        "          model.zero_grad()                                                     # Reset gradients\n",
        "          scores = model(inputs)                                                # Forward pass\n",
        "          loss = loss_function(scores.view(-1, model.tagset_size_),             # Get loss, the data is reshaped as a long line of predictions and targets\n",
        "                              targets.view(-1))               \n",
        "          loss.backward()                                                       # Backpropagate the error\n",
        "          optimizer.step()                                                      # Run the optimizer to change the weights w.r.t the loss\n",
        "          predictions = scores.argmax(dim=2, keepdim=True).squeeze()            # Calculate the batch training accuracy\n",
        "          mask = targets!=tag2idx['<PAD>']                                      # Create a mask for ignoring <PAD> in the targets\n",
        "          correct = (predictions[mask] == targets[mask]).sum().item()           # Item pulls the value from the GPU automatically (if needed)\n",
        "          accuracy = correct / mask.sum().item()*100\n",
        "          model.training_accuracy_.append(accuracy)                             # Save the accuracy for plotting\n",
        "          model.training_loss_.append(loss.item())                              # Save the loss for plotting\n",
        "          batches.set_postfix(loss=loss.item(), accuracy=accuracy)              # Update the progress bar\n",
        "  \n",
        "  def plot(self):\n",
        "    batch_size = 256\n",
        "    fig = plt.figure(figsize=(6, 4))\n",
        "    ax = plt.subplot()\n",
        "    ax.set_title(\"Plot for the (hopefully) decreasing loss over epochs\")\n",
        "    ax.plot(model.training_loss_, 'b-')\n",
        "    ax.set_ylabel(\"Training Loss\", color='b')\n",
        "    ax.set_xlabel(\"Epoch\")\n",
        "    # ax.set_yscale('log')\n",
        "    ax.tick_params(axis='y', labelcolor='b')\n",
        "    ax = ax.twinx()\n",
        "    ax.plot(model.training_accuracy_, 'r-')\n",
        "    ax.set_ylabel(\"Accuracy [%]\", color='r')\n",
        "    ax.tick_params(axis='y', labelcolor='r')\n",
        "    a = list(ax.axis())\n",
        "    a[2] = 0\n",
        "    a[3] = 100\n",
        "    ax.axis(a)\n",
        "    t = np.arange(0, len(model.training_accuracy_), len(X_train)//batch_size+1)\n",
        "    ax.set_xticks(ticks=t)\n",
        "    ax.set_xticklabels(labels=np.arange(len(t)))\n",
        "    fig.tight_layout()\n",
        "    plt.show()\n",
        "  \n",
        "  def predict(self, X, y): \n",
        "    batch_size = 256\n",
        "    pred = []\n",
        "    with torch.no_grad():                                                       \n",
        "      for inputs, targets in self.batch_iterator(X, y, batch_size=batch_size):  # Loop once over the test data\n",
        "        scores = model(inputs)                                                  # Runs the test data through the model\n",
        "        predictions = scores.argmax(dim=2, keepdim=True).squeeze() \n",
        "        mask = targets!=tag2idx['<PAD>']                                        \n",
        "        pred.append(predictions)  \n",
        "      return pred\n",
        "\n",
        "  def score(self, X, y):\n",
        "    batch_size = 256\n",
        "    with torch.no_grad():                                                       \n",
        "      n_correct = 0\n",
        "      n_total = 0\n",
        "      for inputs, targets in self.batch_iterator(X, y, batch_size=batch_size):  # Loop once over the test data\n",
        "        scores = model(inputs)                                                  # Runs the test data through the model\n",
        "        predictions = scores.argmax(dim=2, keepdim=True).squeeze()              # Finds the predictions\n",
        "        mask = targets!=tag2idx['<PAD>']                                        # Create a mask for ignoring <PAD> in the targets; MASK = non_pad_elements\n",
        "        n_correct += (predictions[mask] == targets[mask]).sum().item()          # Sums the number of correct predictions\n",
        "        n_total += mask.sum().item()\n",
        "    return 100*n_correct/n_total\n",
        "    #print(\"Test accuracy %.1f%%\" % (100*n_correct/n_total))"
      ],
      "execution_count": 64,
      "outputs": []
    },
    {
      "cell_type": "markdown",
      "metadata": {
        "id": "DWzCXt5Uxa2E"
      },
      "source": [
        "### Tuning hyperparameters\n",
        "Looking for the best model."
      ]
    },
    {
      "cell_type": "code",
      "metadata": {
        "colab": {
          "base_uri": "https://localhost:8080/"
        },
        "id": "DQWVG_5Uxa2E",
        "outputId": "f05b64e3-83e5-4055-a9bd-bebe870953ef"
      },
      "source": [
        "import warnings\n",
        "\n",
        "#Hyperparameters\n",
        "model_types = ['LSTM', 'GRU']\n",
        "bidirectional_values= [False, True]\n",
        "dropout_values = [0.0, 0.01, 0.001]\n",
        "dimensions = [32, 64, 96, 128]\n",
        "hid_dimensions = [32, 64, 96, 128]\n",
        "\n",
        "#dataframe\n",
        "results = []\n",
        "\n",
        "for model_type in model_types:\n",
        "  for dim in dimensions:\n",
        "    for h_dim in hid_dimensions:\n",
        "      for bidir in bidirectional_values:\n",
        "        for drop in dropout_values:\n",
        "            with warnings.catch_warnings():\n",
        "              warnings.simplefilter(\"ignore\")\n",
        "              print(f'Training with hyperparameters: model_type [{model_type}], hidden_dim [{h_dim}], word_embedding_dim [{dim}], bidirectional [{bidir}], dropout [{drop}]')\n",
        "              model = Tagger(model_type = model_type,\n",
        "                      word_embedding_dim=dim, #32,                                        \n",
        "                      hidden_dim=h_dim, #64,                                          \n",
        "                      vocabulary_size=len(token2idx),                              \n",
        "                      tagset_size=len(tag2idx)-1,                                  \n",
        "                      bidirectional=bidir,\n",
        "                      dropout=drop)   \n",
        "              \n",
        "              model.fit(X_train, y_train)\n",
        "\n",
        "              model.predict(X_test, y_test)\n",
        "\n",
        "              acc = model.score(X_test, y_test)\n",
        "\n",
        "              #dataframe\n",
        "              results.append({\n",
        "                    'model': model_type,\n",
        "                    'hidden_dim': h_dim,\n",
        "                    'word_embedding_dim': dim,\n",
        "                    'bidirectional': bidir,\n",
        "                    'dropout': drop,\n",
        "                    'Accuracy': acc\n",
        "                      })"
      ],
      "execution_count": 147,
      "outputs": [
        {
          "output_type": "stream",
          "text": [
            "Epoch 0:  23%|██▎       | 3/13 [00:00<00:00, 21.60batch/s, accuracy=29.5, loss=2.69]"
          ],
          "name": "stderr"
        },
        {
          "output_type": "stream",
          "text": [
            "Training with hyperparameters: model_type [LSTM], hidden_dim [32], word_embedding_dim [32], bidirectional [False], dropout [0.0]\n"
          ],
          "name": "stdout"
        },
        {
          "output_type": "stream",
          "text": [
            "Epoch 0: 100%|██████████| 13/13 [00:00<00:00, 20.44batch/s, accuracy=40.5, loss=2.07]\n",
            "Epoch 1: 100%|██████████| 13/13 [00:00<00:00, 20.93batch/s, accuracy=54.1, loss=1.51]\n",
            "Epoch 2: 100%|██████████| 13/13 [00:00<00:00, 20.83batch/s, accuracy=69.4, loss=1.07]\n",
            "Epoch 3: 100%|██████████| 13/13 [00:00<00:00, 20.37batch/s, accuracy=77.5, loss=0.79]\n",
            "Epoch 4: 100%|██████████| 13/13 [00:00<00:00, 21.46batch/s, accuracy=83.4, loss=0.595]\n",
            "Epoch 0:  23%|██▎       | 3/13 [00:00<00:00, 21.43batch/s, accuracy=27.7, loss=2.69]"
          ],
          "name": "stderr"
        },
        {
          "output_type": "stream",
          "text": [
            "Training with hyperparameters: model_type [LSTM], hidden_dim [32], word_embedding_dim [32], bidirectional [False], dropout [0.01]\n"
          ],
          "name": "stdout"
        },
        {
          "output_type": "stream",
          "text": [
            "Epoch 0: 100%|██████████| 13/13 [00:00<00:00, 20.80batch/s, accuracy=44.1, loss=2.03]\n",
            "Epoch 1: 100%|██████████| 13/13 [00:00<00:00, 20.55batch/s, accuracy=59.9, loss=1.41]\n",
            "Epoch 2: 100%|██████████| 13/13 [00:00<00:00, 21.52batch/s, accuracy=71.5, loss=1.01]\n",
            "Epoch 3: 100%|██████████| 13/13 [00:00<00:00, 21.25batch/s, accuracy=78.5, loss=0.763]\n",
            "Epoch 4: 100%|██████████| 13/13 [00:00<00:00, 20.99batch/s, accuracy=83.3, loss=0.584]\n",
            "Epoch 0:  23%|██▎       | 3/13 [00:00<00:00, 22.89batch/s, accuracy=22.1, loss=2.67]"
          ],
          "name": "stderr"
        },
        {
          "output_type": "stream",
          "text": [
            "Training with hyperparameters: model_type [LSTM], hidden_dim [32], word_embedding_dim [32], bidirectional [False], dropout [0.001]\n"
          ],
          "name": "stdout"
        },
        {
          "output_type": "stream",
          "text": [
            "Epoch 0: 100%|██████████| 13/13 [00:00<00:00, 21.18batch/s, accuracy=40.8, loss=1.95]\n",
            "Epoch 1: 100%|██████████| 13/13 [00:00<00:00, 20.61batch/s, accuracy=59.8, loss=1.34]\n",
            "Epoch 2: 100%|██████████| 13/13 [00:00<00:00, 21.36batch/s, accuracy=70.7, loss=0.972]\n",
            "Epoch 3: 100%|██████████| 13/13 [00:00<00:00, 21.27batch/s, accuracy=77.7, loss=0.738]\n",
            "Epoch 4: 100%|██████████| 13/13 [00:00<00:00, 20.65batch/s, accuracy=82.1, loss=0.583]\n",
            "Epoch 0:  23%|██▎       | 3/13 [00:00<00:00, 20.65batch/s, accuracy=24.9, loss=2.73]"
          ],
          "name": "stderr"
        },
        {
          "output_type": "stream",
          "text": [
            "Training with hyperparameters: model_type [LSTM], hidden_dim [32], word_embedding_dim [32], bidirectional [True], dropout [0.0]\n"
          ],
          "name": "stdout"
        },
        {
          "output_type": "stream",
          "text": [
            "Epoch 0: 100%|██████████| 13/13 [00:00<00:00, 19.29batch/s, accuracy=44.7, loss=1.85]\n",
            "Epoch 1: 100%|██████████| 13/13 [00:00<00:00, 19.25batch/s, accuracy=61.4, loss=1.23]\n",
            "Epoch 2: 100%|██████████| 13/13 [00:00<00:00, 19.42batch/s, accuracy=76.1, loss=0.827]\n",
            "Epoch 3: 100%|██████████| 13/13 [00:00<00:00, 18.48batch/s, accuracy=83.7, loss=0.588]\n",
            "Epoch 4: 100%|██████████| 13/13 [00:00<00:00, 18.93batch/s, accuracy=87.6, loss=0.432]\n",
            "Epoch 0:  23%|██▎       | 3/13 [00:00<00:00, 20.83batch/s, accuracy=22.5, loss=2.66]"
          ],
          "name": "stderr"
        },
        {
          "output_type": "stream",
          "text": [
            "Training with hyperparameters: model_type [LSTM], hidden_dim [32], word_embedding_dim [32], bidirectional [True], dropout [0.01]\n"
          ],
          "name": "stdout"
        },
        {
          "output_type": "stream",
          "text": [
            "Epoch 0: 100%|██████████| 13/13 [00:00<00:00, 19.08batch/s, accuracy=46.1, loss=1.8]\n",
            "Epoch 1: 100%|██████████| 13/13 [00:00<00:00, 19.34batch/s, accuracy=64.2, loss=1.17]\n",
            "Epoch 2: 100%|██████████| 13/13 [00:00<00:00, 18.54batch/s, accuracy=75.9, loss=0.781]\n",
            "Epoch 3: 100%|██████████| 13/13 [00:00<00:00, 19.16batch/s, accuracy=84.2, loss=0.536]\n",
            "Epoch 4: 100%|██████████| 13/13 [00:00<00:00, 19.16batch/s, accuracy=89.1, loss=0.376]\n",
            "Epoch 0:  23%|██▎       | 3/13 [00:00<00:00, 20.87batch/s, accuracy=29.9, loss=2.63]"
          ],
          "name": "stderr"
        },
        {
          "output_type": "stream",
          "text": [
            "Training with hyperparameters: model_type [LSTM], hidden_dim [32], word_embedding_dim [32], bidirectional [True], dropout [0.001]\n"
          ],
          "name": "stdout"
        },
        {
          "output_type": "stream",
          "text": [
            "Epoch 0: 100%|██████████| 13/13 [00:00<00:00, 19.21batch/s, accuracy=47.3, loss=1.81]\n",
            "Epoch 1: 100%|██████████| 13/13 [00:00<00:00, 18.89batch/s, accuracy=66.9, loss=1.12]\n",
            "Epoch 2: 100%|██████████| 13/13 [00:00<00:00, 19.13batch/s, accuracy=77.6, loss=0.766]\n",
            "Epoch 3: 100%|██████████| 13/13 [00:00<00:00, 18.86batch/s, accuracy=84, loss=0.543]\n",
            "Epoch 4: 100%|██████████| 13/13 [00:00<00:00, 18.68batch/s, accuracy=89.2, loss=0.389]\n",
            "Epoch 0:  23%|██▎       | 3/13 [00:00<00:00, 21.40batch/s, accuracy=27.2, loss=2.61]"
          ],
          "name": "stderr"
        },
        {
          "output_type": "stream",
          "text": [
            "Training with hyperparameters: model_type [LSTM], hidden_dim [64], word_embedding_dim [32], bidirectional [False], dropout [0.0]\n"
          ],
          "name": "stdout"
        },
        {
          "output_type": "stream",
          "text": [
            "Epoch 0: 100%|██████████| 13/13 [00:00<00:00, 20.58batch/s, accuracy=42.8, loss=1.88]\n",
            "Epoch 1: 100%|██████████| 13/13 [00:00<00:00, 21.24batch/s, accuracy=64.5, loss=1.23]\n",
            "Epoch 2: 100%|██████████| 13/13 [00:00<00:00, 20.92batch/s, accuracy=72.6, loss=0.861]\n",
            "Epoch 3: 100%|██████████| 13/13 [00:00<00:00, 20.48batch/s, accuracy=79.9, loss=0.641]\n",
            "Epoch 4: 100%|██████████| 13/13 [00:00<00:00, 20.22batch/s, accuracy=85.1, loss=0.485]\n",
            "Epoch 0:  23%|██▎       | 3/13 [00:00<00:00, 22.06batch/s, accuracy=25.1, loss=2.54]"
          ],
          "name": "stderr"
        },
        {
          "output_type": "stream",
          "text": [
            "Training with hyperparameters: model_type [LSTM], hidden_dim [64], word_embedding_dim [32], bidirectional [False], dropout [0.01]\n"
          ],
          "name": "stdout"
        },
        {
          "output_type": "stream",
          "text": [
            "Epoch 0: 100%|██████████| 13/13 [00:00<00:00, 21.11batch/s, accuracy=49.5, loss=1.81]\n",
            "Epoch 1: 100%|██████████| 13/13 [00:00<00:00, 20.36batch/s, accuracy=65.1, loss=1.2]\n",
            "Epoch 2: 100%|██████████| 13/13 [00:00<00:00, 20.60batch/s, accuracy=73.2, loss=0.855]\n",
            "Epoch 3: 100%|██████████| 13/13 [00:00<00:00, 20.26batch/s, accuracy=80.1, loss=0.652]\n",
            "Epoch 4: 100%|██████████| 13/13 [00:00<00:00, 20.20batch/s, accuracy=84.1, loss=0.493]\n",
            "Epoch 0:  23%|██▎       | 3/13 [00:00<00:00, 22.25batch/s, accuracy=29.2, loss=2.64]"
          ],
          "name": "stderr"
        },
        {
          "output_type": "stream",
          "text": [
            "Training with hyperparameters: model_type [LSTM], hidden_dim [64], word_embedding_dim [32], bidirectional [False], dropout [0.001]\n"
          ],
          "name": "stdout"
        },
        {
          "output_type": "stream",
          "text": [
            "Epoch 0: 100%|██████████| 13/13 [00:00<00:00, 20.59batch/s, accuracy=44.7, loss=1.88]\n",
            "Epoch 1: 100%|██████████| 13/13 [00:00<00:00, 20.20batch/s, accuracy=62.6, loss=1.22]\n",
            "Epoch 2: 100%|██████████| 13/13 [00:00<00:00, 20.06batch/s, accuracy=73.2, loss=0.881]\n",
            "Epoch 3: 100%|██████████| 13/13 [00:00<00:00, 20.26batch/s, accuracy=80.2, loss=0.662]\n",
            "Epoch 4: 100%|██████████| 13/13 [00:00<00:00, 20.50batch/s, accuracy=84.6, loss=0.51]\n",
            "Epoch 0:  15%|█▌        | 2/13 [00:00<00:00, 18.20batch/s, accuracy=27.3, loss=2.65]"
          ],
          "name": "stderr"
        },
        {
          "output_type": "stream",
          "text": [
            "Training with hyperparameters: model_type [LSTM], hidden_dim [64], word_embedding_dim [32], bidirectional [True], dropout [0.0]\n"
          ],
          "name": "stdout"
        },
        {
          "output_type": "stream",
          "text": [
            "Epoch 0: 100%|██████████| 13/13 [00:00<00:00, 17.66batch/s, accuracy=48.1, loss=1.67]\n",
            "Epoch 1: 100%|██████████| 13/13 [00:00<00:00, 17.78batch/s, accuracy=67.6, loss=1.03]\n",
            "Epoch 2: 100%|██████████| 13/13 [00:00<00:00, 18.01batch/s, accuracy=78.8, loss=0.662]\n",
            "Epoch 3: 100%|██████████| 13/13 [00:00<00:00, 18.09batch/s, accuracy=86, loss=0.458]\n",
            "Epoch 4: 100%|██████████| 13/13 [00:00<00:00, 17.41batch/s, accuracy=91.1, loss=0.317]\n",
            "Epoch 0:  15%|█▌        | 2/13 [00:00<00:00, 19.40batch/s, accuracy=25.1, loss=2.61]"
          ],
          "name": "stderr"
        },
        {
          "output_type": "stream",
          "text": [
            "Training with hyperparameters: model_type [LSTM], hidden_dim [64], word_embedding_dim [32], bidirectional [True], dropout [0.01]\n"
          ],
          "name": "stdout"
        },
        {
          "output_type": "stream",
          "text": [
            "Epoch 0: 100%|██████████| 13/13 [00:00<00:00, 17.78batch/s, accuracy=51, loss=1.56]\n",
            "Epoch 1: 100%|██████████| 13/13 [00:00<00:00, 17.59batch/s, accuracy=68.4, loss=0.97]\n",
            "Epoch 2: 100%|██████████| 13/13 [00:00<00:00, 17.37batch/s, accuracy=78.3, loss=0.665]\n",
            "Epoch 3: 100%|██████████| 13/13 [00:00<00:00, 17.68batch/s, accuracy=85.4, loss=0.471]\n",
            "Epoch 4: 100%|██████████| 13/13 [00:00<00:00, 17.78batch/s, accuracy=89.3, loss=0.336]\n",
            "Epoch 0:  15%|█▌        | 2/13 [00:00<00:00, 18.50batch/s, accuracy=22, loss=2.6]  "
          ],
          "name": "stderr"
        },
        {
          "output_type": "stream",
          "text": [
            "Training with hyperparameters: model_type [LSTM], hidden_dim [64], word_embedding_dim [32], bidirectional [True], dropout [0.001]\n"
          ],
          "name": "stdout"
        },
        {
          "output_type": "stream",
          "text": [
            "Epoch 0: 100%|██████████| 13/13 [00:00<00:00, 17.49batch/s, accuracy=52.8, loss=1.53]\n",
            "Epoch 1: 100%|██████████| 13/13 [00:00<00:00, 17.83batch/s, accuracy=69.2, loss=0.946]\n",
            "Epoch 2: 100%|██████████| 13/13 [00:00<00:00, 17.72batch/s, accuracy=79.7, loss=0.629]\n",
            "Epoch 3: 100%|██████████| 13/13 [00:00<00:00, 18.02batch/s, accuracy=86.6, loss=0.438]\n",
            "Epoch 4: 100%|██████████| 13/13 [00:00<00:00, 17.42batch/s, accuracy=90, loss=0.312]\n",
            "Epoch 0:  23%|██▎       | 3/13 [00:00<00:00, 21.21batch/s, accuracy=27, loss=2.67]"
          ],
          "name": "stderr"
        },
        {
          "output_type": "stream",
          "text": [
            "Training with hyperparameters: model_type [LSTM], hidden_dim [96], word_embedding_dim [32], bidirectional [False], dropout [0.0]\n"
          ],
          "name": "stdout"
        },
        {
          "output_type": "stream",
          "text": [
            "Epoch 0: 100%|██████████| 13/13 [00:00<00:00, 19.96batch/s, accuracy=47.8, loss=1.69]\n",
            "Epoch 1: 100%|██████████| 13/13 [00:00<00:00, 19.40batch/s, accuracy=65.7, loss=1.09]\n",
            "Epoch 2: 100%|██████████| 13/13 [00:00<00:00, 19.51batch/s, accuracy=73.8, loss=0.807]\n",
            "Epoch 3: 100%|██████████| 13/13 [00:00<00:00, 19.76batch/s, accuracy=80.3, loss=0.609]\n",
            "Epoch 4: 100%|██████████| 13/13 [00:00<00:00, 19.44batch/s, accuracy=85.4, loss=0.457]\n",
            "Epoch 0:  23%|██▎       | 3/13 [00:00<00:00, 21.33batch/s, accuracy=27.1, loss=2.64]"
          ],
          "name": "stderr"
        },
        {
          "output_type": "stream",
          "text": [
            "Training with hyperparameters: model_type [LSTM], hidden_dim [96], word_embedding_dim [32], bidirectional [False], dropout [0.01]\n"
          ],
          "name": "stdout"
        },
        {
          "output_type": "stream",
          "text": [
            "Epoch 0: 100%|██████████| 13/13 [00:00<00:00, 19.39batch/s, accuracy=49.2, loss=1.66]\n",
            "Epoch 1: 100%|██████████| 13/13 [00:00<00:00, 19.71batch/s, accuracy=64.4, loss=1.13]\n",
            "Epoch 2: 100%|██████████| 13/13 [00:00<00:00, 19.57batch/s, accuracy=73.6, loss=0.801]\n",
            "Epoch 3: 100%|██████████| 13/13 [00:00<00:00, 19.83batch/s, accuracy=81.5, loss=0.586]\n",
            "Epoch 4: 100%|██████████| 13/13 [00:00<00:00, 19.89batch/s, accuracy=86.6, loss=0.433]\n",
            "Epoch 0:  23%|██▎       | 3/13 [00:00<00:00, 21.12batch/s, accuracy=18.5, loss=2.45]"
          ],
          "name": "stderr"
        },
        {
          "output_type": "stream",
          "text": [
            "Training with hyperparameters: model_type [LSTM], hidden_dim [96], word_embedding_dim [32], bidirectional [False], dropout [0.001]\n"
          ],
          "name": "stdout"
        },
        {
          "output_type": "stream",
          "text": [
            "Epoch 0: 100%|██████████| 13/13 [00:00<00:00, 19.97batch/s, accuracy=51, loss=1.61]\n",
            "Epoch 1: 100%|██████████| 13/13 [00:00<00:00, 19.74batch/s, accuracy=65.7, loss=1.06]\n",
            "Epoch 2: 100%|██████████| 13/13 [00:00<00:00, 19.28batch/s, accuracy=75.3, loss=0.776]\n",
            "Epoch 3: 100%|██████████| 13/13 [00:00<00:00, 19.52batch/s, accuracy=80.9, loss=0.599]\n",
            "Epoch 4: 100%|██████████| 13/13 [00:00<00:00, 19.98batch/s, accuracy=86.1, loss=0.466]\n",
            "Epoch 0:  15%|█▌        | 2/13 [00:00<00:00, 17.18batch/s, accuracy=23.9, loss=2.56]"
          ],
          "name": "stderr"
        },
        {
          "output_type": "stream",
          "text": [
            "Training with hyperparameters: model_type [LSTM], hidden_dim [96], word_embedding_dim [32], bidirectional [True], dropout [0.0]\n"
          ],
          "name": "stdout"
        },
        {
          "output_type": "stream",
          "text": [
            "Epoch 0: 100%|██████████| 13/13 [00:00<00:00, 16.46batch/s, accuracy=54.7, loss=1.45]\n",
            "Epoch 1: 100%|██████████| 13/13 [00:00<00:00, 16.47batch/s, accuracy=69.9, loss=0.894]\n",
            "Epoch 2: 100%|██████████| 13/13 [00:00<00:00, 16.69batch/s, accuracy=81, loss=0.594]\n",
            "Epoch 3: 100%|██████████| 13/13 [00:00<00:00, 16.55batch/s, accuracy=87.6, loss=0.404]\n",
            "Epoch 4: 100%|██████████| 13/13 [00:00<00:00, 16.47batch/s, accuracy=92, loss=0.272]\n",
            "Epoch 0:  15%|█▌        | 2/13 [00:00<00:00, 18.48batch/s, accuracy=26.4, loss=2.57]"
          ],
          "name": "stderr"
        },
        {
          "output_type": "stream",
          "text": [
            "Training with hyperparameters: model_type [LSTM], hidden_dim [96], word_embedding_dim [32], bidirectional [True], dropout [0.01]\n"
          ],
          "name": "stdout"
        },
        {
          "output_type": "stream",
          "text": [
            "Epoch 0: 100%|██████████| 13/13 [00:00<00:00, 16.14batch/s, accuracy=55.8, loss=1.42]\n",
            "Epoch 1: 100%|██████████| 13/13 [00:00<00:00, 16.05batch/s, accuracy=71.4, loss=0.904]\n",
            "Epoch 2: 100%|██████████| 13/13 [00:00<00:00, 16.02batch/s, accuracy=80.2, loss=0.607]\n",
            "Epoch 3: 100%|██████████| 13/13 [00:00<00:00, 16.09batch/s, accuracy=86.8, loss=0.413]\n",
            "Epoch 4: 100%|██████████| 13/13 [00:00<00:00, 16.22batch/s, accuracy=91.4, loss=0.287]\n",
            "Epoch 0:  15%|█▌        | 2/13 [00:00<00:00, 18.09batch/s, accuracy=21.4, loss=2.56]"
          ],
          "name": "stderr"
        },
        {
          "output_type": "stream",
          "text": [
            "Training with hyperparameters: model_type [LSTM], hidden_dim [96], word_embedding_dim [32], bidirectional [True], dropout [0.001]\n"
          ],
          "name": "stdout"
        },
        {
          "output_type": "stream",
          "text": [
            "Epoch 0: 100%|██████████| 13/13 [00:00<00:00, 16.16batch/s, accuracy=54.4, loss=1.43]\n",
            "Epoch 1: 100%|██████████| 13/13 [00:00<00:00, 16.73batch/s, accuracy=72.9, loss=0.85]\n",
            "Epoch 2: 100%|██████████| 13/13 [00:00<00:00, 16.75batch/s, accuracy=82.6, loss=0.544]\n",
            "Epoch 3: 100%|██████████| 13/13 [00:00<00:00, 16.76batch/s, accuracy=88.8, loss=0.368]\n",
            "Epoch 4: 100%|██████████| 13/13 [00:00<00:00, 16.70batch/s, accuracy=92.4, loss=0.255]\n",
            "Epoch 0:  23%|██▎       | 3/13 [00:00<00:00, 20.52batch/s, accuracy=18.1, loss=2.56]"
          ],
          "name": "stderr"
        },
        {
          "output_type": "stream",
          "text": [
            "Training with hyperparameters: model_type [LSTM], hidden_dim [128], word_embedding_dim [32], bidirectional [False], dropout [0.0]\n"
          ],
          "name": "stdout"
        },
        {
          "output_type": "stream",
          "text": [
            "Epoch 0: 100%|██████████| 13/13 [00:00<00:00, 18.45batch/s, accuracy=47.5, loss=1.66]\n",
            "Epoch 1: 100%|██████████| 13/13 [00:00<00:00, 18.55batch/s, accuracy=64.6, loss=1.09]\n",
            "Epoch 2: 100%|██████████| 13/13 [00:00<00:00, 18.87batch/s, accuracy=75.2, loss=0.777]\n",
            "Epoch 3: 100%|██████████| 13/13 [00:00<00:00, 18.31batch/s, accuracy=81.6, loss=0.578]\n",
            "Epoch 4: 100%|██████████| 13/13 [00:00<00:00, 18.54batch/s, accuracy=86.7, loss=0.44]\n",
            "Epoch 0:  15%|█▌        | 2/13 [00:00<00:00, 19.31batch/s, accuracy=22.3, loss=2.65]"
          ],
          "name": "stderr"
        },
        {
          "output_type": "stream",
          "text": [
            "Training with hyperparameters: model_type [LSTM], hidden_dim [128], word_embedding_dim [32], bidirectional [False], dropout [0.01]\n"
          ],
          "name": "stdout"
        },
        {
          "output_type": "stream",
          "text": [
            "Epoch 0: 100%|██████████| 13/13 [00:00<00:00, 18.51batch/s, accuracy=47.4, loss=1.68]\n",
            "Epoch 1: 100%|██████████| 13/13 [00:00<00:00, 19.07batch/s, accuracy=66.8, loss=1.05]\n",
            "Epoch 2: 100%|██████████| 13/13 [00:00<00:00, 18.64batch/s, accuracy=77.6, loss=0.735]\n",
            "Epoch 3: 100%|██████████| 13/13 [00:00<00:00, 18.15batch/s, accuracy=83.1, loss=0.536]\n",
            "Epoch 4: 100%|██████████| 13/13 [00:00<00:00, 18.76batch/s, accuracy=88.4, loss=0.397]\n",
            "Epoch 0:  23%|██▎       | 3/13 [00:00<00:00, 20.07batch/s, accuracy=16.2, loss=2.58]"
          ],
          "name": "stderr"
        },
        {
          "output_type": "stream",
          "text": [
            "Training with hyperparameters: model_type [LSTM], hidden_dim [128], word_embedding_dim [32], bidirectional [False], dropout [0.001]\n"
          ],
          "name": "stdout"
        },
        {
          "output_type": "stream",
          "text": [
            "Epoch 0: 100%|██████████| 13/13 [00:00<00:00, 18.79batch/s, accuracy=44.8, loss=1.72]\n",
            "Epoch 1: 100%|██████████| 13/13 [00:00<00:00, 18.90batch/s, accuracy=64.4, loss=1.11]\n",
            "Epoch 2: 100%|██████████| 13/13 [00:00<00:00, 18.70batch/s, accuracy=74.2, loss=0.785]\n",
            "Epoch 3: 100%|██████████| 13/13 [00:00<00:00, 18.38batch/s, accuracy=81.3, loss=0.583]\n",
            "Epoch 4: 100%|██████████| 13/13 [00:00<00:00, 19.05batch/s, accuracy=86.3, loss=0.442]\n",
            "Epoch 0:  15%|█▌        | 2/13 [00:00<00:00, 17.38batch/s, accuracy=25, loss=2.47]  "
          ],
          "name": "stderr"
        },
        {
          "output_type": "stream",
          "text": [
            "Training with hyperparameters: model_type [LSTM], hidden_dim [128], word_embedding_dim [32], bidirectional [True], dropout [0.0]\n"
          ],
          "name": "stdout"
        },
        {
          "output_type": "stream",
          "text": [
            "Epoch 0: 100%|██████████| 13/13 [00:00<00:00, 15.42batch/s, accuracy=55.6, loss=1.45]\n",
            "Epoch 1: 100%|██████████| 13/13 [00:00<00:00, 15.75batch/s, accuracy=71.1, loss=0.887]\n",
            "Epoch 2: 100%|██████████| 13/13 [00:00<00:00, 15.60batch/s, accuracy=80.6, loss=0.597]\n",
            "Epoch 3: 100%|██████████| 13/13 [00:00<00:00, 16.01batch/s, accuracy=87.6, loss=0.402]\n",
            "Epoch 4: 100%|██████████| 13/13 [00:00<00:00, 15.98batch/s, accuracy=92.3, loss=0.259]\n",
            "Epoch 0:  15%|█▌        | 2/13 [00:00<00:00, 17.65batch/s, accuracy=22.4, loss=2.5] "
          ],
          "name": "stderr"
        },
        {
          "output_type": "stream",
          "text": [
            "Training with hyperparameters: model_type [LSTM], hidden_dim [128], word_embedding_dim [32], bidirectional [True], dropout [0.01]\n"
          ],
          "name": "stdout"
        },
        {
          "output_type": "stream",
          "text": [
            "Epoch 0: 100%|██████████| 13/13 [00:00<00:00, 15.27batch/s, accuracy=56, loss=1.42]\n",
            "Epoch 1: 100%|██████████| 13/13 [00:00<00:00, 15.57batch/s, accuracy=69.3, loss=0.943]\n",
            "Epoch 2: 100%|██████████| 13/13 [00:00<00:00, 15.71batch/s, accuracy=80.7, loss=0.636]\n",
            "Epoch 3: 100%|██████████| 13/13 [00:00<00:00, 15.82batch/s, accuracy=87.2, loss=0.428]\n",
            "Epoch 4: 100%|██████████| 13/13 [00:00<00:00, 15.64batch/s, accuracy=91.5, loss=0.284]\n",
            "Epoch 0:  15%|█▌        | 2/13 [00:00<00:00, 17.63batch/s, accuracy=25.3, loss=2.51]"
          ],
          "name": "stderr"
        },
        {
          "output_type": "stream",
          "text": [
            "Training with hyperparameters: model_type [LSTM], hidden_dim [128], word_embedding_dim [32], bidirectional [True], dropout [0.001]\n"
          ],
          "name": "stdout"
        },
        {
          "output_type": "stream",
          "text": [
            "Epoch 0: 100%|██████████| 13/13 [00:00<00:00, 15.61batch/s, accuracy=56.4, loss=1.4]\n",
            "Epoch 1: 100%|██████████| 13/13 [00:00<00:00, 15.91batch/s, accuracy=73.2, loss=0.856]\n",
            "Epoch 2: 100%|██████████| 13/13 [00:00<00:00, 15.43batch/s, accuracy=83.3, loss=0.554]\n",
            "Epoch 3: 100%|██████████| 13/13 [00:00<00:00, 15.56batch/s, accuracy=88.5, loss=0.364]\n",
            "Epoch 4: 100%|██████████| 13/13 [00:00<00:00, 16.18batch/s, accuracy=93.4, loss=0.235]\n",
            "Epoch 0:  23%|██▎       | 3/13 [00:00<00:00, 22.73batch/s, accuracy=32.6, loss=2.63]"
          ],
          "name": "stderr"
        },
        {
          "output_type": "stream",
          "text": [
            "Training with hyperparameters: model_type [LSTM], hidden_dim [32], word_embedding_dim [64], bidirectional [False], dropout [0.0]\n"
          ],
          "name": "stdout"
        },
        {
          "output_type": "stream",
          "text": [
            "Epoch 0: 100%|██████████| 13/13 [00:00<00:00, 21.82batch/s, accuracy=46.6, loss=1.83]\n",
            "Epoch 1: 100%|██████████| 13/13 [00:00<00:00, 21.33batch/s, accuracy=66.8, loss=1.19]\n",
            "Epoch 2: 100%|██████████| 13/13 [00:00<00:00, 21.45batch/s, accuracy=76.9, loss=0.799]\n",
            "Epoch 3: 100%|██████████| 13/13 [00:00<00:00, 20.49batch/s, accuracy=84.3, loss=0.567]\n",
            "Epoch 4: 100%|██████████| 13/13 [00:00<00:00, 21.26batch/s, accuracy=88.7, loss=0.405]\n",
            "Epoch 0:  23%|██▎       | 3/13 [00:00<00:00, 22.24batch/s, accuracy=29.4, loss=2.66]"
          ],
          "name": "stderr"
        },
        {
          "output_type": "stream",
          "text": [
            "Training with hyperparameters: model_type [LSTM], hidden_dim [32], word_embedding_dim [64], bidirectional [False], dropout [0.01]\n"
          ],
          "name": "stdout"
        },
        {
          "output_type": "stream",
          "text": [
            "Epoch 0: 100%|██████████| 13/13 [00:00<00:00, 21.18batch/s, accuracy=49.5, loss=1.84]\n",
            "Epoch 1: 100%|██████████| 13/13 [00:00<00:00, 21.14batch/s, accuracy=66.9, loss=1.19]\n",
            "Epoch 2: 100%|██████████| 13/13 [00:00<00:00, 21.58batch/s, accuracy=76.6, loss=0.801]\n",
            "Epoch 3: 100%|██████████| 13/13 [00:00<00:00, 21.11batch/s, accuracy=83.4, loss=0.558]\n",
            "Epoch 4: 100%|██████████| 13/13 [00:00<00:00, 21.18batch/s, accuracy=88.5, loss=0.4]\n",
            "Epoch 0:  23%|██▎       | 3/13 [00:00<00:00, 21.07batch/s, accuracy=21.4, loss=2.72]"
          ],
          "name": "stderr"
        },
        {
          "output_type": "stream",
          "text": [
            "Training with hyperparameters: model_type [LSTM], hidden_dim [32], word_embedding_dim [64], bidirectional [False], dropout [0.001]\n"
          ],
          "name": "stdout"
        },
        {
          "output_type": "stream",
          "text": [
            "Epoch 0: 100%|██████████| 13/13 [00:00<00:00, 20.48batch/s, accuracy=46.8, loss=1.87]\n",
            "Epoch 1: 100%|██████████| 13/13 [00:00<00:00, 20.84batch/s, accuracy=66.2, loss=1.24]\n",
            "Epoch 2: 100%|██████████| 13/13 [00:00<00:00, 21.23batch/s, accuracy=76.4, loss=0.829]\n",
            "Epoch 3: 100%|██████████| 13/13 [00:00<00:00, 20.90batch/s, accuracy=82.8, loss=0.594]\n",
            "Epoch 4: 100%|██████████| 13/13 [00:00<00:00, 21.03batch/s, accuracy=87.4, loss=0.447]\n",
            "Epoch 0:  23%|██▎       | 3/13 [00:00<00:00, 20.97batch/s, accuracy=35.4, loss=2.65]"
          ],
          "name": "stderr"
        },
        {
          "output_type": "stream",
          "text": [
            "Training with hyperparameters: model_type [LSTM], hidden_dim [32], word_embedding_dim [64], bidirectional [True], dropout [0.0]\n"
          ],
          "name": "stdout"
        },
        {
          "output_type": "stream",
          "text": [
            "Epoch 0: 100%|██████████| 13/13 [00:00<00:00, 19.39batch/s, accuracy=54.1, loss=1.57]\n",
            "Epoch 1: 100%|██████████| 13/13 [00:00<00:00, 19.09batch/s, accuracy=73.6, loss=0.932]\n",
            "Epoch 2: 100%|██████████| 13/13 [00:00<00:00, 18.92batch/s, accuracy=82.4, loss=0.597]\n",
            "Epoch 3: 100%|██████████| 13/13 [00:00<00:00, 18.67batch/s, accuracy=89, loss=0.384]\n",
            "Epoch 4: 100%|██████████| 13/13 [00:00<00:00, 18.46batch/s, accuracy=93.6, loss=0.243]\n",
            "Epoch 0:  23%|██▎       | 3/13 [00:00<00:00, 20.00batch/s, accuracy=27.1, loss=2.69]"
          ],
          "name": "stderr"
        },
        {
          "output_type": "stream",
          "text": [
            "Training with hyperparameters: model_type [LSTM], hidden_dim [32], word_embedding_dim [64], bidirectional [True], dropout [0.01]\n"
          ],
          "name": "stdout"
        },
        {
          "output_type": "stream",
          "text": [
            "Epoch 0: 100%|██████████| 13/13 [00:00<00:00, 18.71batch/s, accuracy=53.7, loss=1.58]\n",
            "Epoch 1: 100%|██████████| 13/13 [00:00<00:00, 18.78batch/s, accuracy=73.3, loss=0.901]\n",
            "Epoch 2: 100%|██████████| 13/13 [00:00<00:00, 19.21batch/s, accuracy=83.2, loss=0.579]\n",
            "Epoch 3: 100%|██████████| 13/13 [00:00<00:00, 18.83batch/s, accuracy=88.6, loss=0.384]\n",
            "Epoch 4: 100%|██████████| 13/13 [00:00<00:00, 18.58batch/s, accuracy=92.7, loss=0.25]\n",
            "Epoch 0:  23%|██▎       | 3/13 [00:00<00:00, 21.15batch/s, accuracy=27.4, loss=2.67]"
          ],
          "name": "stderr"
        },
        {
          "output_type": "stream",
          "text": [
            "Training with hyperparameters: model_type [LSTM], hidden_dim [32], word_embedding_dim [64], bidirectional [True], dropout [0.001]\n"
          ],
          "name": "stdout"
        },
        {
          "output_type": "stream",
          "text": [
            "Epoch 0: 100%|██████████| 13/13 [00:00<00:00, 19.06batch/s, accuracy=55, loss=1.55]\n",
            "Epoch 1: 100%|██████████| 13/13 [00:00<00:00, 18.76batch/s, accuracy=72.7, loss=0.88]\n",
            "Epoch 2: 100%|██████████| 13/13 [00:00<00:00, 19.23batch/s, accuracy=84, loss=0.547]\n",
            "Epoch 3: 100%|██████████| 13/13 [00:00<00:00, 18.77batch/s, accuracy=89.9, loss=0.36]\n",
            "Epoch 4: 100%|██████████| 13/13 [00:00<00:00, 19.06batch/s, accuracy=93.6, loss=0.229]\n",
            "Epoch 0:  23%|██▎       | 3/13 [00:00<00:00, 21.78batch/s, accuracy=34.5, loss=2.52]"
          ],
          "name": "stderr"
        },
        {
          "output_type": "stream",
          "text": [
            "Training with hyperparameters: model_type [LSTM], hidden_dim [64], word_embedding_dim [64], bidirectional [False], dropout [0.0]\n"
          ],
          "name": "stdout"
        },
        {
          "output_type": "stream",
          "text": [
            "Epoch 0: 100%|██████████| 13/13 [00:00<00:00, 20.20batch/s, accuracy=55.5, loss=1.54]\n",
            "Epoch 1: 100%|██████████| 13/13 [00:00<00:00, 19.65batch/s, accuracy=70.8, loss=0.925]\n",
            "Epoch 2: 100%|██████████| 13/13 [00:00<00:00, 20.48batch/s, accuracy=79.2, loss=0.628]\n",
            "Epoch 3: 100%|██████████| 13/13 [00:00<00:00, 20.39batch/s, accuracy=87, loss=0.43]\n",
            "Epoch 4: 100%|██████████| 13/13 [00:00<00:00, 20.45batch/s, accuracy=91.2, loss=0.295]\n",
            "Epoch 0:  23%|██▎       | 3/13 [00:00<00:00, 20.14batch/s, accuracy=33.8, loss=2.67]"
          ],
          "name": "stderr"
        },
        {
          "output_type": "stream",
          "text": [
            "Training with hyperparameters: model_type [LSTM], hidden_dim [64], word_embedding_dim [64], bidirectional [False], dropout [0.01]\n"
          ],
          "name": "stdout"
        },
        {
          "output_type": "stream",
          "text": [
            "Epoch 0: 100%|██████████| 13/13 [00:00<00:00, 19.92batch/s, accuracy=54.5, loss=1.61]\n",
            "Epoch 1: 100%|██████████| 13/13 [00:00<00:00, 20.09batch/s, accuracy=72, loss=0.94]\n",
            "Epoch 2: 100%|██████████| 13/13 [00:00<00:00, 20.11batch/s, accuracy=80.9, loss=0.615]\n",
            "Epoch 3: 100%|██████████| 13/13 [00:00<00:00, 20.07batch/s, accuracy=87.2, loss=0.423]\n",
            "Epoch 4: 100%|██████████| 13/13 [00:00<00:00, 19.93batch/s, accuracy=92, loss=0.287]\n",
            "Epoch 0:  23%|██▎       | 3/13 [00:00<00:00, 22.24batch/s, accuracy=37.6, loss=2.56]"
          ],
          "name": "stderr"
        },
        {
          "output_type": "stream",
          "text": [
            "Training with hyperparameters: model_type [LSTM], hidden_dim [64], word_embedding_dim [64], bidirectional [False], dropout [0.001]\n"
          ],
          "name": "stdout"
        },
        {
          "output_type": "stream",
          "text": [
            "Epoch 0: 100%|██████████| 13/13 [00:00<00:00, 20.61batch/s, accuracy=54.8, loss=1.59]\n",
            "Epoch 1: 100%|██████████| 13/13 [00:00<00:00, 20.77batch/s, accuracy=72.3, loss=0.933]\n",
            "Epoch 2: 100%|██████████| 13/13 [00:00<00:00, 20.58batch/s, accuracy=81.1, loss=0.623]\n",
            "Epoch 3: 100%|██████████| 13/13 [00:00<00:00, 20.27batch/s, accuracy=86.6, loss=0.443]\n",
            "Epoch 4: 100%|██████████| 13/13 [00:00<00:00, 19.77batch/s, accuracy=91.2, loss=0.309]\n",
            "Epoch 0:  15%|█▌        | 2/13 [00:00<00:00, 18.40batch/s, accuracy=33.5, loss=2.59]"
          ],
          "name": "stderr"
        },
        {
          "output_type": "stream",
          "text": [
            "Training with hyperparameters: model_type [LSTM], hidden_dim [64], word_embedding_dim [64], bidirectional [True], dropout [0.0]\n"
          ],
          "name": "stdout"
        },
        {
          "output_type": "stream",
          "text": [
            "Epoch 0: 100%|██████████| 13/13 [00:00<00:00, 17.24batch/s, accuracy=59.8, loss=1.37]\n",
            "Epoch 1: 100%|██████████| 13/13 [00:00<00:00, 16.82batch/s, accuracy=77.1, loss=0.773]\n",
            "Epoch 2: 100%|██████████| 13/13 [00:00<00:00, 17.18batch/s, accuracy=86.1, loss=0.47]\n",
            "Epoch 3: 100%|██████████| 13/13 [00:00<00:00, 17.13batch/s, accuracy=91.5, loss=0.289]\n",
            "Epoch 4: 100%|██████████| 13/13 [00:00<00:00, 17.66batch/s, accuracy=95.6, loss=0.17]\n",
            "Epoch 0:  15%|█▌        | 2/13 [00:00<00:00, 17.62batch/s, accuracy=35.5, loss=2.6] "
          ],
          "name": "stderr"
        },
        {
          "output_type": "stream",
          "text": [
            "Training with hyperparameters: model_type [LSTM], hidden_dim [64], word_embedding_dim [64], bidirectional [True], dropout [0.01]\n"
          ],
          "name": "stdout"
        },
        {
          "output_type": "stream",
          "text": [
            "Epoch 0: 100%|██████████| 13/13 [00:00<00:00, 17.15batch/s, accuracy=59.4, loss=1.33]\n",
            "Epoch 1: 100%|██████████| 13/13 [00:00<00:00, 17.47batch/s, accuracy=77.8, loss=0.715]\n",
            "Epoch 2: 100%|██████████| 13/13 [00:00<00:00, 17.58batch/s, accuracy=86, loss=0.452]\n",
            "Epoch 3: 100%|██████████| 13/13 [00:00<00:00, 17.94batch/s, accuracy=91.4, loss=0.288]\n",
            "Epoch 4: 100%|██████████| 13/13 [00:00<00:00, 17.50batch/s, accuracy=96.2, loss=0.166]\n",
            "Epoch 0:  15%|█▌        | 2/13 [00:00<00:00, 18.46batch/s, accuracy=30.5, loss=2.58]"
          ],
          "name": "stderr"
        },
        {
          "output_type": "stream",
          "text": [
            "Training with hyperparameters: model_type [LSTM], hidden_dim [64], word_embedding_dim [64], bidirectional [True], dropout [0.001]\n"
          ],
          "name": "stdout"
        },
        {
          "output_type": "stream",
          "text": [
            "Epoch 0: 100%|██████████| 13/13 [00:00<00:00, 17.68batch/s, accuracy=59.5, loss=1.39]\n",
            "Epoch 1: 100%|██████████| 13/13 [00:00<00:00, 17.22batch/s, accuracy=75.9, loss=0.779]\n",
            "Epoch 2: 100%|██████████| 13/13 [00:00<00:00, 17.46batch/s, accuracy=85.2, loss=0.472]\n",
            "Epoch 3: 100%|██████████| 13/13 [00:00<00:00, 17.33batch/s, accuracy=91.7, loss=0.287]\n",
            "Epoch 4: 100%|██████████| 13/13 [00:00<00:00, 17.23batch/s, accuracy=95.1, loss=0.172]\n",
            "Epoch 0:  23%|██▎       | 3/13 [00:00<00:00, 20.49batch/s, accuracy=32.5, loss=2.62]"
          ],
          "name": "stderr"
        },
        {
          "output_type": "stream",
          "text": [
            "Training with hyperparameters: model_type [LSTM], hidden_dim [96], word_embedding_dim [64], bidirectional [False], dropout [0.0]\n"
          ],
          "name": "stdout"
        },
        {
          "output_type": "stream",
          "text": [
            "Epoch 0: 100%|██████████| 13/13 [00:00<00:00, 19.38batch/s, accuracy=56, loss=1.53]\n",
            "Epoch 1: 100%|██████████| 13/13 [00:00<00:00, 19.14batch/s, accuracy=71.7, loss=0.894]\n",
            "Epoch 2: 100%|██████████| 13/13 [00:00<00:00, 19.30batch/s, accuracy=80.7, loss=0.6]\n",
            "Epoch 3: 100%|██████████| 13/13 [00:00<00:00, 18.95batch/s, accuracy=87.2, loss=0.411]\n",
            "Epoch 4: 100%|██████████| 13/13 [00:00<00:00, 19.58batch/s, accuracy=91.4, loss=0.281]\n",
            "Epoch 0:  23%|██▎       | 3/13 [00:00<00:00, 20.72batch/s, accuracy=30, loss=2.57]"
          ],
          "name": "stderr"
        },
        {
          "output_type": "stream",
          "text": [
            "Training with hyperparameters: model_type [LSTM], hidden_dim [96], word_embedding_dim [64], bidirectional [False], dropout [0.01]\n"
          ],
          "name": "stdout"
        },
        {
          "output_type": "stream",
          "text": [
            "Epoch 0: 100%|██████████| 13/13 [00:00<00:00, 19.54batch/s, accuracy=56.4, loss=1.47]\n",
            "Epoch 1: 100%|██████████| 13/13 [00:00<00:00, 19.88batch/s, accuracy=72, loss=0.873]\n",
            "Epoch 2: 100%|██████████| 13/13 [00:00<00:00, 19.93batch/s, accuracy=80, loss=0.613]\n",
            "Epoch 3: 100%|██████████| 13/13 [00:00<00:00, 19.43batch/s, accuracy=85.4, loss=0.442]\n",
            "Epoch 4: 100%|██████████| 13/13 [00:00<00:00, 19.59batch/s, accuracy=90.8, loss=0.299]\n",
            "Epoch 0:  23%|██▎       | 3/13 [00:00<00:00, 20.98batch/s, accuracy=30.7, loss=2.59]"
          ],
          "name": "stderr"
        },
        {
          "output_type": "stream",
          "text": [
            "Training with hyperparameters: model_type [LSTM], hidden_dim [96], word_embedding_dim [64], bidirectional [False], dropout [0.001]\n"
          ],
          "name": "stdout"
        },
        {
          "output_type": "stream",
          "text": [
            "Epoch 0: 100%|██████████| 13/13 [00:00<00:00, 19.02batch/s, accuracy=59.4, loss=1.39]\n",
            "Epoch 1: 100%|██████████| 13/13 [00:00<00:00, 19.35batch/s, accuracy=74.2, loss=0.812]\n",
            "Epoch 2: 100%|██████████| 13/13 [00:00<00:00, 18.74batch/s, accuracy=82.7, loss=0.548]\n",
            "Epoch 3: 100%|██████████| 13/13 [00:00<00:00, 19.58batch/s, accuracy=88.5, loss=0.376]\n",
            "Epoch 4: 100%|██████████| 13/13 [00:00<00:00, 19.52batch/s, accuracy=91.8, loss=0.26]\n",
            "Epoch 0:  15%|█▌        | 2/13 [00:00<00:00, 18.31batch/s, accuracy=31.1, loss=2.49]"
          ],
          "name": "stderr"
        },
        {
          "output_type": "stream",
          "text": [
            "Training with hyperparameters: model_type [LSTM], hidden_dim [96], word_embedding_dim [64], bidirectional [True], dropout [0.0]\n"
          ],
          "name": "stdout"
        },
        {
          "output_type": "stream",
          "text": [
            "Epoch 0: 100%|██████████| 13/13 [00:00<00:00, 16.25batch/s, accuracy=61, loss=1.21]\n",
            "Epoch 1: 100%|██████████| 13/13 [00:00<00:00, 16.66batch/s, accuracy=80.3, loss=0.656]\n",
            "Epoch 2: 100%|██████████| 13/13 [00:00<00:00, 16.50batch/s, accuracy=87.2, loss=0.419]\n",
            "Epoch 3: 100%|██████████| 13/13 [00:00<00:00, 16.11batch/s, accuracy=92.5, loss=0.269]\n",
            "Epoch 4: 100%|██████████| 13/13 [00:00<00:00, 16.00batch/s, accuracy=96.1, loss=0.158]\n",
            "Epoch 0:  15%|█▌        | 2/13 [00:00<00:00, 18.16batch/s, accuracy=34.5, loss=2.46]"
          ],
          "name": "stderr"
        },
        {
          "output_type": "stream",
          "text": [
            "Training with hyperparameters: model_type [LSTM], hidden_dim [96], word_embedding_dim [64], bidirectional [True], dropout [0.01]\n"
          ],
          "name": "stdout"
        },
        {
          "output_type": "stream",
          "text": [
            "Epoch 0: 100%|██████████| 13/13 [00:00<00:00, 16.66batch/s, accuracy=63.7, loss=1.17]\n",
            "Epoch 1: 100%|██████████| 13/13 [00:00<00:00, 16.47batch/s, accuracy=78.7, loss=0.647]\n",
            "Epoch 2: 100%|██████████| 13/13 [00:00<00:00, 16.47batch/s, accuracy=87.5, loss=0.382]\n",
            "Epoch 3: 100%|██████████| 13/13 [00:00<00:00, 16.14batch/s, accuracy=93.5, loss=0.22]\n",
            "Epoch 4: 100%|██████████| 13/13 [00:00<00:00, 16.23batch/s, accuracy=97.5, loss=0.115]\n",
            "Epoch 0:  15%|█▌        | 2/13 [00:00<00:00, 17.50batch/s, accuracy=34.7, loss=2.44]"
          ],
          "name": "stderr"
        },
        {
          "output_type": "stream",
          "text": [
            "Training with hyperparameters: model_type [LSTM], hidden_dim [96], word_embedding_dim [64], bidirectional [True], dropout [0.001]\n"
          ],
          "name": "stdout"
        },
        {
          "output_type": "stream",
          "text": [
            "Epoch 0: 100%|██████████| 13/13 [00:00<00:00, 16.20batch/s, accuracy=64.2, loss=1.12]\n",
            "Epoch 1: 100%|██████████| 13/13 [00:00<00:00, 16.57batch/s, accuracy=79.1, loss=0.612]\n",
            "Epoch 2: 100%|██████████| 13/13 [00:00<00:00, 16.45batch/s, accuracy=88.8, loss=0.349]\n",
            "Epoch 3: 100%|██████████| 13/13 [00:00<00:00, 16.31batch/s, accuracy=94.5, loss=0.2]\n",
            "Epoch 4: 100%|██████████| 13/13 [00:00<00:00, 16.43batch/s, accuracy=97.8, loss=0.109]\n",
            "Epoch 0:  23%|██▎       | 3/13 [00:00<00:00, 20.50batch/s, accuracy=29.7, loss=2.59]"
          ],
          "name": "stderr"
        },
        {
          "output_type": "stream",
          "text": [
            "Training with hyperparameters: model_type [LSTM], hidden_dim [128], word_embedding_dim [64], bidirectional [False], dropout [0.0]\n"
          ],
          "name": "stdout"
        },
        {
          "output_type": "stream",
          "text": [
            "Epoch 0: 100%|██████████| 13/13 [00:00<00:00, 18.69batch/s, accuracy=60.7, loss=1.32]\n",
            "Epoch 1: 100%|██████████| 13/13 [00:00<00:00, 18.76batch/s, accuracy=72.3, loss=0.801]\n",
            "Epoch 2: 100%|██████████| 13/13 [00:00<00:00, 18.46batch/s, accuracy=83, loss=0.519]\n",
            "Epoch 3: 100%|██████████| 13/13 [00:00<00:00, 18.90batch/s, accuracy=89.7, loss=0.342]\n",
            "Epoch 4: 100%|██████████| 13/13 [00:00<00:00, 18.66batch/s, accuracy=93.8, loss=0.224]\n",
            "Epoch 0:  23%|██▎       | 3/13 [00:00<00:00, 20.37batch/s, accuracy=30, loss=2.55]"
          ],
          "name": "stderr"
        },
        {
          "output_type": "stream",
          "text": [
            "Training with hyperparameters: model_type [LSTM], hidden_dim [128], word_embedding_dim [64], bidirectional [False], dropout [0.01]\n"
          ],
          "name": "stdout"
        },
        {
          "output_type": "stream",
          "text": [
            "Epoch 0: 100%|██████████| 13/13 [00:00<00:00, 18.42batch/s, accuracy=59.9, loss=1.29]\n",
            "Epoch 1: 100%|██████████| 13/13 [00:00<00:00, 18.19batch/s, accuracy=76.3, loss=0.762]\n",
            "Epoch 2: 100%|██████████| 13/13 [00:00<00:00, 18.09batch/s, accuracy=83.5, loss=0.502]\n",
            "Epoch 3: 100%|██████████| 13/13 [00:00<00:00, 18.52batch/s, accuracy=90, loss=0.332]\n",
            "Epoch 4: 100%|██████████| 13/13 [00:00<00:00, 18.04batch/s, accuracy=93.7, loss=0.221]\n",
            "Epoch 0:  23%|██▎       | 3/13 [00:00<00:00, 19.96batch/s, accuracy=28.9, loss=2.53]"
          ],
          "name": "stderr"
        },
        {
          "output_type": "stream",
          "text": [
            "Training with hyperparameters: model_type [LSTM], hidden_dim [128], word_embedding_dim [64], bidirectional [False], dropout [0.001]\n"
          ],
          "name": "stdout"
        },
        {
          "output_type": "stream",
          "text": [
            "Epoch 0: 100%|██████████| 13/13 [00:00<00:00, 18.41batch/s, accuracy=61.5, loss=1.33]\n",
            "Epoch 1: 100%|██████████| 13/13 [00:00<00:00, 18.53batch/s, accuracy=72.6, loss=0.831]\n",
            "Epoch 2: 100%|██████████| 13/13 [00:00<00:00, 18.41batch/s, accuracy=82.5, loss=0.551]\n",
            "Epoch 3: 100%|██████████| 13/13 [00:00<00:00, 18.29batch/s, accuracy=88.9, loss=0.373]\n",
            "Epoch 4: 100%|██████████| 13/13 [00:00<00:00, 18.14batch/s, accuracy=92.6, loss=0.244]\n",
            "Epoch 0:  15%|█▌        | 2/13 [00:00<00:00, 16.81batch/s, accuracy=31.4, loss=2.38]"
          ],
          "name": "stderr"
        },
        {
          "output_type": "stream",
          "text": [
            "Training with hyperparameters: model_type [LSTM], hidden_dim [128], word_embedding_dim [64], bidirectional [True], dropout [0.0]\n"
          ],
          "name": "stdout"
        },
        {
          "output_type": "stream",
          "text": [
            "Epoch 0: 100%|██████████| 13/13 [00:00<00:00, 15.32batch/s, accuracy=61.1, loss=1.21]\n",
            "Epoch 1: 100%|██████████| 13/13 [00:00<00:00, 15.55batch/s, accuracy=80, loss=0.637]\n",
            "Epoch 2: 100%|██████████| 13/13 [00:00<00:00, 15.33batch/s, accuracy=87.6, loss=0.386]\n",
            "Epoch 3: 100%|██████████| 13/13 [00:00<00:00, 15.76batch/s, accuracy=93.6, loss=0.232]\n",
            "Epoch 4: 100%|██████████| 13/13 [00:00<00:00, 15.75batch/s, accuracy=97.1, loss=0.128]\n",
            "Epoch 0:  15%|█▌        | 2/13 [00:00<00:00, 17.35batch/s, accuracy=33.1, loss=2.41]"
          ],
          "name": "stderr"
        },
        {
          "output_type": "stream",
          "text": [
            "Training with hyperparameters: model_type [LSTM], hidden_dim [128], word_embedding_dim [64], bidirectional [True], dropout [0.01]\n"
          ],
          "name": "stdout"
        },
        {
          "output_type": "stream",
          "text": [
            "Epoch 0: 100%|██████████| 13/13 [00:00<00:00, 15.23batch/s, accuracy=62.1, loss=1.13]\n",
            "Epoch 1: 100%|██████████| 13/13 [00:00<00:00, 15.63batch/s, accuracy=80.6, loss=0.605]\n",
            "Epoch 2: 100%|██████████| 13/13 [00:00<00:00, 15.82batch/s, accuracy=89, loss=0.36]\n",
            "Epoch 3: 100%|██████████| 13/13 [00:00<00:00, 15.42batch/s, accuracy=94.3, loss=0.211]\n",
            "Epoch 4: 100%|██████████| 13/13 [00:00<00:00, 15.27batch/s, accuracy=97.7, loss=0.105]\n",
            "Epoch 0:  15%|█▌        | 2/13 [00:00<00:00, 17.38batch/s, accuracy=32.5, loss=2.42]"
          ],
          "name": "stderr"
        },
        {
          "output_type": "stream",
          "text": [
            "Training with hyperparameters: model_type [LSTM], hidden_dim [128], word_embedding_dim [64], bidirectional [True], dropout [0.001]\n"
          ],
          "name": "stdout"
        },
        {
          "output_type": "stream",
          "text": [
            "Epoch 0: 100%|██████████| 13/13 [00:00<00:00, 15.74batch/s, accuracy=64, loss=1.11]\n",
            "Epoch 1: 100%|██████████| 13/13 [00:00<00:00, 15.67batch/s, accuracy=80.9, loss=0.584]\n",
            "Epoch 2: 100%|██████████| 13/13 [00:00<00:00, 15.34batch/s, accuracy=88.8, loss=0.344]\n",
            "Epoch 3: 100%|██████████| 13/13 [00:00<00:00, 15.70batch/s, accuracy=94.5, loss=0.195]\n",
            "Epoch 4: 100%|██████████| 13/13 [00:00<00:00, 15.91batch/s, accuracy=97.7, loss=0.107]\n",
            "Epoch 0:  23%|██▎       | 3/13 [00:00<00:00, 22.14batch/s, accuracy=31.9, loss=2.62]"
          ],
          "name": "stderr"
        },
        {
          "output_type": "stream",
          "text": [
            "Training with hyperparameters: model_type [LSTM], hidden_dim [32], word_embedding_dim [96], bidirectional [False], dropout [0.0]\n"
          ],
          "name": "stdout"
        },
        {
          "output_type": "stream",
          "text": [
            "Epoch 0: 100%|██████████| 13/13 [00:00<00:00, 21.01batch/s, accuracy=47.4, loss=1.82]\n",
            "Epoch 1: 100%|██████████| 13/13 [00:00<00:00, 19.82batch/s, accuracy=72.5, loss=1.1]\n",
            "Epoch 2: 100%|██████████| 13/13 [00:00<00:00, 20.47batch/s, accuracy=81.7, loss=0.676]\n",
            "Epoch 3: 100%|██████████| 13/13 [00:00<00:00, 21.16batch/s, accuracy=86.9, loss=0.452]\n",
            "Epoch 4: 100%|██████████| 13/13 [00:00<00:00, 20.64batch/s, accuracy=91.5, loss=0.314]\n",
            "Epoch 0:  23%|██▎       | 3/13 [00:00<00:00, 20.09batch/s, accuracy=23, loss=2.72]"
          ],
          "name": "stderr"
        },
        {
          "output_type": "stream",
          "text": [
            "Training with hyperparameters: model_type [LSTM], hidden_dim [32], word_embedding_dim [96], bidirectional [False], dropout [0.01]\n"
          ],
          "name": "stdout"
        },
        {
          "output_type": "stream",
          "text": [
            "Epoch 0: 100%|██████████| 13/13 [00:00<00:00, 20.14batch/s, accuracy=49.6, loss=1.8]\n",
            "Epoch 1: 100%|██████████| 13/13 [00:00<00:00, 20.00batch/s, accuracy=71.8, loss=1.09]\n",
            "Epoch 2: 100%|██████████| 13/13 [00:00<00:00, 20.25batch/s, accuracy=81.5, loss=0.697]\n",
            "Epoch 3: 100%|██████████| 13/13 [00:00<00:00, 20.22batch/s, accuracy=87.9, loss=0.471]\n",
            "Epoch 4: 100%|██████████| 13/13 [00:00<00:00, 19.42batch/s, accuracy=91.1, loss=0.328]\n",
            "Epoch 0:  23%|██▎       | 3/13 [00:00<00:00, 21.91batch/s, accuracy=31.5, loss=2.63]"
          ],
          "name": "stderr"
        },
        {
          "output_type": "stream",
          "text": [
            "Training with hyperparameters: model_type [LSTM], hidden_dim [32], word_embedding_dim [96], bidirectional [False], dropout [0.001]\n"
          ],
          "name": "stdout"
        },
        {
          "output_type": "stream",
          "text": [
            "Epoch 0: 100%|██████████| 13/13 [00:00<00:00, 20.18batch/s, accuracy=51.2, loss=1.83]\n",
            "Epoch 1: 100%|██████████| 13/13 [00:00<00:00, 21.10batch/s, accuracy=71, loss=1.1]\n",
            "Epoch 2: 100%|██████████| 13/13 [00:00<00:00, 21.28batch/s, accuracy=81.6, loss=0.686]\n",
            "Epoch 3: 100%|██████████| 13/13 [00:00<00:00, 21.35batch/s, accuracy=87.6, loss=0.456]\n",
            "Epoch 4: 100%|██████████| 13/13 [00:00<00:00, 20.73batch/s, accuracy=92.3, loss=0.313]\n",
            "Epoch 0:  23%|██▎       | 3/13 [00:00<00:00, 20.37batch/s, accuracy=31, loss=2.62]"
          ],
          "name": "stderr"
        },
        {
          "output_type": "stream",
          "text": [
            "Training with hyperparameters: model_type [LSTM], hidden_dim [32], word_embedding_dim [96], bidirectional [True], dropout [0.0]\n"
          ],
          "name": "stdout"
        },
        {
          "output_type": "stream",
          "text": [
            "Epoch 0: 100%|██████████| 13/13 [00:00<00:00, 18.65batch/s, accuracy=60.3, loss=1.44]\n",
            "Epoch 1: 100%|██████████| 13/13 [00:00<00:00, 18.63batch/s, accuracy=78, loss=0.768]\n",
            "Epoch 2: 100%|██████████| 13/13 [00:00<00:00, 18.74batch/s, accuracy=86.1, loss=0.467]\n",
            "Epoch 3: 100%|██████████| 13/13 [00:00<00:00, 18.91batch/s, accuracy=92.1, loss=0.287]\n",
            "Epoch 4: 100%|██████████| 13/13 [00:00<00:00, 18.15batch/s, accuracy=95, loss=0.18]\n",
            "Epoch 0:  15%|█▌        | 2/13 [00:00<00:00, 19.89batch/s, accuracy=36.8, loss=2.63]"
          ],
          "name": "stderr"
        },
        {
          "output_type": "stream",
          "text": [
            "Training with hyperparameters: model_type [LSTM], hidden_dim [32], word_embedding_dim [96], bidirectional [True], dropout [0.01]\n"
          ],
          "name": "stdout"
        },
        {
          "output_type": "stream",
          "text": [
            "Epoch 0: 100%|██████████| 13/13 [00:00<00:00, 18.43batch/s, accuracy=60.5, loss=1.4]\n",
            "Epoch 1: 100%|██████████| 13/13 [00:00<00:00, 18.68batch/s, accuracy=78.6, loss=0.743]\n",
            "Epoch 2: 100%|██████████| 13/13 [00:00<00:00, 18.45batch/s, accuracy=86.1, loss=0.464]\n",
            "Epoch 3: 100%|██████████| 13/13 [00:00<00:00, 17.96batch/s, accuracy=92.1, loss=0.288]\n",
            "Epoch 4: 100%|██████████| 13/13 [00:00<00:00, 18.78batch/s, accuracy=96.2, loss=0.168]\n",
            "Epoch 0:  23%|██▎       | 3/13 [00:00<00:00, 20.49batch/s, accuracy=31.1, loss=2.65]"
          ],
          "name": "stderr"
        },
        {
          "output_type": "stream",
          "text": [
            "Training with hyperparameters: model_type [LSTM], hidden_dim [32], word_embedding_dim [96], bidirectional [True], dropout [0.001]\n"
          ],
          "name": "stdout"
        },
        {
          "output_type": "stream",
          "text": [
            "Epoch 0: 100%|██████████| 13/13 [00:00<00:00, 18.72batch/s, accuracy=59.5, loss=1.46]\n",
            "Epoch 1: 100%|██████████| 13/13 [00:00<00:00, 18.30batch/s, accuracy=76.2, loss=0.812]\n",
            "Epoch 2: 100%|██████████| 13/13 [00:00<00:00, 18.01batch/s, accuracy=86.1, loss=0.478]\n",
            "Epoch 3: 100%|██████████| 13/13 [00:00<00:00, 18.09batch/s, accuracy=92, loss=0.281]\n",
            "Epoch 4: 100%|██████████| 13/13 [00:00<00:00, 18.49batch/s, accuracy=96.3, loss=0.16]\n",
            "Epoch 0:  23%|██▎       | 3/13 [00:00<00:00, 20.82batch/s, accuracy=34.1, loss=2.58]"
          ],
          "name": "stderr"
        },
        {
          "output_type": "stream",
          "text": [
            "Training with hyperparameters: model_type [LSTM], hidden_dim [64], word_embedding_dim [96], bidirectional [False], dropout [0.0]\n"
          ],
          "name": "stdout"
        },
        {
          "output_type": "stream",
          "text": [
            "Epoch 0: 100%|██████████| 13/13 [00:00<00:00, 20.01batch/s, accuracy=58.8, loss=1.47]\n",
            "Epoch 1: 100%|██████████| 13/13 [00:00<00:00, 20.04batch/s, accuracy=76.3, loss=0.812]\n",
            "Epoch 2: 100%|██████████| 13/13 [00:00<00:00, 19.50batch/s, accuracy=83.7, loss=0.528]\n",
            "Epoch 3: 100%|██████████| 13/13 [00:00<00:00, 19.96batch/s, accuracy=89.5, loss=0.344]\n",
            "Epoch 4: 100%|██████████| 13/13 [00:00<00:00, 19.96batch/s, accuracy=93.5, loss=0.221]\n",
            "Epoch 0:  23%|██▎       | 3/13 [00:00<00:00, 21.26batch/s, accuracy=33.2, loss=2.62]"
          ],
          "name": "stderr"
        },
        {
          "output_type": "stream",
          "text": [
            "Training with hyperparameters: model_type [LSTM], hidden_dim [64], word_embedding_dim [96], bidirectional [False], dropout [0.01]\n"
          ],
          "name": "stdout"
        },
        {
          "output_type": "stream",
          "text": [
            "Epoch 0: 100%|██████████| 13/13 [00:00<00:00, 19.78batch/s, accuracy=59.4, loss=1.48]\n",
            "Epoch 1: 100%|██████████| 13/13 [00:00<00:00, 19.93batch/s, accuracy=76.2, loss=0.82]\n",
            "Epoch 2: 100%|██████████| 13/13 [00:00<00:00, 20.01batch/s, accuracy=84.5, loss=0.508]\n",
            "Epoch 3: 100%|██████████| 13/13 [00:00<00:00, 20.07batch/s, accuracy=89.1, loss=0.338]\n",
            "Epoch 4: 100%|██████████| 13/13 [00:00<00:00, 20.44batch/s, accuracy=93, loss=0.223]\n",
            "Epoch 0:  23%|██▎       | 3/13 [00:00<00:00, 20.69batch/s, accuracy=36.9, loss=2.6]"
          ],
          "name": "stderr"
        },
        {
          "output_type": "stream",
          "text": [
            "Training with hyperparameters: model_type [LSTM], hidden_dim [64], word_embedding_dim [96], bidirectional [False], dropout [0.001]\n"
          ],
          "name": "stdout"
        },
        {
          "output_type": "stream",
          "text": [
            "Epoch 0: 100%|██████████| 13/13 [00:00<00:00, 19.77batch/s, accuracy=60.7, loss=1.43]\n",
            "Epoch 1: 100%|██████████| 13/13 [00:00<00:00, 20.40batch/s, accuracy=75.2, loss=0.818]\n",
            "Epoch 2: 100%|██████████| 13/13 [00:00<00:00, 20.00batch/s, accuracy=84, loss=0.517]\n",
            "Epoch 3: 100%|██████████| 13/13 [00:00<00:00, 20.56batch/s, accuracy=90.8, loss=0.327]\n",
            "Epoch 4: 100%|██████████| 13/13 [00:00<00:00, 20.04batch/s, accuracy=94.2, loss=0.207]\n",
            "Epoch 0:  15%|█▌        | 2/13 [00:00<00:00, 18.39batch/s, accuracy=37.5, loss=2.51]"
          ],
          "name": "stderr"
        },
        {
          "output_type": "stream",
          "text": [
            "Training with hyperparameters: model_type [LSTM], hidden_dim [64], word_embedding_dim [96], bidirectional [True], dropout [0.0]\n"
          ],
          "name": "stdout"
        },
        {
          "output_type": "stream",
          "text": [
            "Epoch 0: 100%|██████████| 13/13 [00:00<00:00, 16.99batch/s, accuracy=68.3, loss=1.1]\n",
            "Epoch 1: 100%|██████████| 13/13 [00:00<00:00, 17.47batch/s, accuracy=83, loss=0.549]\n",
            "Epoch 2: 100%|██████████| 13/13 [00:00<00:00, 17.72batch/s, accuracy=90.3, loss=0.316]\n",
            "Epoch 3: 100%|██████████| 13/13 [00:00<00:00, 17.48batch/s, accuracy=95, loss=0.178]\n",
            "Epoch 4: 100%|██████████| 13/13 [00:00<00:00, 17.50batch/s, accuracy=98, loss=0.0931]\n",
            "Epoch 0:  15%|█▌        | 2/13 [00:00<00:00, 19.70batch/s, accuracy=35.5, loss=2.52]"
          ],
          "name": "stderr"
        },
        {
          "output_type": "stream",
          "text": [
            "Training with hyperparameters: model_type [LSTM], hidden_dim [64], word_embedding_dim [96], bidirectional [True], dropout [0.01]\n"
          ],
          "name": "stdout"
        },
        {
          "output_type": "stream",
          "text": [
            "Epoch 0: 100%|██████████| 13/13 [00:00<00:00, 17.73batch/s, accuracy=67.9, loss=1.11]\n",
            "Epoch 1: 100%|██████████| 13/13 [00:00<00:00, 17.65batch/s, accuracy=81.8, loss=0.579]\n",
            "Epoch 2: 100%|██████████| 13/13 [00:00<00:00, 17.31batch/s, accuracy=89.3, loss=0.335]\n",
            "Epoch 3: 100%|██████████| 13/13 [00:00<00:00, 17.48batch/s, accuracy=94.9, loss=0.191]\n",
            "Epoch 4: 100%|██████████| 13/13 [00:00<00:00, 17.43batch/s, accuracy=98.1, loss=0.0928]\n",
            "Epoch 0:  15%|█▌        | 2/13 [00:00<00:00, 18.94batch/s, accuracy=43.7, loss=2.5] "
          ],
          "name": "stderr"
        },
        {
          "output_type": "stream",
          "text": [
            "Training with hyperparameters: model_type [LSTM], hidden_dim [64], word_embedding_dim [96], bidirectional [True], dropout [0.001]\n"
          ],
          "name": "stdout"
        },
        {
          "output_type": "stream",
          "text": [
            "Epoch 0: 100%|██████████| 13/13 [00:00<00:00, 17.29batch/s, accuracy=65.8, loss=1.17]\n",
            "Epoch 1: 100%|██████████| 13/13 [00:00<00:00, 17.58batch/s, accuracy=81, loss=0.594]\n",
            "Epoch 2: 100%|██████████| 13/13 [00:00<00:00, 17.02batch/s, accuracy=88.8, loss=0.346]\n",
            "Epoch 3: 100%|██████████| 13/13 [00:00<00:00, 17.87batch/s, accuracy=94.9, loss=0.187]\n",
            "Epoch 4: 100%|██████████| 13/13 [00:00<00:00, 17.39batch/s, accuracy=98, loss=0.0966]\n",
            "Epoch 0:  15%|█▌        | 2/13 [00:00<00:00, 19.17batch/s, accuracy=40.4, loss=2.53]"
          ],
          "name": "stderr"
        },
        {
          "output_type": "stream",
          "text": [
            "Training with hyperparameters: model_type [LSTM], hidden_dim [96], word_embedding_dim [96], bidirectional [False], dropout [0.0]\n"
          ],
          "name": "stdout"
        },
        {
          "output_type": "stream",
          "text": [
            "Epoch 0: 100%|██████████| 13/13 [00:00<00:00, 18.70batch/s, accuracy=66.1, loss=1.19]\n",
            "Epoch 1: 100%|██████████| 13/13 [00:00<00:00, 18.69batch/s, accuracy=78.8, loss=0.681]\n",
            "Epoch 2: 100%|██████████| 13/13 [00:00<00:00, 19.09batch/s, accuracy=86.9, loss=0.435]\n",
            "Epoch 3: 100%|██████████| 13/13 [00:00<00:00, 19.27batch/s, accuracy=92.3, loss=0.278]\n",
            "Epoch 4: 100%|██████████| 13/13 [00:00<00:00, 18.67batch/s, accuracy=95.4, loss=0.174]\n",
            "Epoch 0:  23%|██▎       | 3/13 [00:00<00:00, 20.79batch/s, accuracy=37.5, loss=2.53]"
          ],
          "name": "stderr"
        },
        {
          "output_type": "stream",
          "text": [
            "Training with hyperparameters: model_type [LSTM], hidden_dim [96], word_embedding_dim [96], bidirectional [False], dropout [0.01]\n"
          ],
          "name": "stdout"
        },
        {
          "output_type": "stream",
          "text": [
            "Epoch 0: 100%|██████████| 13/13 [00:00<00:00, 18.68batch/s, accuracy=63.7, loss=1.24]\n",
            "Epoch 1: 100%|██████████| 13/13 [00:00<00:00, 19.02batch/s, accuracy=77.1, loss=0.71]\n",
            "Epoch 2: 100%|██████████| 13/13 [00:00<00:00, 19.24batch/s, accuracy=86.2, loss=0.458]\n",
            "Epoch 3: 100%|██████████| 13/13 [00:00<00:00, 18.79batch/s, accuracy=90.6, loss=0.295]\n",
            "Epoch 4: 100%|██████████| 13/13 [00:00<00:00, 18.81batch/s, accuracy=93.9, loss=0.195]\n",
            "Epoch 0:  15%|█▌        | 2/13 [00:00<00:00, 18.37batch/s, accuracy=32.8, loss=2.55]"
          ],
          "name": "stderr"
        },
        {
          "output_type": "stream",
          "text": [
            "Training with hyperparameters: model_type [LSTM], hidden_dim [96], word_embedding_dim [96], bidirectional [False], dropout [0.001]\n"
          ],
          "name": "stdout"
        },
        {
          "output_type": "stream",
          "text": [
            "Epoch 0: 100%|██████████| 13/13 [00:00<00:00, 18.03batch/s, accuracy=63.5, loss=1.37]\n",
            "Epoch 1: 100%|██████████| 13/13 [00:00<00:00, 19.00batch/s, accuracy=76.1, loss=0.778]\n",
            "Epoch 2: 100%|██████████| 13/13 [00:00<00:00, 19.05batch/s, accuracy=84.2, loss=0.503]\n",
            "Epoch 3: 100%|██████████| 13/13 [00:00<00:00, 19.50batch/s, accuracy=90, loss=0.319]\n",
            "Epoch 4: 100%|██████████| 13/13 [00:00<00:00, 19.08batch/s, accuracy=93.7, loss=0.202]\n",
            "Epoch 0:  15%|█▌        | 2/13 [00:00<00:00, 18.34batch/s, accuracy=36.6, loss=2.42]"
          ],
          "name": "stderr"
        },
        {
          "output_type": "stream",
          "text": [
            "Training with hyperparameters: model_type [LSTM], hidden_dim [96], word_embedding_dim [96], bidirectional [True], dropout [0.0]\n"
          ],
          "name": "stdout"
        },
        {
          "output_type": "stream",
          "text": [
            "Epoch 0: 100%|██████████| 13/13 [00:00<00:00, 16.09batch/s, accuracy=69.3, loss=1.05]\n",
            "Epoch 1: 100%|██████████| 13/13 [00:00<00:00, 16.32batch/s, accuracy=83.7, loss=0.546]\n",
            "Epoch 2: 100%|██████████| 13/13 [00:00<00:00, 16.72batch/s, accuracy=89.7, loss=0.315]\n",
            "Epoch 3: 100%|██████████| 13/13 [00:00<00:00, 16.38batch/s, accuracy=95.1, loss=0.164]\n",
            "Epoch 4: 100%|██████████| 13/13 [00:00<00:00, 16.04batch/s, accuracy=98.4, loss=0.0762]\n",
            "Epoch 0:  15%|█▌        | 2/13 [00:00<00:00, 18.75batch/s, accuracy=42.4, loss=2.42]"
          ],
          "name": "stderr"
        },
        {
          "output_type": "stream",
          "text": [
            "Training with hyperparameters: model_type [LSTM], hidden_dim [96], word_embedding_dim [96], bidirectional [True], dropout [0.01]\n"
          ],
          "name": "stdout"
        },
        {
          "output_type": "stream",
          "text": [
            "Epoch 0: 100%|██████████| 13/13 [00:00<00:00, 16.33batch/s, accuracy=70, loss=1.03]\n",
            "Epoch 1: 100%|██████████| 13/13 [00:00<00:00, 16.57batch/s, accuracy=84.2, loss=0.53]\n",
            "Epoch 2: 100%|██████████| 13/13 [00:00<00:00, 16.23batch/s, accuracy=90.7, loss=0.293]\n",
            "Epoch 3: 100%|██████████| 13/13 [00:00<00:00, 16.28batch/s, accuracy=96, loss=0.15]\n",
            "Epoch 4: 100%|██████████| 13/13 [00:00<00:00, 16.44batch/s, accuracy=98.9, loss=0.0653]\n",
            "Epoch 0:  15%|█▌        | 2/13 [00:00<00:00, 17.89batch/s, accuracy=39.4, loss=2.41]"
          ],
          "name": "stderr"
        },
        {
          "output_type": "stream",
          "text": [
            "Training with hyperparameters: model_type [LSTM], hidden_dim [96], word_embedding_dim [96], bidirectional [True], dropout [0.001]\n"
          ],
          "name": "stdout"
        },
        {
          "output_type": "stream",
          "text": [
            "Epoch 0: 100%|██████████| 13/13 [00:00<00:00, 16.05batch/s, accuracy=65.7, loss=1.09]\n",
            "Epoch 1: 100%|██████████| 13/13 [00:00<00:00, 16.07batch/s, accuracy=82.5, loss=0.532]\n",
            "Epoch 2: 100%|██████████| 13/13 [00:00<00:00, 16.28batch/s, accuracy=90.5, loss=0.297]\n",
            "Epoch 3: 100%|██████████| 13/13 [00:00<00:00, 16.55batch/s, accuracy=96.5, loss=0.144]\n",
            "Epoch 4: 100%|██████████| 13/13 [00:00<00:00, 15.87batch/s, accuracy=99, loss=0.0667]\n",
            "Epoch 0:  15%|█▌        | 2/13 [00:00<00:00, 18.24batch/s, accuracy=37.9, loss=2.5]"
          ],
          "name": "stderr"
        },
        {
          "output_type": "stream",
          "text": [
            "Training with hyperparameters: model_type [LSTM], hidden_dim [128], word_embedding_dim [96], bidirectional [False], dropout [0.0]\n"
          ],
          "name": "stdout"
        },
        {
          "output_type": "stream",
          "text": [
            "Epoch 0: 100%|██████████| 13/13 [00:00<00:00, 17.78batch/s, accuracy=65.5, loss=1.14]\n",
            "Epoch 1: 100%|██████████| 13/13 [00:00<00:00, 18.04batch/s, accuracy=78.1, loss=0.67]\n",
            "Epoch 2: 100%|██████████| 13/13 [00:00<00:00, 17.44batch/s, accuracy=86.3, loss=0.42]\n",
            "Epoch 3: 100%|██████████| 13/13 [00:00<00:00, 17.96batch/s, accuracy=91.6, loss=0.262]\n",
            "Epoch 4: 100%|██████████| 13/13 [00:00<00:00, 18.22batch/s, accuracy=95.8, loss=0.151]\n",
            "Epoch 0:  15%|█▌        | 2/13 [00:00<00:00, 18.76batch/s, accuracy=43.1, loss=2.49]"
          ],
          "name": "stderr"
        },
        {
          "output_type": "stream",
          "text": [
            "Training with hyperparameters: model_type [LSTM], hidden_dim [128], word_embedding_dim [96], bidirectional [False], dropout [0.01]\n"
          ],
          "name": "stdout"
        },
        {
          "output_type": "stream",
          "text": [
            "Epoch 0: 100%|██████████| 13/13 [00:00<00:00, 17.71batch/s, accuracy=64.9, loss=1.13]\n",
            "Epoch 1: 100%|██████████| 13/13 [00:00<00:00, 18.26batch/s, accuracy=79, loss=0.643]\n",
            "Epoch 2: 100%|██████████| 13/13 [00:00<00:00, 18.35batch/s, accuracy=87.4, loss=0.409]\n",
            "Epoch 3: 100%|██████████| 13/13 [00:00<00:00, 18.49batch/s, accuracy=92.4, loss=0.259]\n",
            "Epoch 4: 100%|██████████| 13/13 [00:00<00:00, 17.92batch/s, accuracy=95.4, loss=0.161]\n",
            "Epoch 0:  15%|█▌        | 2/13 [00:00<00:00, 19.34batch/s, accuracy=35.7, loss=2.52]"
          ],
          "name": "stderr"
        },
        {
          "output_type": "stream",
          "text": [
            "Training with hyperparameters: model_type [LSTM], hidden_dim [128], word_embedding_dim [96], bidirectional [False], dropout [0.001]\n"
          ],
          "name": "stdout"
        },
        {
          "output_type": "stream",
          "text": [
            "Epoch 0: 100%|██████████| 13/13 [00:00<00:00, 18.06batch/s, accuracy=67.1, loss=1.12]\n",
            "Epoch 1: 100%|██████████| 13/13 [00:00<00:00, 17.67batch/s, accuracy=78.2, loss=0.654]\n",
            "Epoch 2: 100%|██████████| 13/13 [00:00<00:00, 18.47batch/s, accuracy=87.4, loss=0.404]\n",
            "Epoch 3: 100%|██████████| 13/13 [00:00<00:00, 17.90batch/s, accuracy=93, loss=0.244]\n",
            "Epoch 4: 100%|██████████| 13/13 [00:00<00:00, 17.57batch/s, accuracy=96.3, loss=0.148]\n",
            "Epoch 0:  15%|█▌        | 2/13 [00:00<00:00, 16.84batch/s, accuracy=43.4, loss=2.57]"
          ],
          "name": "stderr"
        },
        {
          "output_type": "stream",
          "text": [
            "Training with hyperparameters: model_type [LSTM], hidden_dim [128], word_embedding_dim [96], bidirectional [True], dropout [0.0]\n"
          ],
          "name": "stdout"
        },
        {
          "output_type": "stream",
          "text": [
            "Epoch 0: 100%|██████████| 13/13 [00:00<00:00, 14.79batch/s, accuracy=67, loss=1.02]\n",
            "Epoch 1: 100%|██████████| 13/13 [00:00<00:00, 15.39batch/s, accuracy=83.9, loss=0.506]\n",
            "Epoch 2: 100%|██████████| 13/13 [00:00<00:00, 15.04batch/s, accuracy=91.4, loss=0.277]\n",
            "Epoch 3: 100%|██████████| 13/13 [00:00<00:00, 15.30batch/s, accuracy=96.2, loss=0.144]\n",
            "Epoch 4: 100%|██████████| 13/13 [00:00<00:00, 15.63batch/s, accuracy=98.9, loss=0.0662]\n",
            "Epoch 0:  15%|█▌        | 2/13 [00:00<00:00, 17.77batch/s, accuracy=31.8, loss=2.29]"
          ],
          "name": "stderr"
        },
        {
          "output_type": "stream",
          "text": [
            "Training with hyperparameters: model_type [LSTM], hidden_dim [128], word_embedding_dim [96], bidirectional [True], dropout [0.01]\n"
          ],
          "name": "stdout"
        },
        {
          "output_type": "stream",
          "text": [
            "Epoch 0: 100%|██████████| 13/13 [00:00<00:00, 15.65batch/s, accuracy=67.6, loss=1.06]\n",
            "Epoch 1: 100%|██████████| 13/13 [00:00<00:00, 15.48batch/s, accuracy=82.4, loss=0.554]\n",
            "Epoch 2: 100%|██████████| 13/13 [00:00<00:00, 15.66batch/s, accuracy=90.2, loss=0.312]\n",
            "Epoch 3: 100%|██████████| 13/13 [00:00<00:00, 15.56batch/s, accuracy=96.2, loss=0.152]\n",
            "Epoch 4: 100%|██████████| 13/13 [00:00<00:00, 15.38batch/s, accuracy=98.6, loss=0.0694]\n",
            "Epoch 0:  15%|█▌        | 2/13 [00:00<00:00, 17.33batch/s, accuracy=38.1, loss=2.3]"
          ],
          "name": "stderr"
        },
        {
          "output_type": "stream",
          "text": [
            "Training with hyperparameters: model_type [LSTM], hidden_dim [128], word_embedding_dim [96], bidirectional [True], dropout [0.001]\n"
          ],
          "name": "stdout"
        },
        {
          "output_type": "stream",
          "text": [
            "Epoch 0: 100%|██████████| 13/13 [00:00<00:00, 15.61batch/s, accuracy=69.4, loss=0.955]\n",
            "Epoch 1: 100%|██████████| 13/13 [00:00<00:00, 15.60batch/s, accuracy=84.5, loss=0.482]\n",
            "Epoch 2: 100%|██████████| 13/13 [00:00<00:00, 15.90batch/s, accuracy=91.1, loss=0.259]\n",
            "Epoch 3: 100%|██████████| 13/13 [00:00<00:00, 15.61batch/s, accuracy=97.2, loss=0.124]\n",
            "Epoch 4: 100%|██████████| 13/13 [00:00<00:00, 15.77batch/s, accuracy=99.2, loss=0.0516]\n",
            "Epoch 0:  23%|██▎       | 3/13 [00:00<00:00, 21.01batch/s, accuracy=27.5, loss=2.72]"
          ],
          "name": "stderr"
        },
        {
          "output_type": "stream",
          "text": [
            "Training with hyperparameters: model_type [LSTM], hidden_dim [32], word_embedding_dim [128], bidirectional [False], dropout [0.0]\n"
          ],
          "name": "stdout"
        },
        {
          "output_type": "stream",
          "text": [
            "Epoch 0: 100%|██████████| 13/13 [00:00<00:00, 20.97batch/s, accuracy=56, loss=1.76]\n",
            "Epoch 1: 100%|██████████| 13/13 [00:00<00:00, 20.67batch/s, accuracy=74.9, loss=0.961]\n",
            "Epoch 2: 100%|██████████| 13/13 [00:00<00:00, 20.35batch/s, accuracy=83.1, loss=0.587]\n",
            "Epoch 3: 100%|██████████| 13/13 [00:00<00:00, 20.39batch/s, accuracy=89.6, loss=0.381]\n",
            "Epoch 4: 100%|██████████| 13/13 [00:00<00:00, 20.28batch/s, accuracy=93.5, loss=0.255]\n",
            "Epoch 0:  23%|██▎       | 3/13 [00:00<00:00, 22.60batch/s, accuracy=36.4, loss=2.57]"
          ],
          "name": "stderr"
        },
        {
          "output_type": "stream",
          "text": [
            "Training with hyperparameters: model_type [LSTM], hidden_dim [32], word_embedding_dim [128], bidirectional [False], dropout [0.01]\n"
          ],
          "name": "stdout"
        },
        {
          "output_type": "stream",
          "text": [
            "Epoch 0: 100%|██████████| 13/13 [00:00<00:00, 20.38batch/s, accuracy=54.3, loss=1.65]\n",
            "Epoch 1: 100%|██████████| 13/13 [00:00<00:00, 21.21batch/s, accuracy=74.1, loss=0.964]\n",
            "Epoch 2: 100%|██████████| 13/13 [00:00<00:00, 20.05batch/s, accuracy=83.9, loss=0.598]\n",
            "Epoch 3: 100%|██████████| 13/13 [00:00<00:00, 20.03batch/s, accuracy=89.9, loss=0.384]\n",
            "Epoch 4: 100%|██████████| 13/13 [00:00<00:00, 20.76batch/s, accuracy=93.7, loss=0.26]\n",
            "Epoch 0:  23%|██▎       | 3/13 [00:00<00:00, 21.62batch/s, accuracy=33.9, loss=2.63]"
          ],
          "name": "stderr"
        },
        {
          "output_type": "stream",
          "text": [
            "Training with hyperparameters: model_type [LSTM], hidden_dim [32], word_embedding_dim [128], bidirectional [False], dropout [0.001]\n"
          ],
          "name": "stdout"
        },
        {
          "output_type": "stream",
          "text": [
            "Epoch 0: 100%|██████████| 13/13 [00:00<00:00, 21.07batch/s, accuracy=56.1, loss=1.61]\n",
            "Epoch 1: 100%|██████████| 13/13 [00:00<00:00, 19.86batch/s, accuracy=75, loss=0.936]\n",
            "Epoch 2: 100%|██████████| 13/13 [00:00<00:00, 20.40batch/s, accuracy=83.3, loss=0.597]\n",
            "Epoch 3: 100%|██████████| 13/13 [00:00<00:00, 19.90batch/s, accuracy=88.7, loss=0.411]\n",
            "Epoch 4: 100%|██████████| 13/13 [00:00<00:00, 20.06batch/s, accuracy=92.8, loss=0.29]\n",
            "Epoch 0:  23%|██▎       | 3/13 [00:00<00:00, 20.53batch/s, accuracy=37.1, loss=2.59]"
          ],
          "name": "stderr"
        },
        {
          "output_type": "stream",
          "text": [
            "Training with hyperparameters: model_type [LSTM], hidden_dim [32], word_embedding_dim [128], bidirectional [True], dropout [0.0]\n"
          ],
          "name": "stdout"
        },
        {
          "output_type": "stream",
          "text": [
            "Epoch 0: 100%|██████████| 13/13 [00:00<00:00, 18.62batch/s, accuracy=64.2, loss=1.31]\n",
            "Epoch 1: 100%|██████████| 13/13 [00:00<00:00, 18.39batch/s, accuracy=80.9, loss=0.681]\n",
            "Epoch 2: 100%|██████████| 13/13 [00:00<00:00, 18.35batch/s, accuracy=88.7, loss=0.4]\n",
            "Epoch 3: 100%|██████████| 13/13 [00:00<00:00, 18.63batch/s, accuracy=94.2, loss=0.225]\n",
            "Epoch 4: 100%|██████████| 13/13 [00:00<00:00, 18.44batch/s, accuracy=97.3, loss=0.129]\n",
            "Epoch 0:  23%|██▎       | 3/13 [00:00<00:00, 20.34batch/s, accuracy=35.5, loss=2.57]"
          ],
          "name": "stderr"
        },
        {
          "output_type": "stream",
          "text": [
            "Training with hyperparameters: model_type [LSTM], hidden_dim [32], word_embedding_dim [128], bidirectional [True], dropout [0.01]\n"
          ],
          "name": "stdout"
        },
        {
          "output_type": "stream",
          "text": [
            "Epoch 0: 100%|██████████| 13/13 [00:00<00:00, 18.37batch/s, accuracy=62.1, loss=1.36]\n",
            "Epoch 1: 100%|██████████| 13/13 [00:00<00:00, 19.00batch/s, accuracy=79.6, loss=0.707]\n",
            "Epoch 2: 100%|██████████| 13/13 [00:00<00:00, 18.22batch/s, accuracy=88.7, loss=0.41]\n",
            "Epoch 3: 100%|██████████| 13/13 [00:00<00:00, 18.17batch/s, accuracy=94, loss=0.237]\n",
            "Epoch 4: 100%|██████████| 13/13 [00:00<00:00, 18.29batch/s, accuracy=96.8, loss=0.133]\n",
            "Epoch 0:  23%|██▎       | 3/13 [00:00<00:00, 19.89batch/s, accuracy=34.7, loss=2.61]"
          ],
          "name": "stderr"
        },
        {
          "output_type": "stream",
          "text": [
            "Training with hyperparameters: model_type [LSTM], hidden_dim [32], word_embedding_dim [128], bidirectional [True], dropout [0.001]\n"
          ],
          "name": "stdout"
        },
        {
          "output_type": "stream",
          "text": [
            "Epoch 0: 100%|██████████| 13/13 [00:00<00:00, 18.27batch/s, accuracy=61.8, loss=1.35]\n",
            "Epoch 1: 100%|██████████| 13/13 [00:00<00:00, 17.63batch/s, accuracy=80.6, loss=0.699]\n",
            "Epoch 2: 100%|██████████| 13/13 [00:00<00:00, 18.29batch/s, accuracy=88.9, loss=0.401]\n",
            "Epoch 3: 100%|██████████| 13/13 [00:00<00:00, 18.06batch/s, accuracy=94.5, loss=0.225]\n",
            "Epoch 4: 100%|██████████| 13/13 [00:00<00:00, 18.50batch/s, accuracy=96.7, loss=0.129]\n",
            "Epoch 0:  23%|██▎       | 3/13 [00:00<00:00, 21.89batch/s, accuracy=35, loss=2.61]"
          ],
          "name": "stderr"
        },
        {
          "output_type": "stream",
          "text": [
            "Training with hyperparameters: model_type [LSTM], hidden_dim [64], word_embedding_dim [128], bidirectional [False], dropout [0.0]\n"
          ],
          "name": "stdout"
        },
        {
          "output_type": "stream",
          "text": [
            "Epoch 0: 100%|██████████| 13/13 [00:00<00:00, 19.78batch/s, accuracy=65.5, loss=1.38]\n",
            "Epoch 1: 100%|██████████| 13/13 [00:00<00:00, 19.41batch/s, accuracy=78.5, loss=0.739]\n",
            "Epoch 2: 100%|██████████| 13/13 [00:00<00:00, 19.91batch/s, accuracy=85.5, loss=0.456]\n",
            "Epoch 3: 100%|██████████| 13/13 [00:00<00:00, 19.41batch/s, accuracy=92.4, loss=0.278]\n",
            "Epoch 4: 100%|██████████| 13/13 [00:00<00:00, 19.54batch/s, accuracy=95.4, loss=0.174]\n",
            "Epoch 0:  23%|██▎       | 3/13 [00:00<00:00, 21.40batch/s, accuracy=38.6, loss=2.59]"
          ],
          "name": "stderr"
        },
        {
          "output_type": "stream",
          "text": [
            "Training with hyperparameters: model_type [LSTM], hidden_dim [64], word_embedding_dim [128], bidirectional [False], dropout [0.01]\n"
          ],
          "name": "stdout"
        },
        {
          "output_type": "stream",
          "text": [
            "Epoch 0: 100%|██████████| 13/13 [00:00<00:00, 19.91batch/s, accuracy=63.4, loss=1.35]\n",
            "Epoch 1: 100%|██████████| 13/13 [00:00<00:00, 19.71batch/s, accuracy=79.5, loss=0.689]\n",
            "Epoch 2: 100%|██████████| 13/13 [00:00<00:00, 19.90batch/s, accuracy=87, loss=0.42]\n",
            "Epoch 3: 100%|██████████| 13/13 [00:00<00:00, 19.76batch/s, accuracy=92.4, loss=0.258]\n",
            "Epoch 4: 100%|██████████| 13/13 [00:00<00:00, 20.29batch/s, accuracy=95.2, loss=0.166]\n",
            "Epoch 0:  23%|██▎       | 3/13 [00:00<00:00, 21.20batch/s, accuracy=39.8, loss=2.56]"
          ],
          "name": "stderr"
        },
        {
          "output_type": "stream",
          "text": [
            "Training with hyperparameters: model_type [LSTM], hidden_dim [64], word_embedding_dim [128], bidirectional [False], dropout [0.001]\n"
          ],
          "name": "stdout"
        },
        {
          "output_type": "stream",
          "text": [
            "Epoch 0: 100%|██████████| 13/13 [00:00<00:00, 19.48batch/s, accuracy=64.3, loss=1.28]\n",
            "Epoch 1: 100%|██████████| 13/13 [00:00<00:00, 20.08batch/s, accuracy=79.1, loss=0.694]\n",
            "Epoch 2: 100%|██████████| 13/13 [00:00<00:00, 19.43batch/s, accuracy=85.9, loss=0.452]\n",
            "Epoch 3: 100%|██████████| 13/13 [00:00<00:00, 19.23batch/s, accuracy=91.7, loss=0.288]\n",
            "Epoch 4: 100%|██████████| 13/13 [00:00<00:00, 18.75batch/s, accuracy=94.8, loss=0.185]\n",
            "Epoch 0:  15%|█▌        | 2/13 [00:00<00:00, 18.65batch/s, accuracy=40.1, loss=2.44]"
          ],
          "name": "stderr"
        },
        {
          "output_type": "stream",
          "text": [
            "Training with hyperparameters: model_type [LSTM], hidden_dim [64], word_embedding_dim [128], bidirectional [True], dropout [0.0]\n"
          ],
          "name": "stdout"
        },
        {
          "output_type": "stream",
          "text": [
            "Epoch 0: 100%|██████████| 13/13 [00:00<00:00, 17.30batch/s, accuracy=71.2, loss=1.03]\n",
            "Epoch 1: 100%|██████████| 13/13 [00:00<00:00, 17.49batch/s, accuracy=84.9, loss=0.506]\n",
            "Epoch 2: 100%|██████████| 13/13 [00:00<00:00, 17.29batch/s, accuracy=91.7, loss=0.271]\n",
            "Epoch 3: 100%|██████████| 13/13 [00:00<00:00, 17.36batch/s, accuracy=96.9, loss=0.13]\n",
            "Epoch 4: 100%|██████████| 13/13 [00:00<00:00, 17.01batch/s, accuracy=99.1, loss=0.0616]\n",
            "Epoch 0:  15%|█▌        | 2/13 [00:00<00:00, 18.46batch/s, accuracy=44, loss=2.45]  "
          ],
          "name": "stderr"
        },
        {
          "output_type": "stream",
          "text": [
            "Training with hyperparameters: model_type [LSTM], hidden_dim [64], word_embedding_dim [128], bidirectional [True], dropout [0.01]\n"
          ],
          "name": "stdout"
        },
        {
          "output_type": "stream",
          "text": [
            "Epoch 0: 100%|██████████| 13/13 [00:00<00:00, 16.93batch/s, accuracy=71.7, loss=1]\n",
            "Epoch 1: 100%|██████████| 13/13 [00:00<00:00, 17.12batch/s, accuracy=84.5, loss=0.501]\n",
            "Epoch 2: 100%|██████████| 13/13 [00:00<00:00, 16.92batch/s, accuracy=91.9, loss=0.272]\n",
            "Epoch 3: 100%|██████████| 13/13 [00:00<00:00, 16.54batch/s, accuracy=96.6, loss=0.132]\n",
            "Epoch 4: 100%|██████████| 13/13 [00:00<00:00, 17.01batch/s, accuracy=99.1, loss=0.0594]\n",
            "Epoch 0:  15%|█▌        | 2/13 [00:00<00:00, 18.76batch/s, accuracy=42.9, loss=2.5] "
          ],
          "name": "stderr"
        },
        {
          "output_type": "stream",
          "text": [
            "Training with hyperparameters: model_type [LSTM], hidden_dim [64], word_embedding_dim [128], bidirectional [True], dropout [0.001]\n"
          ],
          "name": "stdout"
        },
        {
          "output_type": "stream",
          "text": [
            "Epoch 0: 100%|██████████| 13/13 [00:00<00:00, 16.65batch/s, accuracy=70.5, loss=1.03]\n",
            "Epoch 1: 100%|██████████| 13/13 [00:00<00:00, 16.85batch/s, accuracy=84.5, loss=0.503]\n",
            "Epoch 2: 100%|██████████| 13/13 [00:00<00:00, 17.15batch/s, accuracy=92.1, loss=0.263]\n",
            "Epoch 3: 100%|██████████| 13/13 [00:00<00:00, 16.78batch/s, accuracy=96.8, loss=0.136]\n",
            "Epoch 4: 100%|██████████| 13/13 [00:00<00:00, 16.74batch/s, accuracy=98.9, loss=0.0678]\n",
            "Epoch 0:  23%|██▎       | 3/13 [00:00<00:00, 20.54batch/s, accuracy=41.4, loss=2.53]"
          ],
          "name": "stderr"
        },
        {
          "output_type": "stream",
          "text": [
            "Training with hyperparameters: model_type [LSTM], hidden_dim [96], word_embedding_dim [128], bidirectional [False], dropout [0.0]\n"
          ],
          "name": "stdout"
        },
        {
          "output_type": "stream",
          "text": [
            "Epoch 0: 100%|██████████| 13/13 [00:00<00:00, 18.66batch/s, accuracy=65.2, loss=1.21]\n",
            "Epoch 1: 100%|██████████| 13/13 [00:00<00:00, 18.37batch/s, accuracy=78.5, loss=0.65]\n",
            "Epoch 2: 100%|██████████| 13/13 [00:00<00:00, 18.87batch/s, accuracy=87.7, loss=0.397]\n",
            "Epoch 3: 100%|██████████| 13/13 [00:00<00:00, 18.86batch/s, accuracy=93.2, loss=0.236]\n",
            "Epoch 4: 100%|██████████| 13/13 [00:00<00:00, 18.54batch/s, accuracy=95.4, loss=0.151]\n",
            "Epoch 0:  15%|█▌        | 2/13 [00:00<00:00, 19.32batch/s, accuracy=40.2, loss=2.51]"
          ],
          "name": "stderr"
        },
        {
          "output_type": "stream",
          "text": [
            "Training with hyperparameters: model_type [LSTM], hidden_dim [96], word_embedding_dim [128], bidirectional [False], dropout [0.01]\n"
          ],
          "name": "stdout"
        },
        {
          "output_type": "stream",
          "text": [
            "Epoch 0: 100%|██████████| 13/13 [00:00<00:00, 18.27batch/s, accuracy=66.4, loss=1.16]\n",
            "Epoch 1: 100%|██████████| 13/13 [00:00<00:00, 18.64batch/s, accuracy=79.1, loss=0.633]\n",
            "Epoch 2: 100%|██████████| 13/13 [00:00<00:00, 18.62batch/s, accuracy=88.6, loss=0.385]\n",
            "Epoch 3: 100%|██████████| 13/13 [00:00<00:00, 18.72batch/s, accuracy=93.4, loss=0.233]\n",
            "Epoch 4: 100%|██████████| 13/13 [00:00<00:00, 18.15batch/s, accuracy=96.1, loss=0.147]\n",
            "Epoch 0:  23%|██▎       | 3/13 [00:00<00:00, 21.02batch/s, accuracy=36.5, loss=2.47]"
          ],
          "name": "stderr"
        },
        {
          "output_type": "stream",
          "text": [
            "Training with hyperparameters: model_type [LSTM], hidden_dim [96], word_embedding_dim [128], bidirectional [False], dropout [0.001]\n"
          ],
          "name": "stdout"
        },
        {
          "output_type": "stream",
          "text": [
            "Epoch 0: 100%|██████████| 13/13 [00:00<00:00, 18.50batch/s, accuracy=66, loss=1.21]\n",
            "Epoch 1: 100%|██████████| 13/13 [00:00<00:00, 18.85batch/s, accuracy=78.3, loss=0.663]\n",
            "Epoch 2: 100%|██████████| 13/13 [00:00<00:00, 19.04batch/s, accuracy=86.4, loss=0.421]\n",
            "Epoch 3: 100%|██████████| 13/13 [00:00<00:00, 18.42batch/s, accuracy=92.4, loss=0.255]\n",
            "Epoch 4: 100%|██████████| 13/13 [00:00<00:00, 19.04batch/s, accuracy=95.6, loss=0.152]\n",
            "Epoch 0:  15%|█▌        | 2/13 [00:00<00:00, 17.12batch/s, accuracy=42.4, loss=2.33]"
          ],
          "name": "stderr"
        },
        {
          "output_type": "stream",
          "text": [
            "Training with hyperparameters: model_type [LSTM], hidden_dim [96], word_embedding_dim [128], bidirectional [True], dropout [0.0]\n"
          ],
          "name": "stdout"
        },
        {
          "output_type": "stream",
          "text": [
            "Epoch 0: 100%|██████████| 13/13 [00:00<00:00, 15.78batch/s, accuracy=72.3, loss=0.878]\n",
            "Epoch 1: 100%|██████████| 13/13 [00:00<00:00, 15.99batch/s, accuracy=86.6, loss=0.42]\n",
            "Epoch 2: 100%|██████████| 13/13 [00:00<00:00, 16.05batch/s, accuracy=94, loss=0.209]\n",
            "Epoch 3: 100%|██████████| 13/13 [00:00<00:00, 16.33batch/s, accuracy=98.7, loss=0.1]\n",
            "Epoch 4: 100%|██████████| 13/13 [00:00<00:00, 16.32batch/s, accuracy=99.5, loss=0.0446]\n",
            "Epoch 0:  15%|█▌        | 2/13 [00:00<00:00, 17.58batch/s, accuracy=40.7, loss=2.38]"
          ],
          "name": "stderr"
        },
        {
          "output_type": "stream",
          "text": [
            "Training with hyperparameters: model_type [LSTM], hidden_dim [96], word_embedding_dim [128], bidirectional [True], dropout [0.01]\n"
          ],
          "name": "stdout"
        },
        {
          "output_type": "stream",
          "text": [
            "Epoch 0: 100%|██████████| 13/13 [00:00<00:00, 16.36batch/s, accuracy=70.5, loss=0.943]\n",
            "Epoch 1: 100%|██████████| 13/13 [00:00<00:00, 16.18batch/s, accuracy=85.5, loss=0.434]\n",
            "Epoch 2: 100%|██████████| 13/13 [00:00<00:00, 16.41batch/s, accuracy=93.8, loss=0.209]\n",
            "Epoch 3: 100%|██████████| 13/13 [00:00<00:00, 16.35batch/s, accuracy=98.4, loss=0.0925]\n",
            "Epoch 4: 100%|██████████| 13/13 [00:00<00:00, 15.88batch/s, accuracy=99.6, loss=0.0408]\n",
            "Epoch 0:  15%|█▌        | 2/13 [00:00<00:00, 17.41batch/s, accuracy=41.5, loss=2.32]"
          ],
          "name": "stderr"
        },
        {
          "output_type": "stream",
          "text": [
            "Training with hyperparameters: model_type [LSTM], hidden_dim [96], word_embedding_dim [128], bidirectional [True], dropout [0.001]\n"
          ],
          "name": "stdout"
        },
        {
          "output_type": "stream",
          "text": [
            "Epoch 0: 100%|██████████| 13/13 [00:00<00:00, 16.02batch/s, accuracy=71.6, loss=0.911]\n",
            "Epoch 1: 100%|██████████| 13/13 [00:00<00:00, 16.01batch/s, accuracy=85.2, loss=0.448]\n",
            "Epoch 2: 100%|██████████| 13/13 [00:00<00:00, 15.80batch/s, accuracy=93.6, loss=0.227]\n",
            "Epoch 3: 100%|██████████| 13/13 [00:00<00:00, 15.54batch/s, accuracy=98, loss=0.102]\n",
            "Epoch 4: 100%|██████████| 13/13 [00:00<00:00, 16.07batch/s, accuracy=99.3, loss=0.0433]\n",
            "Epoch 0:  15%|█▌        | 2/13 [00:00<00:00, 19.15batch/s, accuracy=37.7, loss=2.46]"
          ],
          "name": "stderr"
        },
        {
          "output_type": "stream",
          "text": [
            "Training with hyperparameters: model_type [LSTM], hidden_dim [128], word_embedding_dim [128], bidirectional [False], dropout [0.0]\n"
          ],
          "name": "stdout"
        },
        {
          "output_type": "stream",
          "text": [
            "Epoch 0: 100%|██████████| 13/13 [00:00<00:00, 17.34batch/s, accuracy=66.2, loss=1.11]\n",
            "Epoch 1: 100%|██████████| 13/13 [00:00<00:00, 17.93batch/s, accuracy=80.9, loss=0.61]\n",
            "Epoch 2: 100%|██████████| 13/13 [00:00<00:00, 18.19batch/s, accuracy=88.3, loss=0.373]\n",
            "Epoch 3: 100%|██████████| 13/13 [00:00<00:00, 18.11batch/s, accuracy=93.6, loss=0.224]\n",
            "Epoch 4: 100%|██████████| 13/13 [00:00<00:00, 17.91batch/s, accuracy=96.5, loss=0.127]\n",
            "Epoch 0:  15%|█▌        | 2/13 [00:00<00:00, 19.31batch/s, accuracy=39.2, loss=2.42]"
          ],
          "name": "stderr"
        },
        {
          "output_type": "stream",
          "text": [
            "Training with hyperparameters: model_type [LSTM], hidden_dim [128], word_embedding_dim [128], bidirectional [False], dropout [0.01]\n"
          ],
          "name": "stdout"
        },
        {
          "output_type": "stream",
          "text": [
            "Epoch 0: 100%|██████████| 13/13 [00:00<00:00, 17.73batch/s, accuracy=69.7, loss=1.03]\n",
            "Epoch 1: 100%|██████████| 13/13 [00:00<00:00, 18.10batch/s, accuracy=81.5, loss=0.568]\n",
            "Epoch 2: 100%|██████████| 13/13 [00:00<00:00, 17.54batch/s, accuracy=90, loss=0.342]\n",
            "Epoch 3: 100%|██████████| 13/13 [00:00<00:00, 17.32batch/s, accuracy=94.3, loss=0.207]\n",
            "Epoch 4: 100%|██████████| 13/13 [00:00<00:00, 17.93batch/s, accuracy=96.6, loss=0.129]\n",
            "Epoch 0:  23%|██▎       | 3/13 [00:00<00:00, 19.81batch/s, accuracy=41.4, loss=2.43]"
          ],
          "name": "stderr"
        },
        {
          "output_type": "stream",
          "text": [
            "Training with hyperparameters: model_type [LSTM], hidden_dim [128], word_embedding_dim [128], bidirectional [False], dropout [0.001]\n"
          ],
          "name": "stdout"
        },
        {
          "output_type": "stream",
          "text": [
            "Epoch 0: 100%|██████████| 13/13 [00:00<00:00, 17.41batch/s, accuracy=70.2, loss=1.01]\n",
            "Epoch 1: 100%|██████████| 13/13 [00:00<00:00, 17.69batch/s, accuracy=81.6, loss=0.56]\n",
            "Epoch 2: 100%|██████████| 13/13 [00:00<00:00, 18.43batch/s, accuracy=89.1, loss=0.333]\n",
            "Epoch 3: 100%|██████████| 13/13 [00:00<00:00, 18.28batch/s, accuracy=94.2, loss=0.196]\n",
            "Epoch 4: 100%|██████████| 13/13 [00:00<00:00, 18.16batch/s, accuracy=97, loss=0.12]\n",
            "Epoch 0:  15%|█▌        | 2/13 [00:00<00:00, 16.49batch/s, accuracy=44.5, loss=2.54]"
          ],
          "name": "stderr"
        },
        {
          "output_type": "stream",
          "text": [
            "Training with hyperparameters: model_type [LSTM], hidden_dim [128], word_embedding_dim [128], bidirectional [True], dropout [0.0]\n"
          ],
          "name": "stdout"
        },
        {
          "output_type": "stream",
          "text": [
            "Epoch 0: 100%|██████████| 13/13 [00:00<00:00, 14.81batch/s, accuracy=72.6, loss=0.858]\n",
            "Epoch 1: 100%|██████████| 13/13 [00:00<00:00, 15.10batch/s, accuracy=86.4, loss=0.414]\n",
            "Epoch 2: 100%|██████████| 13/13 [00:00<00:00, 15.13batch/s, accuracy=93.9, loss=0.199]\n",
            "Epoch 3: 100%|██████████| 13/13 [00:00<00:00, 15.34batch/s, accuracy=98.5, loss=0.0809]\n",
            "Epoch 4: 100%|██████████| 13/13 [00:00<00:00, 15.05batch/s, accuracy=99.6, loss=0.036]\n",
            "Epoch 0:  15%|█▌        | 2/13 [00:00<00:00, 16.62batch/s, accuracy=45.5, loss=2.52]"
          ],
          "name": "stderr"
        },
        {
          "output_type": "stream",
          "text": [
            "Training with hyperparameters: model_type [LSTM], hidden_dim [128], word_embedding_dim [128], bidirectional [True], dropout [0.01]\n"
          ],
          "name": "stdout"
        },
        {
          "output_type": "stream",
          "text": [
            "Epoch 0: 100%|██████████| 13/13 [00:00<00:00, 15.24batch/s, accuracy=72.9, loss=0.898]\n",
            "Epoch 1: 100%|██████████| 13/13 [00:00<00:00, 15.41batch/s, accuracy=86.4, loss=0.418]\n",
            "Epoch 2: 100%|██████████| 13/13 [00:00<00:00, 15.29batch/s, accuracy=94.1, loss=0.195]\n",
            "Epoch 3: 100%|██████████| 13/13 [00:00<00:00, 15.57batch/s, accuracy=98.5, loss=0.0743]\n",
            "Epoch 4: 100%|██████████| 13/13 [00:00<00:00, 15.63batch/s, accuracy=99.7, loss=0.0387]\n",
            "Epoch 0:  15%|█▌        | 2/13 [00:00<00:00, 17.47batch/s, accuracy=43.2, loss=2.27]"
          ],
          "name": "stderr"
        },
        {
          "output_type": "stream",
          "text": [
            "Training with hyperparameters: model_type [LSTM], hidden_dim [128], word_embedding_dim [128], bidirectional [True], dropout [0.001]\n"
          ],
          "name": "stdout"
        },
        {
          "output_type": "stream",
          "text": [
            "Epoch 0: 100%|██████████| 13/13 [00:00<00:00, 15.77batch/s, accuracy=74.1, loss=0.828]\n",
            "Epoch 1: 100%|██████████| 13/13 [00:00<00:00, 15.56batch/s, accuracy=87.6, loss=0.38]\n",
            "Epoch 2: 100%|██████████| 13/13 [00:00<00:00, 15.85batch/s, accuracy=95, loss=0.164]\n",
            "Epoch 3: 100%|██████████| 13/13 [00:00<00:00, 15.64batch/s, accuracy=99.3, loss=0.0574]\n",
            "Epoch 4: 100%|██████████| 13/13 [00:00<00:00, 15.83batch/s, accuracy=99.6, loss=0.0296]\n",
            "Epoch 0:  23%|██▎       | 3/13 [00:00<00:00, 21.52batch/s, accuracy=29.7, loss=2.59]"
          ],
          "name": "stderr"
        },
        {
          "output_type": "stream",
          "text": [
            "Training with hyperparameters: model_type [GRU], hidden_dim [32], word_embedding_dim [32], bidirectional [False], dropout [0.0]\n"
          ],
          "name": "stdout"
        },
        {
          "output_type": "stream",
          "text": [
            "Epoch 0: 100%|██████████| 13/13 [00:00<00:00, 20.73batch/s, accuracy=45.9, loss=1.86]\n",
            "Epoch 1: 100%|██████████| 13/13 [00:00<00:00, 20.64batch/s, accuracy=60.8, loss=1.3]\n",
            "Epoch 2: 100%|██████████| 13/13 [00:00<00:00, 20.55batch/s, accuracy=69.6, loss=0.977]\n",
            "Epoch 3: 100%|██████████| 13/13 [00:00<00:00, 20.66batch/s, accuracy=77.4, loss=0.734]\n",
            "Epoch 4: 100%|██████████| 13/13 [00:00<00:00, 20.28batch/s, accuracy=83.7, loss=0.565]\n",
            "Epoch 0:  23%|██▎       | 3/13 [00:00<00:00, 22.39batch/s, accuracy=25.4, loss=2.59]"
          ],
          "name": "stderr"
        },
        {
          "output_type": "stream",
          "text": [
            "Training with hyperparameters: model_type [GRU], hidden_dim [32], word_embedding_dim [32], bidirectional [False], dropout [0.01]\n"
          ],
          "name": "stdout"
        },
        {
          "output_type": "stream",
          "text": [
            "Epoch 0: 100%|██████████| 13/13 [00:00<00:00, 20.70batch/s, accuracy=38.1, loss=1.94]\n",
            "Epoch 1: 100%|██████████| 13/13 [00:00<00:00, 20.95batch/s, accuracy=58.6, loss=1.37]\n",
            "Epoch 2: 100%|██████████| 13/13 [00:00<00:00, 20.79batch/s, accuracy=72.3, loss=0.956]\n",
            "Epoch 3: 100%|██████████| 13/13 [00:00<00:00, 21.20batch/s, accuracy=79.8, loss=0.691]\n",
            "Epoch 4: 100%|██████████| 13/13 [00:00<00:00, 21.12batch/s, accuracy=84.5, loss=0.519]\n",
            "Epoch 0:  23%|██▎       | 3/13 [00:00<00:00, 21.81batch/s, accuracy=23.2, loss=2.69]"
          ],
          "name": "stderr"
        },
        {
          "output_type": "stream",
          "text": [
            "Training with hyperparameters: model_type [GRU], hidden_dim [32], word_embedding_dim [32], bidirectional [False], dropout [0.001]\n"
          ],
          "name": "stdout"
        },
        {
          "output_type": "stream",
          "text": [
            "Epoch 0: 100%|██████████| 13/13 [00:00<00:00, 20.16batch/s, accuracy=41.5, loss=1.91]\n",
            "Epoch 1: 100%|██████████| 13/13 [00:00<00:00, 20.46batch/s, accuracy=60.3, loss=1.27]\n",
            "Epoch 2: 100%|██████████| 13/13 [00:00<00:00, 20.62batch/s, accuracy=71.2, loss=0.918]\n",
            "Epoch 3: 100%|██████████| 13/13 [00:00<00:00, 20.84batch/s, accuracy=78.6, loss=0.697]\n",
            "Epoch 4: 100%|██████████| 13/13 [00:00<00:00, 20.32batch/s, accuracy=84.1, loss=0.535]\n",
            "Epoch 0:  15%|█▌        | 2/13 [00:00<00:00, 18.82batch/s, accuracy=21.1, loss=2.63]"
          ],
          "name": "stderr"
        },
        {
          "output_type": "stream",
          "text": [
            "Training with hyperparameters: model_type [GRU], hidden_dim [32], word_embedding_dim [32], bidirectional [True], dropout [0.0]\n"
          ],
          "name": "stdout"
        },
        {
          "output_type": "stream",
          "text": [
            "Epoch 0: 100%|██████████| 13/13 [00:00<00:00, 17.53batch/s, accuracy=46.8, loss=1.7]\n",
            "Epoch 1: 100%|██████████| 13/13 [00:00<00:00, 17.91batch/s, accuracy=66.7, loss=1.08]\n",
            "Epoch 2: 100%|██████████| 13/13 [00:00<00:00, 17.72batch/s, accuracy=77.7, loss=0.74]\n",
            "Epoch 3: 100%|██████████| 13/13 [00:00<00:00, 17.42batch/s, accuracy=84.6, loss=0.521]\n",
            "Epoch 4: 100%|██████████| 13/13 [00:00<00:00, 17.80batch/s, accuracy=88.4, loss=0.372]\n",
            "Epoch 0:  15%|█▌        | 2/13 [00:00<00:00, 19.59batch/s, accuracy=24.5, loss=2.65]"
          ],
          "name": "stderr"
        },
        {
          "output_type": "stream",
          "text": [
            "Training with hyperparameters: model_type [GRU], hidden_dim [32], word_embedding_dim [32], bidirectional [True], dropout [0.01]\n"
          ],
          "name": "stdout"
        },
        {
          "output_type": "stream",
          "text": [
            "Epoch 0: 100%|██████████| 13/13 [00:00<00:00, 17.96batch/s, accuracy=49.9, loss=1.62]\n",
            "Epoch 1: 100%|██████████| 13/13 [00:00<00:00, 17.77batch/s, accuracy=69.1, loss=1.04]\n",
            "Epoch 2: 100%|██████████| 13/13 [00:00<00:00, 18.02batch/s, accuracy=78.6, loss=0.738]\n",
            "Epoch 3: 100%|██████████| 13/13 [00:00<00:00, 18.34batch/s, accuracy=85.4, loss=0.529]\n",
            "Epoch 4: 100%|██████████| 13/13 [00:00<00:00, 18.18batch/s, accuracy=89.7, loss=0.385]\n",
            "Epoch 0:  23%|██▎       | 3/13 [00:00<00:00, 20.38batch/s, accuracy=21.8, loss=2.66]"
          ],
          "name": "stderr"
        },
        {
          "output_type": "stream",
          "text": [
            "Training with hyperparameters: model_type [GRU], hidden_dim [32], word_embedding_dim [32], bidirectional [True], dropout [0.001]\n"
          ],
          "name": "stdout"
        },
        {
          "output_type": "stream",
          "text": [
            "Epoch 0: 100%|██████████| 13/13 [00:00<00:00, 18.45batch/s, accuracy=52.1, loss=1.62]\n",
            "Epoch 1: 100%|██████████| 13/13 [00:00<00:00, 17.99batch/s, accuracy=67.5, loss=1.02]\n",
            "Epoch 2: 100%|██████████| 13/13 [00:00<00:00, 18.20batch/s, accuracy=78.5, loss=0.711]\n",
            "Epoch 3: 100%|██████████| 13/13 [00:00<00:00, 17.58batch/s, accuracy=83.9, loss=0.515]\n",
            "Epoch 4: 100%|██████████| 13/13 [00:00<00:00, 18.91batch/s, accuracy=88, loss=0.373]\n",
            "Epoch 0:  23%|██▎       | 3/13 [00:00<00:00, 21.65batch/s, accuracy=30.4, loss=2.48]"
          ],
          "name": "stderr"
        },
        {
          "output_type": "stream",
          "text": [
            "Training with hyperparameters: model_type [GRU], hidden_dim [64], word_embedding_dim [32], bidirectional [False], dropout [0.0]\n"
          ],
          "name": "stdout"
        },
        {
          "output_type": "stream",
          "text": [
            "Epoch 0: 100%|██████████| 13/13 [00:00<00:00, 20.26batch/s, accuracy=48, loss=1.63]\n",
            "Epoch 1: 100%|██████████| 13/13 [00:00<00:00, 20.04batch/s, accuracy=65.6, loss=1.09]\n",
            "Epoch 2: 100%|██████████| 13/13 [00:00<00:00, 20.55batch/s, accuracy=75.6, loss=0.783]\n",
            "Epoch 3: 100%|██████████| 13/13 [00:00<00:00, 20.07batch/s, accuracy=81.7, loss=0.582]\n",
            "Epoch 4: 100%|██████████| 13/13 [00:00<00:00, 20.10batch/s, accuracy=86.8, loss=0.434]\n",
            "Epoch 0:  23%|██▎       | 3/13 [00:00<00:00, 19.55batch/s, accuracy=23.2, loss=2.64]"
          ],
          "name": "stderr"
        },
        {
          "output_type": "stream",
          "text": [
            "Training with hyperparameters: model_type [GRU], hidden_dim [64], word_embedding_dim [32], bidirectional [False], dropout [0.01]\n"
          ],
          "name": "stdout"
        },
        {
          "output_type": "stream",
          "text": [
            "Epoch 0: 100%|██████████| 13/13 [00:00<00:00, 19.61batch/s, accuracy=51.5, loss=1.65]\n",
            "Epoch 1: 100%|██████████| 13/13 [00:00<00:00, 19.67batch/s, accuracy=64.2, loss=1.15]\n",
            "Epoch 2: 100%|██████████| 13/13 [00:00<00:00, 19.92batch/s, accuracy=73.5, loss=0.842]\n",
            "Epoch 3: 100%|██████████| 13/13 [00:00<00:00, 19.72batch/s, accuracy=80.9, loss=0.622]\n",
            "Epoch 4: 100%|██████████| 13/13 [00:00<00:00, 20.17batch/s, accuracy=86.8, loss=0.461]\n",
            "Epoch 0:  23%|██▎       | 3/13 [00:00<00:00, 21.82batch/s, accuracy=34.5, loss=2.44]"
          ],
          "name": "stderr"
        },
        {
          "output_type": "stream",
          "text": [
            "Training with hyperparameters: model_type [GRU], hidden_dim [64], word_embedding_dim [32], bidirectional [False], dropout [0.001]\n"
          ],
          "name": "stdout"
        },
        {
          "output_type": "stream",
          "text": [
            "Epoch 0: 100%|██████████| 13/13 [00:00<00:00, 19.91batch/s, accuracy=45.9, loss=1.66]\n",
            "Epoch 1: 100%|██████████| 13/13 [00:00<00:00, 19.83batch/s, accuracy=64.9, loss=1.12]\n",
            "Epoch 2: 100%|██████████| 13/13 [00:00<00:00, 19.77batch/s, accuracy=73.8, loss=0.793]\n",
            "Epoch 3: 100%|██████████| 13/13 [00:00<00:00, 20.58batch/s, accuracy=81.2, loss=0.587]\n",
            "Epoch 4: 100%|██████████| 13/13 [00:00<00:00, 19.79batch/s, accuracy=85.3, loss=0.437]\n",
            "Epoch 0:  15%|█▌        | 2/13 [00:00<00:00, 19.10batch/s, accuracy=27.6, loss=2.52]"
          ],
          "name": "stderr"
        },
        {
          "output_type": "stream",
          "text": [
            "Training with hyperparameters: model_type [GRU], hidden_dim [64], word_embedding_dim [32], bidirectional [True], dropout [0.0]\n"
          ],
          "name": "stdout"
        },
        {
          "output_type": "stream",
          "text": [
            "Epoch 0: 100%|██████████| 13/13 [00:00<00:00, 16.81batch/s, accuracy=55, loss=1.44]\n",
            "Epoch 1: 100%|██████████| 13/13 [00:00<00:00, 17.17batch/s, accuracy=71.5, loss=0.898]\n",
            "Epoch 2: 100%|██████████| 13/13 [00:00<00:00, 17.28batch/s, accuracy=81.7, loss=0.609]\n",
            "Epoch 3: 100%|██████████| 13/13 [00:00<00:00, 17.20batch/s, accuracy=87.3, loss=0.437]\n",
            "Epoch 4: 100%|██████████| 13/13 [00:00<00:00, 16.92batch/s, accuracy=91.1, loss=0.31]\n",
            "Epoch 0:  15%|█▌        | 2/13 [00:00<00:00, 17.75batch/s, accuracy=25.2, loss=2.54]"
          ],
          "name": "stderr"
        },
        {
          "output_type": "stream",
          "text": [
            "Training with hyperparameters: model_type [GRU], hidden_dim [64], word_embedding_dim [32], bidirectional [True], dropout [0.01]\n"
          ],
          "name": "stdout"
        },
        {
          "output_type": "stream",
          "text": [
            "Epoch 0: 100%|██████████| 13/13 [00:00<00:00, 16.66batch/s, accuracy=56.7, loss=1.4]\n",
            "Epoch 1: 100%|██████████| 13/13 [00:00<00:00, 16.88batch/s, accuracy=71.7, loss=0.925]\n",
            "Epoch 2: 100%|██████████| 13/13 [00:00<00:00, 16.97batch/s, accuracy=81.5, loss=0.629]\n",
            "Epoch 3: 100%|██████████| 13/13 [00:00<00:00, 17.32batch/s, accuracy=87.2, loss=0.423]\n",
            "Epoch 4: 100%|██████████| 13/13 [00:00<00:00, 16.73batch/s, accuracy=91.5, loss=0.288]\n",
            "Epoch 0:  15%|█▌        | 2/13 [00:00<00:00, 18.98batch/s, accuracy=29.5, loss=2.5] "
          ],
          "name": "stderr"
        },
        {
          "output_type": "stream",
          "text": [
            "Training with hyperparameters: model_type [GRU], hidden_dim [64], word_embedding_dim [32], bidirectional [True], dropout [0.001]\n"
          ],
          "name": "stdout"
        },
        {
          "output_type": "stream",
          "text": [
            "Epoch 0: 100%|██████████| 13/13 [00:00<00:00, 16.73batch/s, accuracy=57.9, loss=1.37]\n",
            "Epoch 1: 100%|██████████| 13/13 [00:00<00:00, 16.96batch/s, accuracy=72.9, loss=0.87]\n",
            "Epoch 2: 100%|██████████| 13/13 [00:00<00:00, 16.78batch/s, accuracy=82.1, loss=0.597]\n",
            "Epoch 3: 100%|██████████| 13/13 [00:00<00:00, 17.43batch/s, accuracy=87.3, loss=0.42]\n",
            "Epoch 4: 100%|██████████| 13/13 [00:00<00:00, 17.23batch/s, accuracy=90.9, loss=0.296]\n",
            "Epoch 0:  15%|█▌        | 2/13 [00:00<00:00, 19.35batch/s, accuracy=25.4, loss=2.58]"
          ],
          "name": "stderr"
        },
        {
          "output_type": "stream",
          "text": [
            "Training with hyperparameters: model_type [GRU], hidden_dim [96], word_embedding_dim [32], bidirectional [False], dropout [0.0]\n"
          ],
          "name": "stdout"
        },
        {
          "output_type": "stream",
          "text": [
            "Epoch 0: 100%|██████████| 13/13 [00:00<00:00, 18.74batch/s, accuracy=52.8, loss=1.49]\n",
            "Epoch 1: 100%|██████████| 13/13 [00:00<00:00, 19.19batch/s, accuracy=65.1, loss=1.05]\n",
            "Epoch 2: 100%|██████████| 13/13 [00:00<00:00, 19.17batch/s, accuracy=75.6, loss=0.747]\n",
            "Epoch 3: 100%|██████████| 13/13 [00:00<00:00, 19.15batch/s, accuracy=82.6, loss=0.561]\n",
            "Epoch 4: 100%|██████████| 13/13 [00:00<00:00, 18.97batch/s, accuracy=87.2, loss=0.421]\n",
            "Epoch 0:  23%|██▎       | 3/13 [00:00<00:00, 20.66batch/s, accuracy=30.1, loss=2.37]"
          ],
          "name": "stderr"
        },
        {
          "output_type": "stream",
          "text": [
            "Training with hyperparameters: model_type [GRU], hidden_dim [96], word_embedding_dim [32], bidirectional [False], dropout [0.01]\n"
          ],
          "name": "stdout"
        },
        {
          "output_type": "stream",
          "text": [
            "Epoch 0: 100%|██████████| 13/13 [00:00<00:00, 18.92batch/s, accuracy=54.9, loss=1.51]\n",
            "Epoch 1: 100%|██████████| 13/13 [00:00<00:00, 19.34batch/s, accuracy=68.4, loss=0.995]\n",
            "Epoch 2: 100%|██████████| 13/13 [00:00<00:00, 19.62batch/s, accuracy=75.8, loss=0.721]\n",
            "Epoch 3: 100%|██████████| 13/13 [00:00<00:00, 19.52batch/s, accuracy=82.8, loss=0.534]\n",
            "Epoch 4: 100%|██████████| 13/13 [00:00<00:00, 19.20batch/s, accuracy=88.1, loss=0.392]\n",
            "Epoch 0:  23%|██▎       | 3/13 [00:00<00:00, 21.03batch/s, accuracy=32.6, loss=2.49]"
          ],
          "name": "stderr"
        },
        {
          "output_type": "stream",
          "text": [
            "Training with hyperparameters: model_type [GRU], hidden_dim [96], word_embedding_dim [32], bidirectional [False], dropout [0.001]\n"
          ],
          "name": "stdout"
        },
        {
          "output_type": "stream",
          "text": [
            "Epoch 0: 100%|██████████| 13/13 [00:00<00:00, 19.37batch/s, accuracy=48.9, loss=1.6]\n",
            "Epoch 1: 100%|██████████| 13/13 [00:00<00:00, 18.81batch/s, accuracy=65.8, loss=1.06]\n",
            "Epoch 2: 100%|██████████| 13/13 [00:00<00:00, 18.97batch/s, accuracy=75, loss=0.751]\n",
            "Epoch 3: 100%|██████████| 13/13 [00:00<00:00, 19.07batch/s, accuracy=82.5, loss=0.552]\n",
            "Epoch 4: 100%|██████████| 13/13 [00:00<00:00, 19.07batch/s, accuracy=88.2, loss=0.412]\n",
            "Epoch 0:  15%|█▌        | 2/13 [00:00<00:00, 17.37batch/s, accuracy=23.3, loss=2.49]"
          ],
          "name": "stderr"
        },
        {
          "output_type": "stream",
          "text": [
            "Training with hyperparameters: model_type [GRU], hidden_dim [96], word_embedding_dim [32], bidirectional [True], dropout [0.0]\n"
          ],
          "name": "stdout"
        },
        {
          "output_type": "stream",
          "text": [
            "Epoch 0: 100%|██████████| 13/13 [00:00<00:00, 15.82batch/s, accuracy=57, loss=1.35]\n",
            "Epoch 1: 100%|██████████| 13/13 [00:00<00:00, 15.93batch/s, accuracy=73.4, loss=0.825]\n",
            "Epoch 2: 100%|██████████| 13/13 [00:00<00:00, 15.90batch/s, accuracy=82.7, loss=0.542]\n",
            "Epoch 3: 100%|██████████| 13/13 [00:00<00:00, 15.71batch/s, accuracy=88.4, loss=0.364]\n",
            "Epoch 4: 100%|██████████| 13/13 [00:00<00:00, 16.04batch/s, accuracy=92.8, loss=0.239]\n",
            "Epoch 0:  15%|█▌        | 2/13 [00:00<00:00, 17.61batch/s, accuracy=28.5, loss=2.46]"
          ],
          "name": "stderr"
        },
        {
          "output_type": "stream",
          "text": [
            "Training with hyperparameters: model_type [GRU], hidden_dim [96], word_embedding_dim [32], bidirectional [True], dropout [0.01]\n"
          ],
          "name": "stdout"
        },
        {
          "output_type": "stream",
          "text": [
            "Epoch 0: 100%|██████████| 13/13 [00:00<00:00, 16.14batch/s, accuracy=60.3, loss=1.3]\n",
            "Epoch 1: 100%|██████████| 13/13 [00:00<00:00, 16.24batch/s, accuracy=73.8, loss=0.819]\n",
            "Epoch 2: 100%|██████████| 13/13 [00:00<00:00, 15.94batch/s, accuracy=82.5, loss=0.55]\n",
            "Epoch 3: 100%|██████████| 13/13 [00:00<00:00, 15.88batch/s, accuracy=87.7, loss=0.381]\n",
            "Epoch 4: 100%|██████████| 13/13 [00:00<00:00, 16.30batch/s, accuracy=92.4, loss=0.261]\n",
            "Epoch 0:  15%|█▌        | 2/13 [00:00<00:00, 17.65batch/s, accuracy=26.6, loss=2.43]"
          ],
          "name": "stderr"
        },
        {
          "output_type": "stream",
          "text": [
            "Training with hyperparameters: model_type [GRU], hidden_dim [96], word_embedding_dim [32], bidirectional [True], dropout [0.001]\n"
          ],
          "name": "stdout"
        },
        {
          "output_type": "stream",
          "text": [
            "Epoch 0: 100%|██████████| 13/13 [00:00<00:00, 16.07batch/s, accuracy=59.1, loss=1.31]\n",
            "Epoch 1: 100%|██████████| 13/13 [00:00<00:00, 16.16batch/s, accuracy=74.5, loss=0.82]\n",
            "Epoch 2: 100%|██████████| 13/13 [00:00<00:00, 16.15batch/s, accuracy=83.1, loss=0.551]\n",
            "Epoch 3: 100%|██████████| 13/13 [00:00<00:00, 16.15batch/s, accuracy=88.7, loss=0.375]\n",
            "Epoch 4: 100%|██████████| 13/13 [00:00<00:00, 16.44batch/s, accuracy=92.7, loss=0.253]\n",
            "Epoch 0:  23%|██▎       | 3/13 [00:00<00:00, 20.35batch/s, accuracy=24.3, loss=2.48]"
          ],
          "name": "stderr"
        },
        {
          "output_type": "stream",
          "text": [
            "Training with hyperparameters: model_type [GRU], hidden_dim [128], word_embedding_dim [32], bidirectional [False], dropout [0.0]\n"
          ],
          "name": "stdout"
        },
        {
          "output_type": "stream",
          "text": [
            "Epoch 0: 100%|██████████| 13/13 [00:00<00:00, 18.06batch/s, accuracy=52.2, loss=1.52]\n",
            "Epoch 1: 100%|██████████| 13/13 [00:00<00:00, 17.83batch/s, accuracy=64.6, loss=1.05]\n",
            "Epoch 2: 100%|██████████| 13/13 [00:00<00:00, 18.71batch/s, accuracy=74.7, loss=0.753]\n",
            "Epoch 3: 100%|██████████| 13/13 [00:00<00:00, 18.17batch/s, accuracy=81.1, loss=0.547]\n",
            "Epoch 4: 100%|██████████| 13/13 [00:00<00:00, 18.14batch/s, accuracy=87.7, loss=0.389]\n",
            "Epoch 0:  23%|██▎       | 3/13 [00:00<00:00, 20.84batch/s, accuracy=22.4, loss=2.51]"
          ],
          "name": "stderr"
        },
        {
          "output_type": "stream",
          "text": [
            "Training with hyperparameters: model_type [GRU], hidden_dim [128], word_embedding_dim [32], bidirectional [False], dropout [0.01]\n"
          ],
          "name": "stdout"
        },
        {
          "output_type": "stream",
          "text": [
            "Epoch 0: 100%|██████████| 13/13 [00:00<00:00, 18.43batch/s, accuracy=52.2, loss=1.48]\n",
            "Epoch 1: 100%|██████████| 13/13 [00:00<00:00, 18.49batch/s, accuracy=67.8, loss=1]\n",
            "Epoch 2: 100%|██████████| 13/13 [00:00<00:00, 18.65batch/s, accuracy=75.9, loss=0.739]\n",
            "Epoch 3: 100%|██████████| 13/13 [00:00<00:00, 18.11batch/s, accuracy=81.9, loss=0.541]\n",
            "Epoch 4: 100%|██████████| 13/13 [00:00<00:00, 18.45batch/s, accuracy=88.2, loss=0.392]\n",
            "Epoch 0:  15%|█▌        | 2/13 [00:00<00:00, 19.73batch/s, accuracy=23.8, loss=2.49]"
          ],
          "name": "stderr"
        },
        {
          "output_type": "stream",
          "text": [
            "Training with hyperparameters: model_type [GRU], hidden_dim [128], word_embedding_dim [32], bidirectional [False], dropout [0.001]\n"
          ],
          "name": "stdout"
        },
        {
          "output_type": "stream",
          "text": [
            "Epoch 0: 100%|██████████| 13/13 [00:00<00:00, 18.12batch/s, accuracy=52.2, loss=1.5]\n",
            "Epoch 1: 100%|██████████| 13/13 [00:00<00:00, 18.64batch/s, accuracy=67.8, loss=1.02]\n",
            "Epoch 2: 100%|██████████| 13/13 [00:00<00:00, 18.21batch/s, accuracy=75.5, loss=0.729]\n",
            "Epoch 3: 100%|██████████| 13/13 [00:00<00:00, 18.04batch/s, accuracy=82.7, loss=0.538]\n",
            "Epoch 4: 100%|██████████| 13/13 [00:00<00:00, 18.68batch/s, accuracy=88, loss=0.39]\n",
            "Epoch 0:  15%|█▌        | 2/13 [00:00<00:00, 17.33batch/s, accuracy=20.8, loss=2.36]"
          ],
          "name": "stderr"
        },
        {
          "output_type": "stream",
          "text": [
            "Training with hyperparameters: model_type [GRU], hidden_dim [128], word_embedding_dim [32], bidirectional [True], dropout [0.0]\n"
          ],
          "name": "stdout"
        },
        {
          "output_type": "stream",
          "text": [
            "Epoch 0: 100%|██████████| 13/13 [00:00<00:00, 15.36batch/s, accuracy=62.2, loss=1.24]\n",
            "Epoch 1: 100%|██████████| 13/13 [00:00<00:00, 15.24batch/s, accuracy=74.7, loss=0.785]\n",
            "Epoch 2: 100%|██████████| 13/13 [00:00<00:00, 15.13batch/s, accuracy=83.3, loss=0.506]\n",
            "Epoch 3: 100%|██████████| 13/13 [00:00<00:00, 15.24batch/s, accuracy=90.8, loss=0.32]\n",
            "Epoch 4: 100%|██████████| 13/13 [00:00<00:00, 15.40batch/s, accuracy=94.2, loss=0.205]\n",
            "Epoch 0:  15%|█▌        | 2/13 [00:00<00:00, 17.21batch/s, accuracy=25.4, loss=2.35]"
          ],
          "name": "stderr"
        },
        {
          "output_type": "stream",
          "text": [
            "Training with hyperparameters: model_type [GRU], hidden_dim [128], word_embedding_dim [32], bidirectional [True], dropout [0.01]\n"
          ],
          "name": "stdout"
        },
        {
          "output_type": "stream",
          "text": [
            "Epoch 0: 100%|██████████| 13/13 [00:00<00:00, 15.04batch/s, accuracy=57, loss=1.33]\n",
            "Epoch 1: 100%|██████████| 13/13 [00:00<00:00, 15.29batch/s, accuracy=72.3, loss=0.826]\n",
            "Epoch 2: 100%|██████████| 13/13 [00:00<00:00, 15.11batch/s, accuracy=82.4, loss=0.543]\n",
            "Epoch 3: 100%|██████████| 13/13 [00:00<00:00, 15.32batch/s, accuracy=88.6, loss=0.365]\n",
            "Epoch 4: 100%|██████████| 13/13 [00:00<00:00, 15.16batch/s, accuracy=92.9, loss=0.249]\n",
            "Epoch 0:  15%|█▌        | 2/13 [00:00<00:00, 16.37batch/s, accuracy=32.9, loss=2.59]"
          ],
          "name": "stderr"
        },
        {
          "output_type": "stream",
          "text": [
            "Training with hyperparameters: model_type [GRU], hidden_dim [128], word_embedding_dim [32], bidirectional [True], dropout [0.001]\n"
          ],
          "name": "stdout"
        },
        {
          "output_type": "stream",
          "text": [
            "Epoch 0: 100%|██████████| 13/13 [00:00<00:00, 14.68batch/s, accuracy=60, loss=1.27]\n",
            "Epoch 1: 100%|██████████| 13/13 [00:00<00:00, 14.91batch/s, accuracy=74.2, loss=0.818]\n",
            "Epoch 2: 100%|██████████| 13/13 [00:00<00:00, 15.04batch/s, accuracy=83.1, loss=0.53]\n",
            "Epoch 3: 100%|██████████| 13/13 [00:00<00:00, 15.39batch/s, accuracy=89.3, loss=0.339]\n",
            "Epoch 4: 100%|██████████| 13/13 [00:00<00:00, 15.02batch/s, accuracy=94.1, loss=0.218]\n",
            "Epoch 0:  23%|██▎       | 3/13 [00:00<00:00, 21.40batch/s, accuracy=29.9, loss=2.52]"
          ],
          "name": "stderr"
        },
        {
          "output_type": "stream",
          "text": [
            "Training with hyperparameters: model_type [GRU], hidden_dim [32], word_embedding_dim [64], bidirectional [False], dropout [0.0]\n"
          ],
          "name": "stdout"
        },
        {
          "output_type": "stream",
          "text": [
            "Epoch 0: 100%|██████████| 13/13 [00:00<00:00, 20.18batch/s, accuracy=51.5, loss=1.68]\n",
            "Epoch 1: 100%|██████████| 13/13 [00:00<00:00, 20.83batch/s, accuracy=70.3, loss=1.04]\n",
            "Epoch 2: 100%|██████████| 13/13 [00:00<00:00, 20.08batch/s, accuracy=79.7, loss=0.688]\n",
            "Epoch 3: 100%|██████████| 13/13 [00:00<00:00, 20.44batch/s, accuracy=86.2, loss=0.496]\n",
            "Epoch 4: 100%|██████████| 13/13 [00:00<00:00, 19.74batch/s, accuracy=89.7, loss=0.353]\n",
            "Epoch 0:  23%|██▎       | 3/13 [00:00<00:00, 21.74batch/s, accuracy=32.8, loss=2.55]"
          ],
          "name": "stderr"
        },
        {
          "output_type": "stream",
          "text": [
            "Training with hyperparameters: model_type [GRU], hidden_dim [32], word_embedding_dim [64], bidirectional [False], dropout [0.01]\n"
          ],
          "name": "stdout"
        },
        {
          "output_type": "stream",
          "text": [
            "Epoch 0: 100%|██████████| 13/13 [00:00<00:00, 19.92batch/s, accuracy=51.3, loss=1.67]\n",
            "Epoch 1: 100%|██████████| 13/13 [00:00<00:00, 20.07batch/s, accuracy=72, loss=0.998]\n",
            "Epoch 2: 100%|██████████| 13/13 [00:00<00:00, 20.15batch/s, accuracy=80.8, loss=0.671]\n",
            "Epoch 3: 100%|██████████| 13/13 [00:00<00:00, 20.67batch/s, accuracy=85.9, loss=0.48]\n",
            "Epoch 4: 100%|██████████| 13/13 [00:00<00:00, 20.51batch/s, accuracy=90.2, loss=0.347]\n",
            "Epoch 0:  23%|██▎       | 3/13 [00:00<00:00, 21.50batch/s, accuracy=23.2, loss=2.62]"
          ],
          "name": "stderr"
        },
        {
          "output_type": "stream",
          "text": [
            "Training with hyperparameters: model_type [GRU], hidden_dim [32], word_embedding_dim [64], bidirectional [False], dropout [0.001]\n"
          ],
          "name": "stdout"
        },
        {
          "output_type": "stream",
          "text": [
            "Epoch 0: 100%|██████████| 13/13 [00:00<00:00, 19.65batch/s, accuracy=52.9, loss=1.68]\n",
            "Epoch 1: 100%|██████████| 13/13 [00:00<00:00, 20.35batch/s, accuracy=67.6, loss=1.06]\n",
            "Epoch 2: 100%|██████████| 13/13 [00:00<00:00, 20.00batch/s, accuracy=79.6, loss=0.696]\n",
            "Epoch 3: 100%|██████████| 13/13 [00:00<00:00, 20.68batch/s, accuracy=86.1, loss=0.483]\n",
            "Epoch 4: 100%|██████████| 13/13 [00:00<00:00, 20.38batch/s, accuracy=90, loss=0.344]\n",
            "Epoch 0:  23%|██▎       | 3/13 [00:00<00:00, 20.52batch/s, accuracy=29.1, loss=2.59]"
          ],
          "name": "stderr"
        },
        {
          "output_type": "stream",
          "text": [
            "Training with hyperparameters: model_type [GRU], hidden_dim [32], word_embedding_dim [64], bidirectional [True], dropout [0.0]\n"
          ],
          "name": "stdout"
        },
        {
          "output_type": "stream",
          "text": [
            "Epoch 0: 100%|██████████| 13/13 [00:00<00:00, 18.06batch/s, accuracy=57, loss=1.39]\n",
            "Epoch 1: 100%|██████████| 13/13 [00:00<00:00, 18.08batch/s, accuracy=73.2, loss=0.854]\n",
            "Epoch 2: 100%|██████████| 13/13 [00:00<00:00, 18.10batch/s, accuracy=84, loss=0.552]\n",
            "Epoch 3: 100%|██████████| 13/13 [00:00<00:00, 17.78batch/s, accuracy=90.1, loss=0.354]\n",
            "Epoch 4: 100%|██████████| 13/13 [00:00<00:00, 18.09batch/s, accuracy=93.8, loss=0.23]\n",
            "Epoch 0:  15%|█▌        | 2/13 [00:00<00:00, 19.58batch/s, accuracy=29.1, loss=2.54]"
          ],
          "name": "stderr"
        },
        {
          "output_type": "stream",
          "text": [
            "Training with hyperparameters: model_type [GRU], hidden_dim [32], word_embedding_dim [64], bidirectional [True], dropout [0.01]\n"
          ],
          "name": "stdout"
        },
        {
          "output_type": "stream",
          "text": [
            "Epoch 0: 100%|██████████| 13/13 [00:00<00:00, 17.70batch/s, accuracy=60.7, loss=1.35]\n",
            "Epoch 1: 100%|██████████| 13/13 [00:00<00:00, 17.77batch/s, accuracy=75.6, loss=0.769]\n",
            "Epoch 2: 100%|██████████| 13/13 [00:00<00:00, 18.34batch/s, accuracy=85.1, loss=0.496]\n",
            "Epoch 3: 100%|██████████| 13/13 [00:00<00:00, 18.25batch/s, accuracy=91.1, loss=0.33]\n",
            "Epoch 4: 100%|██████████| 13/13 [00:00<00:00, 17.99batch/s, accuracy=94.1, loss=0.22]\n",
            "Epoch 0:  15%|█▌        | 2/13 [00:00<00:00, 18.96batch/s, accuracy=32.8, loss=2.55]"
          ],
          "name": "stderr"
        },
        {
          "output_type": "stream",
          "text": [
            "Training with hyperparameters: model_type [GRU], hidden_dim [32], word_embedding_dim [64], bidirectional [True], dropout [0.001]\n"
          ],
          "name": "stdout"
        },
        {
          "output_type": "stream",
          "text": [
            "Epoch 0: 100%|██████████| 13/13 [00:00<00:00, 17.96batch/s, accuracy=59.4, loss=1.4]\n",
            "Epoch 1: 100%|██████████| 13/13 [00:00<00:00, 18.45batch/s, accuracy=76.8, loss=0.81]\n",
            "Epoch 2: 100%|██████████| 13/13 [00:00<00:00, 18.10batch/s, accuracy=84.7, loss=0.518]\n",
            "Epoch 3: 100%|██████████| 13/13 [00:00<00:00, 18.16batch/s, accuracy=90.3, loss=0.327]\n",
            "Epoch 4: 100%|██████████| 13/13 [00:00<00:00, 17.88batch/s, accuracy=94.2, loss=0.206]\n",
            "Epoch 0:  23%|██▎       | 3/13 [00:00<00:00, 20.48batch/s, accuracy=31.1, loss=2.57]"
          ],
          "name": "stderr"
        },
        {
          "output_type": "stream",
          "text": [
            "Training with hyperparameters: model_type [GRU], hidden_dim [64], word_embedding_dim [64], bidirectional [False], dropout [0.0]\n"
          ],
          "name": "stdout"
        },
        {
          "output_type": "stream",
          "text": [
            "Epoch 0: 100%|██████████| 13/13 [00:00<00:00, 19.68batch/s, accuracy=58.9, loss=1.38]\n",
            "Epoch 1: 100%|██████████| 13/13 [00:00<00:00, 19.43batch/s, accuracy=71.9, loss=0.872]\n",
            "Epoch 2: 100%|██████████| 13/13 [00:00<00:00, 19.77batch/s, accuracy=79.7, loss=0.601]\n",
            "Epoch 3: 100%|██████████| 13/13 [00:00<00:00, 19.40batch/s, accuracy=86, loss=0.429]\n",
            "Epoch 4: 100%|██████████| 13/13 [00:00<00:00, 19.63batch/s, accuracy=90.9, loss=0.3]\n",
            "Epoch 0:  23%|██▎       | 3/13 [00:00<00:00, 20.14batch/s, accuracy=30.7, loss=2.58]"
          ],
          "name": "stderr"
        },
        {
          "output_type": "stream",
          "text": [
            "Training with hyperparameters: model_type [GRU], hidden_dim [64], word_embedding_dim [64], bidirectional [False], dropout [0.01]\n"
          ],
          "name": "stdout"
        },
        {
          "output_type": "stream",
          "text": [
            "Epoch 0: 100%|██████████| 13/13 [00:00<00:00, 19.71batch/s, accuracy=58.8, loss=1.4]\n",
            "Epoch 1: 100%|██████████| 13/13 [00:00<00:00, 19.37batch/s, accuracy=73, loss=0.86]\n",
            "Epoch 2: 100%|██████████| 13/13 [00:00<00:00, 19.17batch/s, accuracy=81.8, loss=0.577]\n",
            "Epoch 3: 100%|██████████| 13/13 [00:00<00:00, 19.57batch/s, accuracy=87.8, loss=0.393]\n",
            "Epoch 4: 100%|██████████| 13/13 [00:00<00:00, 19.93batch/s, accuracy=92.3, loss=0.264]\n",
            "Epoch 0:  23%|██▎       | 3/13 [00:00<00:00, 20.77batch/s, accuracy=31.9, loss=2.56]"
          ],
          "name": "stderr"
        },
        {
          "output_type": "stream",
          "text": [
            "Training with hyperparameters: model_type [GRU], hidden_dim [64], word_embedding_dim [64], bidirectional [False], dropout [0.001]\n"
          ],
          "name": "stdout"
        },
        {
          "output_type": "stream",
          "text": [
            "Epoch 0: 100%|██████████| 13/13 [00:00<00:00, 19.69batch/s, accuracy=58, loss=1.39]\n",
            "Epoch 1: 100%|██████████| 13/13 [00:00<00:00, 19.38batch/s, accuracy=71.9, loss=0.881]\n",
            "Epoch 2: 100%|██████████| 13/13 [00:00<00:00, 20.32batch/s, accuracy=81.2, loss=0.597]\n",
            "Epoch 3: 100%|██████████| 13/13 [00:00<00:00, 19.26batch/s, accuracy=88, loss=0.406]\n",
            "Epoch 4: 100%|██████████| 13/13 [00:00<00:00, 20.07batch/s, accuracy=91.8, loss=0.276]\n",
            "Epoch 0:  15%|█▌        | 2/13 [00:00<00:00, 18.66batch/s, accuracy=37.6, loss=2.43]"
          ],
          "name": "stderr"
        },
        {
          "output_type": "stream",
          "text": [
            "Training with hyperparameters: model_type [GRU], hidden_dim [64], word_embedding_dim [64], bidirectional [True], dropout [0.0]\n"
          ],
          "name": "stdout"
        },
        {
          "output_type": "stream",
          "text": [
            "Epoch 0: 100%|██████████| 13/13 [00:00<00:00, 16.82batch/s, accuracy=64.2, loss=1.11]\n",
            "Epoch 1: 100%|██████████| 13/13 [00:00<00:00, 16.33batch/s, accuracy=79.7, loss=0.61]\n",
            "Epoch 2: 100%|██████████| 13/13 [00:00<00:00, 16.20batch/s, accuracy=88.7, loss=0.38]\n",
            "Epoch 3: 100%|██████████| 13/13 [00:00<00:00, 16.90batch/s, accuracy=93.2, loss=0.242]\n",
            "Epoch 4: 100%|██████████| 13/13 [00:00<00:00, 16.76batch/s, accuracy=96.5, loss=0.144]\n",
            "Epoch 0:  15%|█▌        | 2/13 [00:00<00:00, 18.42batch/s, accuracy=36.3, loss=2.42]"
          ],
          "name": "stderr"
        },
        {
          "output_type": "stream",
          "text": [
            "Training with hyperparameters: model_type [GRU], hidden_dim [64], word_embedding_dim [64], bidirectional [True], dropout [0.01]\n"
          ],
          "name": "stdout"
        },
        {
          "output_type": "stream",
          "text": [
            "Epoch 0: 100%|██████████| 13/13 [00:00<00:00, 16.44batch/s, accuracy=64.1, loss=1.14]\n",
            "Epoch 1: 100%|██████████| 13/13 [00:00<00:00, 16.66batch/s, accuracy=78.8, loss=0.643]\n",
            "Epoch 2: 100%|██████████| 13/13 [00:00<00:00, 16.79batch/s, accuracy=88, loss=0.405]\n",
            "Epoch 3: 100%|██████████| 13/13 [00:00<00:00, 16.92batch/s, accuracy=92.7, loss=0.253]\n",
            "Epoch 4: 100%|██████████| 13/13 [00:00<00:00, 17.25batch/s, accuracy=95.9, loss=0.15]\n",
            "Epoch 0:  15%|█▌        | 2/13 [00:00<00:00, 18.57batch/s, accuracy=34.4, loss=2.41]"
          ],
          "name": "stderr"
        },
        {
          "output_type": "stream",
          "text": [
            "Training with hyperparameters: model_type [GRU], hidden_dim [64], word_embedding_dim [64], bidirectional [True], dropout [0.001]\n"
          ],
          "name": "stdout"
        },
        {
          "output_type": "stream",
          "text": [
            "Epoch 0: 100%|██████████| 13/13 [00:00<00:00, 16.67batch/s, accuracy=67.6, loss=1.09]\n",
            "Epoch 1: 100%|██████████| 13/13 [00:00<00:00, 16.97batch/s, accuracy=80.7, loss=0.616]\n",
            "Epoch 2: 100%|██████████| 13/13 [00:00<00:00, 16.93batch/s, accuracy=87.2, loss=0.39]\n",
            "Epoch 3: 100%|██████████| 13/13 [00:00<00:00, 17.03batch/s, accuracy=92.2, loss=0.243]\n",
            "Epoch 4: 100%|██████████| 13/13 [00:00<00:00, 16.51batch/s, accuracy=97.2, loss=0.135]\n",
            "Epoch 0:  23%|██▎       | 3/13 [00:00<00:00, 20.67batch/s, accuracy=37, loss=2.48]"
          ],
          "name": "stderr"
        },
        {
          "output_type": "stream",
          "text": [
            "Training with hyperparameters: model_type [GRU], hidden_dim [96], word_embedding_dim [64], bidirectional [False], dropout [0.0]\n"
          ],
          "name": "stdout"
        },
        {
          "output_type": "stream",
          "text": [
            "Epoch 0: 100%|██████████| 13/13 [00:00<00:00, 18.74batch/s, accuracy=60.9, loss=1.27]\n",
            "Epoch 1: 100%|██████████| 13/13 [00:00<00:00, 18.38batch/s, accuracy=75.5, loss=0.768]\n",
            "Epoch 2: 100%|██████████| 13/13 [00:00<00:00, 18.57batch/s, accuracy=83.7, loss=0.513]\n",
            "Epoch 3: 100%|██████████| 13/13 [00:00<00:00, 18.15batch/s, accuracy=89.4, loss=0.351]\n",
            "Epoch 4: 100%|██████████| 13/13 [00:00<00:00, 18.56batch/s, accuracy=93.5, loss=0.236]\n",
            "Epoch 0:  23%|██▎       | 3/13 [00:00<00:00, 20.46batch/s, accuracy=32.7, loss=2.48]"
          ],
          "name": "stderr"
        },
        {
          "output_type": "stream",
          "text": [
            "Training with hyperparameters: model_type [GRU], hidden_dim [96], word_embedding_dim [64], bidirectional [False], dropout [0.01]\n"
          ],
          "name": "stdout"
        },
        {
          "output_type": "stream",
          "text": [
            "Epoch 0: 100%|██████████| 13/13 [00:00<00:00, 19.42batch/s, accuracy=63.4, loss=1.21]\n",
            "Epoch 1: 100%|██████████| 13/13 [00:00<00:00, 19.28batch/s, accuracy=75.6, loss=0.743]\n",
            "Epoch 2: 100%|██████████| 13/13 [00:00<00:00, 18.71batch/s, accuracy=83, loss=0.519]\n",
            "Epoch 3: 100%|██████████| 13/13 [00:00<00:00, 19.19batch/s, accuracy=88.7, loss=0.363]\n",
            "Epoch 4: 100%|██████████| 13/13 [00:00<00:00, 19.30batch/s, accuracy=92.9, loss=0.235]\n",
            "Epoch 0:  23%|██▎       | 3/13 [00:00<00:00, 20.81batch/s, accuracy=30.3, loss=2.49]"
          ],
          "name": "stderr"
        },
        {
          "output_type": "stream",
          "text": [
            "Training with hyperparameters: model_type [GRU], hidden_dim [96], word_embedding_dim [64], bidirectional [False], dropout [0.001]\n"
          ],
          "name": "stdout"
        },
        {
          "output_type": "stream",
          "text": [
            "Epoch 0: 100%|██████████| 13/13 [00:00<00:00, 19.24batch/s, accuracy=60.2, loss=1.24]\n",
            "Epoch 1: 100%|██████████| 13/13 [00:00<00:00, 18.64batch/s, accuracy=75.9, loss=0.756]\n",
            "Epoch 2: 100%|██████████| 13/13 [00:00<00:00, 19.00batch/s, accuracy=84.2, loss=0.514]\n",
            "Epoch 3: 100%|██████████| 13/13 [00:00<00:00, 18.95batch/s, accuracy=89, loss=0.36]\n",
            "Epoch 4: 100%|██████████| 13/13 [00:00<00:00, 19.16batch/s, accuracy=93.8, loss=0.23]\n",
            "Epoch 0:  15%|█▌        | 2/13 [00:00<00:00, 15.92batch/s, accuracy=38.1, loss=2.49]"
          ],
          "name": "stderr"
        },
        {
          "output_type": "stream",
          "text": [
            "Training with hyperparameters: model_type [GRU], hidden_dim [96], word_embedding_dim [64], bidirectional [True], dropout [0.0]\n"
          ],
          "name": "stdout"
        },
        {
          "output_type": "stream",
          "text": [
            "Epoch 0: 100%|██████████| 13/13 [00:00<00:00, 15.62batch/s, accuracy=67.6, loss=0.978]\n",
            "Epoch 1: 100%|██████████| 13/13 [00:00<00:00, 15.76batch/s, accuracy=81.9, loss=0.558]\n",
            "Epoch 2: 100%|██████████| 13/13 [00:00<00:00, 15.82batch/s, accuracy=88.5, loss=0.343]\n",
            "Epoch 3: 100%|██████████| 13/13 [00:00<00:00, 15.82batch/s, accuracy=94.4, loss=0.193]\n",
            "Epoch 4: 100%|██████████| 13/13 [00:00<00:00, 16.02batch/s, accuracy=97.9, loss=0.103]\n",
            "Epoch 0:  15%|█▌        | 2/13 [00:00<00:00, 17.13batch/s, accuracy=37.4, loss=2.29]"
          ],
          "name": "stderr"
        },
        {
          "output_type": "stream",
          "text": [
            "Training with hyperparameters: model_type [GRU], hidden_dim [96], word_embedding_dim [64], bidirectional [True], dropout [0.01]\n"
          ],
          "name": "stdout"
        },
        {
          "output_type": "stream",
          "text": [
            "Epoch 0: 100%|██████████| 13/13 [00:00<00:00, 15.53batch/s, accuracy=65.6, loss=1.07]\n",
            "Epoch 1: 100%|██████████| 13/13 [00:00<00:00, 15.43batch/s, accuracy=81.9, loss=0.576]\n",
            "Epoch 2: 100%|██████████| 13/13 [00:00<00:00, 15.69batch/s, accuracy=89.3, loss=0.339]\n",
            "Epoch 3: 100%|██████████| 13/13 [00:00<00:00, 15.66batch/s, accuracy=94.4, loss=0.207]\n",
            "Epoch 4: 100%|██████████| 13/13 [00:00<00:00, 15.94batch/s, accuracy=97.4, loss=0.113]\n",
            "Epoch 0:  15%|█▌        | 2/13 [00:00<00:00, 17.13batch/s, accuracy=35.9, loss=2.31]"
          ],
          "name": "stderr"
        },
        {
          "output_type": "stream",
          "text": [
            "Training with hyperparameters: model_type [GRU], hidden_dim [96], word_embedding_dim [64], bidirectional [True], dropout [0.001]\n"
          ],
          "name": "stdout"
        },
        {
          "output_type": "stream",
          "text": [
            "Epoch 0: 100%|██████████| 13/13 [00:00<00:00, 15.54batch/s, accuracy=67.9, loss=1.03]\n",
            "Epoch 1: 100%|██████████| 13/13 [00:00<00:00, 15.68batch/s, accuracy=81.4, loss=0.579]\n",
            "Epoch 2: 100%|██████████| 13/13 [00:00<00:00, 15.54batch/s, accuracy=89.6, loss=0.331]\n",
            "Epoch 3: 100%|██████████| 13/13 [00:00<00:00, 16.11batch/s, accuracy=94.5, loss=0.183]\n",
            "Epoch 4: 100%|██████████| 13/13 [00:00<00:00, 16.06batch/s, accuracy=98.1, loss=0.0958]\n",
            "Epoch 0:  23%|██▎       | 3/13 [00:00<00:00, 20.28batch/s, accuracy=35.2, loss=2.41]"
          ],
          "name": "stderr"
        },
        {
          "output_type": "stream",
          "text": [
            "Training with hyperparameters: model_type [GRU], hidden_dim [128], word_embedding_dim [64], bidirectional [False], dropout [0.0]\n"
          ],
          "name": "stdout"
        },
        {
          "output_type": "stream",
          "text": [
            "Epoch 0: 100%|██████████| 13/13 [00:00<00:00, 18.49batch/s, accuracy=65.1, loss=1.15]\n",
            "Epoch 1: 100%|██████████| 13/13 [00:00<00:00, 17.77batch/s, accuracy=76.6, loss=0.733]\n",
            "Epoch 2: 100%|██████████| 13/13 [00:00<00:00, 18.31batch/s, accuracy=84.2, loss=0.498]\n",
            "Epoch 3: 100%|██████████| 13/13 [00:00<00:00, 18.58batch/s, accuracy=89.9, loss=0.332]\n",
            "Epoch 4: 100%|██████████| 13/13 [00:00<00:00, 18.07batch/s, accuracy=93.9, loss=0.209]\n",
            "Epoch 0:  15%|█▌        | 2/13 [00:00<00:00, 19.70batch/s, accuracy=32.2, loss=2.41]"
          ],
          "name": "stderr"
        },
        {
          "output_type": "stream",
          "text": [
            "Training with hyperparameters: model_type [GRU], hidden_dim [128], word_embedding_dim [64], bidirectional [False], dropout [0.01]\n"
          ],
          "name": "stdout"
        },
        {
          "output_type": "stream",
          "text": [
            "Epoch 0: 100%|██████████| 13/13 [00:00<00:00, 18.04batch/s, accuracy=62.7, loss=1.22]\n",
            "Epoch 1: 100%|██████████| 13/13 [00:00<00:00, 18.12batch/s, accuracy=75.4, loss=0.747]\n",
            "Epoch 2: 100%|██████████| 13/13 [00:00<00:00, 18.38batch/s, accuracy=83.1, loss=0.517]\n",
            "Epoch 3: 100%|██████████| 13/13 [00:00<00:00, 19.10batch/s, accuracy=88.8, loss=0.351]\n",
            "Epoch 4: 100%|██████████| 13/13 [00:00<00:00, 17.90batch/s, accuracy=93.5, loss=0.222]\n",
            "Epoch 0:  15%|█▌        | 2/13 [00:00<00:00, 19.15batch/s, accuracy=36.1, loss=2.39]"
          ],
          "name": "stderr"
        },
        {
          "output_type": "stream",
          "text": [
            "Training with hyperparameters: model_type [GRU], hidden_dim [128], word_embedding_dim [64], bidirectional [False], dropout [0.001]\n"
          ],
          "name": "stdout"
        },
        {
          "output_type": "stream",
          "text": [
            "Epoch 0: 100%|██████████| 13/13 [00:00<00:00, 18.21batch/s, accuracy=65, loss=1.12]\n",
            "Epoch 1: 100%|██████████| 13/13 [00:00<00:00, 17.84batch/s, accuracy=77.3, loss=0.71]\n",
            "Epoch 2: 100%|██████████| 13/13 [00:00<00:00, 17.80batch/s, accuracy=84.9, loss=0.482]\n",
            "Epoch 3: 100%|██████████| 13/13 [00:00<00:00, 18.14batch/s, accuracy=89.4, loss=0.33]\n",
            "Epoch 4: 100%|██████████| 13/13 [00:00<00:00, 18.84batch/s, accuracy=93.6, loss=0.225]\n",
            "Epoch 0:  15%|█▌        | 2/13 [00:00<00:00, 16.56batch/s, accuracy=41.1, loss=2.46]"
          ],
          "name": "stderr"
        },
        {
          "output_type": "stream",
          "text": [
            "Training with hyperparameters: model_type [GRU], hidden_dim [128], word_embedding_dim [64], bidirectional [True], dropout [0.0]\n"
          ],
          "name": "stdout"
        },
        {
          "output_type": "stream",
          "text": [
            "Epoch 0: 100%|██████████| 13/13 [00:00<00:00, 14.85batch/s, accuracy=67.9, loss=1.02]\n",
            "Epoch 1: 100%|██████████| 13/13 [00:00<00:00, 15.04batch/s, accuracy=82.1, loss=0.574]\n",
            "Epoch 2: 100%|██████████| 13/13 [00:00<00:00, 15.02batch/s, accuracy=89.6, loss=0.322]\n",
            "Epoch 3: 100%|██████████| 13/13 [00:00<00:00, 15.16batch/s, accuracy=95.8, loss=0.16]\n",
            "Epoch 4: 100%|██████████| 13/13 [00:00<00:00, 15.22batch/s, accuracy=98.3, loss=0.083]\n",
            "Epoch 0:  15%|█▌        | 2/13 [00:00<00:00, 17.05batch/s, accuracy=31.7, loss=2.18]"
          ],
          "name": "stderr"
        },
        {
          "output_type": "stream",
          "text": [
            "Training with hyperparameters: model_type [GRU], hidden_dim [128], word_embedding_dim [64], bidirectional [True], dropout [0.01]\n"
          ],
          "name": "stdout"
        },
        {
          "output_type": "stream",
          "text": [
            "Epoch 0: 100%|██████████| 13/13 [00:00<00:00, 15.22batch/s, accuracy=68.8, loss=0.995]\n",
            "Epoch 1: 100%|██████████| 13/13 [00:00<00:00, 15.07batch/s, accuracy=81.5, loss=0.56]\n",
            "Epoch 2: 100%|██████████| 13/13 [00:00<00:00, 15.45batch/s, accuracy=90.8, loss=0.312]\n",
            "Epoch 3: 100%|██████████| 13/13 [00:00<00:00, 14.62batch/s, accuracy=95.4, loss=0.165]\n",
            "Epoch 4: 100%|██████████| 13/13 [00:00<00:00, 15.65batch/s, accuracy=98.4, loss=0.0805]\n",
            "Epoch 0:  15%|█▌        | 2/13 [00:00<00:00, 16.06batch/s, accuracy=35.8, loss=2.53]"
          ],
          "name": "stderr"
        },
        {
          "output_type": "stream",
          "text": [
            "Training with hyperparameters: model_type [GRU], hidden_dim [128], word_embedding_dim [64], bidirectional [True], dropout [0.001]\n"
          ],
          "name": "stdout"
        },
        {
          "output_type": "stream",
          "text": [
            "Epoch 0: 100%|██████████| 13/13 [00:00<00:00, 14.74batch/s, accuracy=66.5, loss=1.06]\n",
            "Epoch 1: 100%|██████████| 13/13 [00:00<00:00, 15.43batch/s, accuracy=82.5, loss=0.567]\n",
            "Epoch 2: 100%|██████████| 13/13 [00:00<00:00, 15.52batch/s, accuracy=89.9, loss=0.332]\n",
            "Epoch 3: 100%|██████████| 13/13 [00:00<00:00, 14.68batch/s, accuracy=94.6, loss=0.173]\n",
            "Epoch 4: 100%|██████████| 13/13 [00:00<00:00, 15.01batch/s, accuracy=98.5, loss=0.0787]\n",
            "Epoch 0:  23%|██▎       | 3/13 [00:00<00:00, 21.68batch/s, accuracy=28.9, loss=2.53]"
          ],
          "name": "stderr"
        },
        {
          "output_type": "stream",
          "text": [
            "Training with hyperparameters: model_type [GRU], hidden_dim [32], word_embedding_dim [96], bidirectional [False], dropout [0.0]\n"
          ],
          "name": "stdout"
        },
        {
          "output_type": "stream",
          "text": [
            "Epoch 0: 100%|██████████| 13/13 [00:00<00:00, 20.36batch/s, accuracy=54.1, loss=1.61]\n",
            "Epoch 1: 100%|██████████| 13/13 [00:00<00:00, 19.55batch/s, accuracy=73.6, loss=0.973]\n",
            "Epoch 2: 100%|██████████| 13/13 [00:00<00:00, 19.13batch/s, accuracy=81.6, loss=0.639]\n",
            "Epoch 3: 100%|██████████| 13/13 [00:00<00:00, 19.72batch/s, accuracy=87, loss=0.439]\n",
            "Epoch 4: 100%|██████████| 13/13 [00:00<00:00, 19.60batch/s, accuracy=92.1, loss=0.302]\n",
            "Epoch 0:  23%|██▎       | 3/13 [00:00<00:00, 22.17batch/s, accuracy=28.2, loss=2.53]"
          ],
          "name": "stderr"
        },
        {
          "output_type": "stream",
          "text": [
            "Training with hyperparameters: model_type [GRU], hidden_dim [32], word_embedding_dim [96], bidirectional [False], dropout [0.01]\n"
          ],
          "name": "stdout"
        },
        {
          "output_type": "stream",
          "text": [
            "Epoch 0: 100%|██████████| 13/13 [00:00<00:00, 20.82batch/s, accuracy=56.1, loss=1.63]\n",
            "Epoch 1: 100%|██████████| 13/13 [00:00<00:00, 20.04batch/s, accuracy=74.7, loss=0.919]\n",
            "Epoch 2: 100%|██████████| 13/13 [00:00<00:00, 19.58batch/s, accuracy=82.5, loss=0.58]\n",
            "Epoch 3: 100%|██████████| 13/13 [00:00<00:00, 20.19batch/s, accuracy=88.8, loss=0.385]\n",
            "Epoch 4: 100%|██████████| 13/13 [00:00<00:00, 20.21batch/s, accuracy=92.3, loss=0.264]\n",
            "Epoch 0:  23%|██▎       | 3/13 [00:00<00:00, 21.14batch/s, accuracy=24.7, loss=2.61]"
          ],
          "name": "stderr"
        },
        {
          "output_type": "stream",
          "text": [
            "Training with hyperparameters: model_type [GRU], hidden_dim [32], word_embedding_dim [96], bidirectional [False], dropout [0.001]\n"
          ],
          "name": "stdout"
        },
        {
          "output_type": "stream",
          "text": [
            "Epoch 0: 100%|██████████| 13/13 [00:00<00:00, 20.06batch/s, accuracy=54.6, loss=1.59]\n",
            "Epoch 1: 100%|██████████| 13/13 [00:00<00:00, 20.07batch/s, accuracy=74.7, loss=0.907]\n",
            "Epoch 2: 100%|██████████| 13/13 [00:00<00:00, 19.99batch/s, accuracy=82.6, loss=0.578]\n",
            "Epoch 3: 100%|██████████| 13/13 [00:00<00:00, 19.73batch/s, accuracy=88.4, loss=0.387]\n",
            "Epoch 4: 100%|██████████| 13/13 [00:00<00:00, 20.60batch/s, accuracy=92.7, loss=0.257]\n",
            "Epoch 0:  15%|█▌        | 2/13 [00:00<00:00, 19.60batch/s, accuracy=31.9, loss=2.52]"
          ],
          "name": "stderr"
        },
        {
          "output_type": "stream",
          "text": [
            "Training with hyperparameters: model_type [GRU], hidden_dim [32], word_embedding_dim [96], bidirectional [True], dropout [0.0]\n"
          ],
          "name": "stdout"
        },
        {
          "output_type": "stream",
          "text": [
            "Epoch 0: 100%|██████████| 13/13 [00:00<00:00, 17.81batch/s, accuracy=63.1, loss=1.26]\n",
            "Epoch 1: 100%|██████████| 13/13 [00:00<00:00, 17.76batch/s, accuracy=80.1, loss=0.695]\n",
            "Epoch 2: 100%|██████████| 13/13 [00:00<00:00, 17.97batch/s, accuracy=87.3, loss=0.426]\n",
            "Epoch 3: 100%|██████████| 13/13 [00:00<00:00, 18.05batch/s, accuracy=92.7, loss=0.258]\n",
            "Epoch 4: 100%|██████████| 13/13 [00:00<00:00, 17.50batch/s, accuracy=96.3, loss=0.153]\n",
            "Epoch 0:  15%|█▌        | 2/13 [00:00<00:00, 18.46batch/s, accuracy=31, loss=2.51]  "
          ],
          "name": "stderr"
        },
        {
          "output_type": "stream",
          "text": [
            "Training with hyperparameters: model_type [GRU], hidden_dim [32], word_embedding_dim [96], bidirectional [True], dropout [0.01]\n"
          ],
          "name": "stdout"
        },
        {
          "output_type": "stream",
          "text": [
            "Epoch 0: 100%|██████████| 13/13 [00:00<00:00, 17.36batch/s, accuracy=62.1, loss=1.3]\n",
            "Epoch 1: 100%|██████████| 13/13 [00:00<00:00, 17.34batch/s, accuracy=77.9, loss=0.712]\n",
            "Epoch 2: 100%|██████████| 13/13 [00:00<00:00, 17.77batch/s, accuracy=86.3, loss=0.438]\n",
            "Epoch 3: 100%|██████████| 13/13 [00:00<00:00, 17.29batch/s, accuracy=92.1, loss=0.264]\n",
            "Epoch 4: 100%|██████████| 13/13 [00:00<00:00, 17.73batch/s, accuracy=96.2, loss=0.153]\n",
            "Epoch 0:  23%|██▎       | 3/13 [00:00<00:00, 20.11batch/s, accuracy=35, loss=2.47]"
          ],
          "name": "stderr"
        },
        {
          "output_type": "stream",
          "text": [
            "Training with hyperparameters: model_type [GRU], hidden_dim [32], word_embedding_dim [96], bidirectional [True], dropout [0.001]\n"
          ],
          "name": "stdout"
        },
        {
          "output_type": "stream",
          "text": [
            "Epoch 0: 100%|██████████| 13/13 [00:00<00:00, 18.03batch/s, accuracy=64.3, loss=1.24]\n",
            "Epoch 1: 100%|██████████| 13/13 [00:00<00:00, 17.68batch/s, accuracy=78, loss=0.689]\n",
            "Epoch 2: 100%|██████████| 13/13 [00:00<00:00, 17.82batch/s, accuracy=87.6, loss=0.42]\n",
            "Epoch 3: 100%|██████████| 13/13 [00:00<00:00, 18.00batch/s, accuracy=93, loss=0.247]\n",
            "Epoch 4: 100%|██████████| 13/13 [00:00<00:00, 17.66batch/s, accuracy=96.9, loss=0.139]\n",
            "Epoch 0:  23%|██▎       | 3/13 [00:00<00:00, 20.92batch/s, accuracy=35, loss=2.54]"
          ],
          "name": "stderr"
        },
        {
          "output_type": "stream",
          "text": [
            "Training with hyperparameters: model_type [GRU], hidden_dim [64], word_embedding_dim [96], bidirectional [False], dropout [0.0]\n"
          ],
          "name": "stdout"
        },
        {
          "output_type": "stream",
          "text": [
            "Epoch 0: 100%|██████████| 13/13 [00:00<00:00, 19.62batch/s, accuracy=62.5, loss=1.24]\n",
            "Epoch 1: 100%|██████████| 13/13 [00:00<00:00, 20.00batch/s, accuracy=77.8, loss=0.709]\n",
            "Epoch 2: 100%|██████████| 13/13 [00:00<00:00, 19.45batch/s, accuracy=85.7, loss=0.458]\n",
            "Epoch 3: 100%|██████████| 13/13 [00:00<00:00, 19.65batch/s, accuracy=90.5, loss=0.298]\n",
            "Epoch 4: 100%|██████████| 13/13 [00:00<00:00, 19.99batch/s, accuracy=93.6, loss=0.199]\n",
            "Epoch 0:  23%|██▎       | 3/13 [00:00<00:00, 19.87batch/s, accuracy=30.4, loss=2.5]"
          ],
          "name": "stderr"
        },
        {
          "output_type": "stream",
          "text": [
            "Training with hyperparameters: model_type [GRU], hidden_dim [64], word_embedding_dim [96], bidirectional [False], dropout [0.01]\n"
          ],
          "name": "stdout"
        },
        {
          "output_type": "stream",
          "text": [
            "Epoch 0: 100%|██████████| 13/13 [00:00<00:00, 18.80batch/s, accuracy=62.5, loss=1.25]\n",
            "Epoch 1: 100%|██████████| 13/13 [00:00<00:00, 19.39batch/s, accuracy=77.8, loss=0.714]\n",
            "Epoch 2: 100%|██████████| 13/13 [00:00<00:00, 19.55batch/s, accuracy=86, loss=0.465]\n",
            "Epoch 3: 100%|██████████| 13/13 [00:00<00:00, 18.90batch/s, accuracy=92.3, loss=0.303]\n",
            "Epoch 4: 100%|██████████| 13/13 [00:00<00:00, 19.24batch/s, accuracy=94.5, loss=0.197]\n",
            "Epoch 0:  23%|██▎       | 3/13 [00:00<00:00, 21.06batch/s, accuracy=33.7, loss=2.51]"
          ],
          "name": "stderr"
        },
        {
          "output_type": "stream",
          "text": [
            "Training with hyperparameters: model_type [GRU], hidden_dim [64], word_embedding_dim [96], bidirectional [False], dropout [0.001]\n"
          ],
          "name": "stdout"
        },
        {
          "output_type": "stream",
          "text": [
            "Epoch 0: 100%|██████████| 13/13 [00:00<00:00, 19.12batch/s, accuracy=63.1, loss=1.23]\n",
            "Epoch 1: 100%|██████████| 13/13 [00:00<00:00, 19.40batch/s, accuracy=77.4, loss=0.722]\n",
            "Epoch 2: 100%|██████████| 13/13 [00:00<00:00, 19.48batch/s, accuracy=84.3, loss=0.494]\n",
            "Epoch 3: 100%|██████████| 13/13 [00:00<00:00, 19.80batch/s, accuracy=89.9, loss=0.325]\n",
            "Epoch 4: 100%|██████████| 13/13 [00:00<00:00, 18.89batch/s, accuracy=93.9, loss=0.207]\n",
            "Epoch 0:  15%|█▌        | 2/13 [00:00<00:00, 18.38batch/s, accuracy=39.7, loss=2.35]"
          ],
          "name": "stderr"
        },
        {
          "output_type": "stream",
          "text": [
            "Training with hyperparameters: model_type [GRU], hidden_dim [64], word_embedding_dim [96], bidirectional [True], dropout [0.0]\n"
          ],
          "name": "stdout"
        },
        {
          "output_type": "stream",
          "text": [
            "Epoch 0: 100%|██████████| 13/13 [00:00<00:00, 16.43batch/s, accuracy=68.3, loss=0.983]\n",
            "Epoch 1: 100%|██████████| 13/13 [00:00<00:00, 16.77batch/s, accuracy=83.9, loss=0.509]\n",
            "Epoch 2: 100%|██████████| 13/13 [00:00<00:00, 16.57batch/s, accuracy=91.4, loss=0.305]\n",
            "Epoch 3: 100%|██████████| 13/13 [00:00<00:00, 16.60batch/s, accuracy=95.7, loss=0.171]\n",
            "Epoch 4: 100%|██████████| 13/13 [00:00<00:00, 16.40batch/s, accuracy=98.6, loss=0.0769]\n",
            "Epoch 0:  15%|█▌        | 2/13 [00:00<00:00, 18.61batch/s, accuracy=40.5, loss=2.32]"
          ],
          "name": "stderr"
        },
        {
          "output_type": "stream",
          "text": [
            "Training with hyperparameters: model_type [GRU], hidden_dim [64], word_embedding_dim [96], bidirectional [True], dropout [0.01]\n"
          ],
          "name": "stdout"
        },
        {
          "output_type": "stream",
          "text": [
            "Epoch 0: 100%|██████████| 13/13 [00:00<00:00, 16.58batch/s, accuracy=68.8, loss=0.99]\n",
            "Epoch 1: 100%|██████████| 13/13 [00:00<00:00, 16.75batch/s, accuracy=83.6, loss=0.516]\n",
            "Epoch 2: 100%|██████████| 13/13 [00:00<00:00, 16.67batch/s, accuracy=90.5, loss=0.305]\n",
            "Epoch 3: 100%|██████████| 13/13 [00:00<00:00, 16.72batch/s, accuracy=95.7, loss=0.17]\n",
            "Epoch 4: 100%|██████████| 13/13 [00:00<00:00, 16.64batch/s, accuracy=98.1, loss=0.0831]\n",
            "Epoch 0:  15%|█▌        | 2/13 [00:00<00:00, 19.44batch/s, accuracy=36.5, loss=2.38]"
          ],
          "name": "stderr"
        },
        {
          "output_type": "stream",
          "text": [
            "Training with hyperparameters: model_type [GRU], hidden_dim [64], word_embedding_dim [96], bidirectional [True], dropout [0.001]\n"
          ],
          "name": "stdout"
        },
        {
          "output_type": "stream",
          "text": [
            "Epoch 0: 100%|██████████| 13/13 [00:00<00:00, 16.54batch/s, accuracy=66.6, loss=1.05]\n",
            "Epoch 1: 100%|██████████| 13/13 [00:00<00:00, 16.64batch/s, accuracy=84, loss=0.509]\n",
            "Epoch 2: 100%|██████████| 13/13 [00:00<00:00, 16.36batch/s, accuracy=91.8, loss=0.279]\n",
            "Epoch 3: 100%|██████████| 13/13 [00:00<00:00, 16.80batch/s, accuracy=96.3, loss=0.149]\n",
            "Epoch 4: 100%|██████████| 13/13 [00:00<00:00, 16.97batch/s, accuracy=98.8, loss=0.0685]\n",
            "Epoch 0:  23%|██▎       | 3/13 [00:00<00:00, 20.76batch/s, accuracy=33.1, loss=2.37]"
          ],
          "name": "stderr"
        },
        {
          "output_type": "stream",
          "text": [
            "Training with hyperparameters: model_type [GRU], hidden_dim [96], word_embedding_dim [96], bidirectional [False], dropout [0.0]\n"
          ],
          "name": "stdout"
        },
        {
          "output_type": "stream",
          "text": [
            "Epoch 0: 100%|██████████| 13/13 [00:00<00:00, 18.98batch/s, accuracy=67.8, loss=1.08]\n",
            "Epoch 1: 100%|██████████| 13/13 [00:00<00:00, 18.72batch/s, accuracy=80, loss=0.618]\n",
            "Epoch 2: 100%|██████████| 13/13 [00:00<00:00, 18.36batch/s, accuracy=87.3, loss=0.399]\n",
            "Epoch 3: 100%|██████████| 13/13 [00:00<00:00, 19.00batch/s, accuracy=92.1, loss=0.252]\n",
            "Epoch 4: 100%|██████████| 13/13 [00:00<00:00, 18.85batch/s, accuracy=95, loss=0.161]\n",
            "Epoch 0:  23%|██▎       | 3/13 [00:00<00:00, 18.67batch/s, accuracy=37.1, loss=2.39]"
          ],
          "name": "stderr"
        },
        {
          "output_type": "stream",
          "text": [
            "Training with hyperparameters: model_type [GRU], hidden_dim [96], word_embedding_dim [96], bidirectional [False], dropout [0.01]\n"
          ],
          "name": "stdout"
        },
        {
          "output_type": "stream",
          "text": [
            "Epoch 0: 100%|██████████| 13/13 [00:00<00:00, 17.98batch/s, accuracy=65.9, loss=1.09]\n",
            "Epoch 1: 100%|██████████| 13/13 [00:00<00:00, 18.66batch/s, accuracy=80, loss=0.628]\n",
            "Epoch 2: 100%|██████████| 13/13 [00:00<00:00, 18.63batch/s, accuracy=87, loss=0.414]\n",
            "Epoch 3: 100%|██████████| 13/13 [00:00<00:00, 18.91batch/s, accuracy=91.5, loss=0.268]\n",
            "Epoch 4: 100%|██████████| 13/13 [00:00<00:00, 19.20batch/s, accuracy=95.3, loss=0.157]\n",
            "Epoch 0:  23%|██▎       | 3/13 [00:00<00:00, 21.02batch/s, accuracy=36.5, loss=2.38]"
          ],
          "name": "stderr"
        },
        {
          "output_type": "stream",
          "text": [
            "Training with hyperparameters: model_type [GRU], hidden_dim [96], word_embedding_dim [96], bidirectional [False], dropout [0.001]\n"
          ],
          "name": "stdout"
        },
        {
          "output_type": "stream",
          "text": [
            "Epoch 0: 100%|██████████| 13/13 [00:00<00:00, 18.86batch/s, accuracy=64, loss=1.12]\n",
            "Epoch 1: 100%|██████████| 13/13 [00:00<00:00, 18.63batch/s, accuracy=78.9, loss=0.666]\n",
            "Epoch 2: 100%|██████████| 13/13 [00:00<00:00, 18.91batch/s, accuracy=86.9, loss=0.411]\n",
            "Epoch 3: 100%|██████████| 13/13 [00:00<00:00, 18.68batch/s, accuracy=92, loss=0.27]\n",
            "Epoch 4: 100%|██████████| 13/13 [00:00<00:00, 18.86batch/s, accuracy=94.5, loss=0.174]\n",
            "Epoch 0:  15%|█▌        | 2/13 [00:00<00:00, 16.36batch/s, accuracy=40.9, loss=2.17]"
          ],
          "name": "stderr"
        },
        {
          "output_type": "stream",
          "text": [
            "Training with hyperparameters: model_type [GRU], hidden_dim [96], word_embedding_dim [96], bidirectional [True], dropout [0.0]\n"
          ],
          "name": "stdout"
        },
        {
          "output_type": "stream",
          "text": [
            "Epoch 0: 100%|██████████| 13/13 [00:00<00:00, 15.09batch/s, accuracy=71.3, loss=0.904]\n",
            "Epoch 1: 100%|██████████| 13/13 [00:00<00:00, 15.52batch/s, accuracy=84.9, loss=0.464]\n",
            "Epoch 2: 100%|██████████| 13/13 [00:00<00:00, 15.21batch/s, accuracy=93.1, loss=0.237]\n",
            "Epoch 3: 100%|██████████| 13/13 [00:00<00:00, 15.33batch/s, accuracy=97.7, loss=0.112]\n",
            "Epoch 4: 100%|██████████| 13/13 [00:00<00:00, 15.26batch/s, accuracy=99.1, loss=0.0636]\n",
            "Epoch 0:  15%|█▌        | 2/13 [00:00<00:00, 17.81batch/s, accuracy=40.3, loss=2.17]"
          ],
          "name": "stderr"
        },
        {
          "output_type": "stream",
          "text": [
            "Training with hyperparameters: model_type [GRU], hidden_dim [96], word_embedding_dim [96], bidirectional [True], dropout [0.01]\n"
          ],
          "name": "stdout"
        },
        {
          "output_type": "stream",
          "text": [
            "Epoch 0: 100%|██████████| 13/13 [00:00<00:00, 15.33batch/s, accuracy=72.1, loss=0.844]\n",
            "Epoch 1: 100%|██████████| 13/13 [00:00<00:00, 15.45batch/s, accuracy=86.2, loss=0.443]\n",
            "Epoch 2: 100%|██████████| 13/13 [00:00<00:00, 15.43batch/s, accuracy=93.2, loss=0.239]\n",
            "Epoch 3: 100%|██████████| 13/13 [00:00<00:00, 15.69batch/s, accuracy=97.5, loss=0.117]\n",
            "Epoch 4: 100%|██████████| 13/13 [00:00<00:00, 15.31batch/s, accuracy=99.1, loss=0.0637]\n",
            "Epoch 0:  15%|█▌        | 2/13 [00:00<00:00, 17.09batch/s, accuracy=38.4, loss=2.22]"
          ],
          "name": "stderr"
        },
        {
          "output_type": "stream",
          "text": [
            "Training with hyperparameters: model_type [GRU], hidden_dim [96], word_embedding_dim [96], bidirectional [True], dropout [0.001]\n"
          ],
          "name": "stdout"
        },
        {
          "output_type": "stream",
          "text": [
            "Epoch 0: 100%|██████████| 13/13 [00:00<00:00, 15.64batch/s, accuracy=72.6, loss=0.878]\n",
            "Epoch 1: 100%|██████████| 13/13 [00:00<00:00, 15.81batch/s, accuracy=85, loss=0.467]\n",
            "Epoch 2: 100%|██████████| 13/13 [00:00<00:00, 15.89batch/s, accuracy=92.2, loss=0.257]\n",
            "Epoch 3: 100%|██████████| 13/13 [00:00<00:00, 15.38batch/s, accuracy=97.1, loss=0.127]\n",
            "Epoch 4: 100%|██████████| 13/13 [00:00<00:00, 15.27batch/s, accuracy=99, loss=0.066]\n",
            "Epoch 0:  23%|██▎       | 3/13 [00:00<00:00, 20.35batch/s, accuracy=35.9, loss=2.28]"
          ],
          "name": "stderr"
        },
        {
          "output_type": "stream",
          "text": [
            "Training with hyperparameters: model_type [GRU], hidden_dim [128], word_embedding_dim [96], bidirectional [False], dropout [0.0]\n"
          ],
          "name": "stdout"
        },
        {
          "output_type": "stream",
          "text": [
            "Epoch 0: 100%|██████████| 13/13 [00:00<00:00, 18.26batch/s, accuracy=66.1, loss=1.06]\n",
            "Epoch 1: 100%|██████████| 13/13 [00:00<00:00, 18.09batch/s, accuracy=79.9, loss=0.618]\n",
            "Epoch 2: 100%|██████████| 13/13 [00:00<00:00, 18.29batch/s, accuracy=87.5, loss=0.408]\n",
            "Epoch 3: 100%|██████████| 13/13 [00:00<00:00, 18.07batch/s, accuracy=92.3, loss=0.261]\n",
            "Epoch 4: 100%|██████████| 13/13 [00:00<00:00, 18.60batch/s, accuracy=95.9, loss=0.159]\n",
            "Epoch 0:  15%|█▌        | 2/13 [00:00<00:00, 19.64batch/s, accuracy=37.2, loss=2.29]"
          ],
          "name": "stderr"
        },
        {
          "output_type": "stream",
          "text": [
            "Training with hyperparameters: model_type [GRU], hidden_dim [128], word_embedding_dim [96], bidirectional [False], dropout [0.01]\n"
          ],
          "name": "stdout"
        },
        {
          "output_type": "stream",
          "text": [
            "Epoch 0: 100%|██████████| 13/13 [00:00<00:00, 17.80batch/s, accuracy=66.6, loss=1.03]\n",
            "Epoch 1: 100%|██████████| 13/13 [00:00<00:00, 18.48batch/s, accuracy=80, loss=0.61]\n",
            "Epoch 2: 100%|██████████| 13/13 [00:00<00:00, 17.99batch/s, accuracy=88.1, loss=0.381]\n",
            "Epoch 3: 100%|██████████| 13/13 [00:00<00:00, 18.33batch/s, accuracy=93, loss=0.23]\n",
            "Epoch 4: 100%|██████████| 13/13 [00:00<00:00, 17.59batch/s, accuracy=96.1, loss=0.138]\n",
            "Epoch 0:  15%|█▌        | 2/13 [00:00<00:00, 19.82batch/s, accuracy=36.4, loss=2.32]"
          ],
          "name": "stderr"
        },
        {
          "output_type": "stream",
          "text": [
            "Training with hyperparameters: model_type [GRU], hidden_dim [128], word_embedding_dim [96], bidirectional [False], dropout [0.001]\n"
          ],
          "name": "stdout"
        },
        {
          "output_type": "stream",
          "text": [
            "Epoch 0: 100%|██████████| 13/13 [00:00<00:00, 17.73batch/s, accuracy=66.4, loss=1.06]\n",
            "Epoch 1: 100%|██████████| 13/13 [00:00<00:00, 17.85batch/s, accuracy=78.9, loss=0.617]\n",
            "Epoch 2: 100%|██████████| 13/13 [00:00<00:00, 17.18batch/s, accuracy=88.2, loss=0.39]\n",
            "Epoch 3: 100%|██████████| 13/13 [00:00<00:00, 17.51batch/s, accuracy=92.9, loss=0.239]\n",
            "Epoch 4: 100%|██████████| 13/13 [00:00<00:00, 17.91batch/s, accuracy=96.2, loss=0.146]\n",
            "Epoch 0:  15%|█▌        | 2/13 [00:00<00:00, 16.59batch/s, accuracy=37.6, loss=2.41]"
          ],
          "name": "stderr"
        },
        {
          "output_type": "stream",
          "text": [
            "Training with hyperparameters: model_type [GRU], hidden_dim [128], word_embedding_dim [96], bidirectional [True], dropout [0.0]\n"
          ],
          "name": "stdout"
        },
        {
          "output_type": "stream",
          "text": [
            "Epoch 0: 100%|██████████| 13/13 [00:00<00:00, 14.76batch/s, accuracy=73.3, loss=0.844]\n",
            "Epoch 1: 100%|██████████| 13/13 [00:00<00:00, 15.25batch/s, accuracy=86.4, loss=0.421]\n",
            "Epoch 2: 100%|██████████| 13/13 [00:00<00:00, 15.03batch/s, accuracy=93.8, loss=0.209]\n",
            "Epoch 3: 100%|██████████| 13/13 [00:00<00:00, 14.90batch/s, accuracy=98, loss=0.089]\n",
            "Epoch 4: 100%|██████████| 13/13 [00:00<00:00, 14.97batch/s, accuracy=99.8, loss=0.0344]\n",
            "Epoch 0:  15%|█▌        | 2/13 [00:00<00:00, 16.23batch/s, accuracy=36.9, loss=2.41]"
          ],
          "name": "stderr"
        },
        {
          "output_type": "stream",
          "text": [
            "Training with hyperparameters: model_type [GRU], hidden_dim [128], word_embedding_dim [96], bidirectional [True], dropout [0.01]\n"
          ],
          "name": "stdout"
        },
        {
          "output_type": "stream",
          "text": [
            "Epoch 0: 100%|██████████| 13/13 [00:00<00:00, 15.21batch/s, accuracy=71.7, loss=0.873]\n",
            "Epoch 1: 100%|██████████| 13/13 [00:00<00:00, 15.16batch/s, accuracy=84.9, loss=0.447]\n",
            "Epoch 2: 100%|██████████| 13/13 [00:00<00:00, 15.19batch/s, accuracy=93.9, loss=0.223]\n",
            "Epoch 3: 100%|██████████| 13/13 [00:00<00:00, 15.20batch/s, accuracy=98.1, loss=0.0913]\n",
            "Epoch 4: 100%|██████████| 13/13 [00:00<00:00, 14.82batch/s, accuracy=99.7, loss=0.0431]\n",
            "Epoch 0:  15%|█▌        | 2/13 [00:00<00:00, 17.40batch/s, accuracy=39.2, loss=2.11]"
          ],
          "name": "stderr"
        },
        {
          "output_type": "stream",
          "text": [
            "Training with hyperparameters: model_type [GRU], hidden_dim [128], word_embedding_dim [96], bidirectional [True], dropout [0.001]\n"
          ],
          "name": "stdout"
        },
        {
          "output_type": "stream",
          "text": [
            "Epoch 0: 100%|██████████| 13/13 [00:00<00:00, 14.90batch/s, accuracy=72.6, loss=0.863]\n",
            "Epoch 1: 100%|██████████| 13/13 [00:00<00:00, 15.20batch/s, accuracy=85.2, loss=0.443]\n",
            "Epoch 2: 100%|██████████| 13/13 [00:00<00:00, 14.95batch/s, accuracy=92.4, loss=0.228]\n",
            "Epoch 3: 100%|██████████| 13/13 [00:00<00:00, 15.44batch/s, accuracy=97.8, loss=0.0978]\n",
            "Epoch 4: 100%|██████████| 13/13 [00:00<00:00, 15.48batch/s, accuracy=99.5, loss=0.0448]\n",
            "Epoch 0:  23%|██▎       | 3/13 [00:00<00:00, 21.51batch/s, accuracy=29.9, loss=2.59]"
          ],
          "name": "stderr"
        },
        {
          "output_type": "stream",
          "text": [
            "Training with hyperparameters: model_type [GRU], hidden_dim [32], word_embedding_dim [128], bidirectional [False], dropout [0.0]\n"
          ],
          "name": "stdout"
        },
        {
          "output_type": "stream",
          "text": [
            "Epoch 0: 100%|██████████| 13/13 [00:00<00:00, 19.92batch/s, accuracy=59.1, loss=1.49]\n",
            "Epoch 1: 100%|██████████| 13/13 [00:00<00:00, 19.38batch/s, accuracy=76.5, loss=0.831]\n",
            "Epoch 2: 100%|██████████| 13/13 [00:00<00:00, 19.55batch/s, accuracy=85, loss=0.533]\n",
            "Epoch 3: 100%|██████████| 13/13 [00:00<00:00, 20.28batch/s, accuracy=90.8, loss=0.35]\n",
            "Epoch 4: 100%|██████████| 13/13 [00:00<00:00, 19.90batch/s, accuracy=93.4, loss=0.242]\n",
            "Epoch 0:  23%|██▎       | 3/13 [00:00<00:00, 21.40batch/s, accuracy=24.5, loss=2.6]"
          ],
          "name": "stderr"
        },
        {
          "output_type": "stream",
          "text": [
            "Training with hyperparameters: model_type [GRU], hidden_dim [32], word_embedding_dim [128], bidirectional [False], dropout [0.01]\n"
          ],
          "name": "stdout"
        },
        {
          "output_type": "stream",
          "text": [
            "Epoch 0: 100%|██████████| 13/13 [00:00<00:00, 19.90batch/s, accuracy=56.7, loss=1.51]\n",
            "Epoch 1: 100%|██████████| 13/13 [00:00<00:00, 19.52batch/s, accuracy=74.4, loss=0.875]\n",
            "Epoch 2: 100%|██████████| 13/13 [00:00<00:00, 20.60batch/s, accuracy=83.9, loss=0.548]\n",
            "Epoch 3: 100%|██████████| 13/13 [00:00<00:00, 19.82batch/s, accuracy=89.5, loss=0.358]\n",
            "Epoch 4: 100%|██████████| 13/13 [00:00<00:00, 19.71batch/s, accuracy=93.3, loss=0.245]\n",
            "Epoch 0:  23%|██▎       | 3/13 [00:00<00:00, 22.17batch/s, accuracy=23.8, loss=2.65]"
          ],
          "name": "stderr"
        },
        {
          "output_type": "stream",
          "text": [
            "Training with hyperparameters: model_type [GRU], hidden_dim [32], word_embedding_dim [128], bidirectional [False], dropout [0.001]\n"
          ],
          "name": "stdout"
        },
        {
          "output_type": "stream",
          "text": [
            "Epoch 0: 100%|██████████| 13/13 [00:00<00:00, 20.45batch/s, accuracy=55.3, loss=1.57]\n",
            "Epoch 1: 100%|██████████| 13/13 [00:00<00:00, 19.72batch/s, accuracy=74.2, loss=0.914]\n",
            "Epoch 2: 100%|██████████| 13/13 [00:00<00:00, 20.54batch/s, accuracy=84.2, loss=0.555]\n",
            "Epoch 3: 100%|██████████| 13/13 [00:00<00:00, 20.48batch/s, accuracy=89.6, loss=0.355]\n",
            "Epoch 4: 100%|██████████| 13/13 [00:00<00:00, 19.62batch/s, accuracy=93.8, loss=0.24]\n",
            "Epoch 0:  15%|█▌        | 2/13 [00:00<00:00, 19.43batch/s, accuracy=33.6, loss=2.42]"
          ],
          "name": "stderr"
        },
        {
          "output_type": "stream",
          "text": [
            "Training with hyperparameters: model_type [GRU], hidden_dim [32], word_embedding_dim [128], bidirectional [True], dropout [0.0]\n"
          ],
          "name": "stdout"
        },
        {
          "output_type": "stream",
          "text": [
            "Epoch 0: 100%|██████████| 13/13 [00:00<00:00, 17.48batch/s, accuracy=66.2, loss=1.17]\n",
            "Epoch 1: 100%|██████████| 13/13 [00:00<00:00, 18.26batch/s, accuracy=81.6, loss=0.607]\n",
            "Epoch 2: 100%|██████████| 13/13 [00:00<00:00, 17.96batch/s, accuracy=90.5, loss=0.343]\n",
            "Epoch 3: 100%|██████████| 13/13 [00:00<00:00, 17.95batch/s, accuracy=94.7, loss=0.196]\n",
            "Epoch 4: 100%|██████████| 13/13 [00:00<00:00, 17.89batch/s, accuracy=97.7, loss=0.112]\n",
            "Epoch 0:  23%|██▎       | 3/13 [00:00<00:00, 19.95batch/s, accuracy=35.5, loss=2.46]"
          ],
          "name": "stderr"
        },
        {
          "output_type": "stream",
          "text": [
            "Training with hyperparameters: model_type [GRU], hidden_dim [32], word_embedding_dim [128], bidirectional [True], dropout [0.01]\n"
          ],
          "name": "stdout"
        },
        {
          "output_type": "stream",
          "text": [
            "Epoch 0: 100%|██████████| 13/13 [00:00<00:00, 17.93batch/s, accuracy=67.5, loss=1.2]\n",
            "Epoch 1: 100%|██████████| 13/13 [00:00<00:00, 18.21batch/s, accuracy=80.4, loss=0.643]\n",
            "Epoch 2: 100%|██████████| 13/13 [00:00<00:00, 18.45batch/s, accuracy=88.4, loss=0.386]\n",
            "Epoch 3: 100%|██████████| 13/13 [00:00<00:00, 18.13batch/s, accuracy=94.1, loss=0.219]\n",
            "Epoch 4: 100%|██████████| 13/13 [00:00<00:00, 18.10batch/s, accuracy=97.1, loss=0.126]\n",
            "Epoch 0:  23%|██▎       | 3/13 [00:00<00:00, 20.25batch/s, accuracy=28.6, loss=2.52]"
          ],
          "name": "stderr"
        },
        {
          "output_type": "stream",
          "text": [
            "Training with hyperparameters: model_type [GRU], hidden_dim [32], word_embedding_dim [128], bidirectional [True], dropout [0.001]\n"
          ],
          "name": "stdout"
        },
        {
          "output_type": "stream",
          "text": [
            "Epoch 0: 100%|██████████| 13/13 [00:00<00:00, 18.12batch/s, accuracy=64.7, loss=1.24]\n",
            "Epoch 1: 100%|██████████| 13/13 [00:00<00:00, 18.08batch/s, accuracy=80.1, loss=0.639]\n",
            "Epoch 2: 100%|██████████| 13/13 [00:00<00:00, 17.71batch/s, accuracy=90.4, loss=0.354]\n",
            "Epoch 3: 100%|██████████| 13/13 [00:00<00:00, 18.04batch/s, accuracy=95, loss=0.195]\n",
            "Epoch 4: 100%|██████████| 13/13 [00:00<00:00, 17.94batch/s, accuracy=98, loss=0.111]\n",
            "Epoch 0:  23%|██▎       | 3/13 [00:00<00:00, 21.41batch/s, accuracy=36.5, loss=2.44]"
          ],
          "name": "stderr"
        },
        {
          "output_type": "stream",
          "text": [
            "Training with hyperparameters: model_type [GRU], hidden_dim [64], word_embedding_dim [128], bidirectional [False], dropout [0.0]\n"
          ],
          "name": "stdout"
        },
        {
          "output_type": "stream",
          "text": [
            "Epoch 0: 100%|██████████| 13/13 [00:00<00:00, 19.32batch/s, accuracy=64.9, loss=1.17]\n",
            "Epoch 1: 100%|██████████| 13/13 [00:00<00:00, 19.13batch/s, accuracy=80.1, loss=0.652]\n",
            "Epoch 2: 100%|██████████| 13/13 [00:00<00:00, 18.64batch/s, accuracy=88.3, loss=0.394]\n",
            "Epoch 3: 100%|██████████| 13/13 [00:00<00:00, 18.76batch/s, accuracy=93.2, loss=0.241]\n",
            "Epoch 4: 100%|██████████| 13/13 [00:00<00:00, 19.42batch/s, accuracy=95.7, loss=0.154]\n",
            "Epoch 0:  15%|█▌        | 2/13 [00:00<00:00, 18.69batch/s, accuracy=36.9, loss=2.43]"
          ],
          "name": "stderr"
        },
        {
          "output_type": "stream",
          "text": [
            "Training with hyperparameters: model_type [GRU], hidden_dim [64], word_embedding_dim [128], bidirectional [False], dropout [0.01]\n"
          ],
          "name": "stdout"
        },
        {
          "output_type": "stream",
          "text": [
            "Epoch 0: 100%|██████████| 13/13 [00:00<00:00, 19.23batch/s, accuracy=67.7, loss=1.13]\n",
            "Epoch 1: 100%|██████████| 13/13 [00:00<00:00, 19.81batch/s, accuracy=81.2, loss=0.631]\n",
            "Epoch 2: 100%|██████████| 13/13 [00:00<00:00, 18.60batch/s, accuracy=88.5, loss=0.394]\n",
            "Epoch 3: 100%|██████████| 13/13 [00:00<00:00, 19.41batch/s, accuracy=92.9, loss=0.237]\n",
            "Epoch 4: 100%|██████████| 13/13 [00:00<00:00, 18.97batch/s, accuracy=96, loss=0.145]\n",
            "Epoch 0:  23%|██▎       | 3/13 [00:00<00:00, 21.76batch/s, accuracy=37.1, loss=2.44]"
          ],
          "name": "stderr"
        },
        {
          "output_type": "stream",
          "text": [
            "Training with hyperparameters: model_type [GRU], hidden_dim [64], word_embedding_dim [128], bidirectional [False], dropout [0.001]\n"
          ],
          "name": "stdout"
        },
        {
          "output_type": "stream",
          "text": [
            "Epoch 0: 100%|██████████| 13/13 [00:00<00:00, 19.13batch/s, accuracy=66.4, loss=1.15]\n",
            "Epoch 1: 100%|██████████| 13/13 [00:00<00:00, 19.33batch/s, accuracy=80.3, loss=0.643]\n",
            "Epoch 2: 100%|██████████| 13/13 [00:00<00:00, 19.27batch/s, accuracy=87.2, loss=0.423]\n",
            "Epoch 3: 100%|██████████| 13/13 [00:00<00:00, 19.81batch/s, accuracy=92.3, loss=0.262]\n",
            "Epoch 4: 100%|██████████| 13/13 [00:00<00:00, 19.51batch/s, accuracy=95.7, loss=0.162]\n",
            "Epoch 0:  15%|█▌        | 2/13 [00:00<00:00, 18.27batch/s, accuracy=38.9, loss=2.27]"
          ],
          "name": "stderr"
        },
        {
          "output_type": "stream",
          "text": [
            "Training with hyperparameters: model_type [GRU], hidden_dim [64], word_embedding_dim [128], bidirectional [True], dropout [0.0]\n"
          ],
          "name": "stdout"
        },
        {
          "output_type": "stream",
          "text": [
            "Epoch 0: 100%|██████████| 13/13 [00:00<00:00, 16.12batch/s, accuracy=71.2, loss=0.962]\n",
            "Epoch 1: 100%|██████████| 13/13 [00:00<00:00, 16.41batch/s, accuracy=84.7, loss=0.478]\n",
            "Epoch 2: 100%|██████████| 13/13 [00:00<00:00, 16.50batch/s, accuracy=93.3, loss=0.237]\n",
            "Epoch 3: 100%|██████████| 13/13 [00:00<00:00, 16.29batch/s, accuracy=97.9, loss=0.107]\n",
            "Epoch 4: 100%|██████████| 13/13 [00:00<00:00, 17.11batch/s, accuracy=99.1, loss=0.0497]\n",
            "Epoch 0:  15%|█▌        | 2/13 [00:00<00:00, 18.44batch/s, accuracy=42.2, loss=2.26]"
          ],
          "name": "stderr"
        },
        {
          "output_type": "stream",
          "text": [
            "Training with hyperparameters: model_type [GRU], hidden_dim [64], word_embedding_dim [128], bidirectional [True], dropout [0.01]\n"
          ],
          "name": "stdout"
        },
        {
          "output_type": "stream",
          "text": [
            "Epoch 0: 100%|██████████| 13/13 [00:00<00:00, 16.42batch/s, accuracy=72.3, loss=0.922]\n",
            "Epoch 1: 100%|██████████| 13/13 [00:00<00:00, 16.57batch/s, accuracy=85.7, loss=0.45]\n",
            "Epoch 2: 100%|██████████| 13/13 [00:00<00:00, 16.70batch/s, accuracy=93.5, loss=0.236]\n",
            "Epoch 3: 100%|██████████| 13/13 [00:00<00:00, 16.57batch/s, accuracy=97.5, loss=0.11]\n",
            "Epoch 4: 100%|██████████| 13/13 [00:00<00:00, 16.88batch/s, accuracy=99, loss=0.052]\n",
            "Epoch 0:  15%|█▌        | 2/13 [00:00<00:00, 18.11batch/s, accuracy=40.8, loss=2.25]"
          ],
          "name": "stderr"
        },
        {
          "output_type": "stream",
          "text": [
            "Training with hyperparameters: model_type [GRU], hidden_dim [64], word_embedding_dim [128], bidirectional [True], dropout [0.001]\n"
          ],
          "name": "stdout"
        },
        {
          "output_type": "stream",
          "text": [
            "Epoch 0: 100%|██████████| 13/13 [00:00<00:00, 16.68batch/s, accuracy=71.7, loss=0.899]\n",
            "Epoch 1: 100%|██████████| 13/13 [00:00<00:00, 16.60batch/s, accuracy=86, loss=0.45]\n",
            "Epoch 2: 100%|██████████| 13/13 [00:00<00:00, 16.48batch/s, accuracy=93.5, loss=0.237]\n",
            "Epoch 3: 100%|██████████| 13/13 [00:00<00:00, 16.59batch/s, accuracy=97.5, loss=0.111]\n",
            "Epoch 4: 100%|██████████| 13/13 [00:00<00:00, 16.53batch/s, accuracy=99.3, loss=0.0509]\n",
            "Epoch 0:  15%|█▌        | 2/13 [00:00<00:00, 19.84batch/s, accuracy=36.3, loss=2.27]"
          ],
          "name": "stderr"
        },
        {
          "output_type": "stream",
          "text": [
            "Training with hyperparameters: model_type [GRU], hidden_dim [96], word_embedding_dim [128], bidirectional [False], dropout [0.0]\n"
          ],
          "name": "stdout"
        },
        {
          "output_type": "stream",
          "text": [
            "Epoch 0: 100%|██████████| 13/13 [00:00<00:00, 18.10batch/s, accuracy=70.5, loss=0.962]\n",
            "Epoch 1: 100%|██████████| 13/13 [00:00<00:00, 18.00batch/s, accuracy=82.3, loss=0.557]\n",
            "Epoch 2: 100%|██████████| 13/13 [00:00<00:00, 18.02batch/s, accuracy=89.7, loss=0.346]\n",
            "Epoch 3: 100%|██████████| 13/13 [00:00<00:00, 18.23batch/s, accuracy=94.1, loss=0.215]\n",
            "Epoch 4: 100%|██████████| 13/13 [00:00<00:00, 18.09batch/s, accuracy=96.5, loss=0.131]\n",
            "Epoch 0:  15%|█▌        | 2/13 [00:00<00:00, 19.91batch/s, accuracy=37.7, loss=2.34]"
          ],
          "name": "stderr"
        },
        {
          "output_type": "stream",
          "text": [
            "Training with hyperparameters: model_type [GRU], hidden_dim [96], word_embedding_dim [128], bidirectional [False], dropout [0.01]\n"
          ],
          "name": "stdout"
        },
        {
          "output_type": "stream",
          "text": [
            "Epoch 0: 100%|██████████| 13/13 [00:00<00:00, 18.10batch/s, accuracy=69.1, loss=0.981]\n",
            "Epoch 1: 100%|██████████| 13/13 [00:00<00:00, 18.31batch/s, accuracy=81.6, loss=0.566]\n",
            "Epoch 2: 100%|██████████| 13/13 [00:00<00:00, 18.54batch/s, accuracy=89.6, loss=0.345]\n",
            "Epoch 3: 100%|██████████| 13/13 [00:00<00:00, 19.01batch/s, accuracy=93.8, loss=0.218]\n",
            "Epoch 4: 100%|██████████| 13/13 [00:00<00:00, 18.41batch/s, accuracy=96.5, loss=0.126]\n",
            "Epoch 0:  23%|██▎       | 3/13 [00:00<00:00, 19.19batch/s, accuracy=38.6, loss=2.35]"
          ],
          "name": "stderr"
        },
        {
          "output_type": "stream",
          "text": [
            "Training with hyperparameters: model_type [GRU], hidden_dim [96], word_embedding_dim [128], bidirectional [False], dropout [0.001]\n"
          ],
          "name": "stdout"
        },
        {
          "output_type": "stream",
          "text": [
            "Epoch 0: 100%|██████████| 13/13 [00:00<00:00, 17.82batch/s, accuracy=69, loss=0.977]\n",
            "Epoch 1: 100%|██████████| 13/13 [00:00<00:00, 17.89batch/s, accuracy=82.5, loss=0.55]\n",
            "Epoch 2: 100%|██████████| 13/13 [00:00<00:00, 17.97batch/s, accuracy=90.4, loss=0.333]\n",
            "Epoch 3: 100%|██████████| 13/13 [00:00<00:00, 18.50batch/s, accuracy=94.4, loss=0.194]\n",
            "Epoch 4: 100%|██████████| 13/13 [00:00<00:00, 17.85batch/s, accuracy=97.1, loss=0.117]\n",
            "Epoch 0:  15%|█▌        | 2/13 [00:00<00:00, 17.21batch/s, accuracy=41.6, loss=2.16]"
          ],
          "name": "stderr"
        },
        {
          "output_type": "stream",
          "text": [
            "Training with hyperparameters: model_type [GRU], hidden_dim [96], word_embedding_dim [128], bidirectional [True], dropout [0.0]\n"
          ],
          "name": "stdout"
        },
        {
          "output_type": "stream",
          "text": [
            "Epoch 0: 100%|██████████| 13/13 [00:00<00:00, 15.56batch/s, accuracy=75, loss=0.811]\n",
            "Epoch 1: 100%|██████████| 13/13 [00:00<00:00, 15.29batch/s, accuracy=87.3, loss=0.389]\n",
            "Epoch 2: 100%|██████████| 13/13 [00:00<00:00, 15.30batch/s, accuracy=94.5, loss=0.182]\n",
            "Epoch 3: 100%|██████████| 13/13 [00:00<00:00, 15.69batch/s, accuracy=98.7, loss=0.073]\n",
            "Epoch 4: 100%|██████████| 13/13 [00:00<00:00, 15.66batch/s, accuracy=99.8, loss=0.0335]\n",
            "Epoch 0:  15%|█▌        | 2/13 [00:00<00:00, 17.34batch/s, accuracy=43.2, loss=2.09]"
          ],
          "name": "stderr"
        },
        {
          "output_type": "stream",
          "text": [
            "Training with hyperparameters: model_type [GRU], hidden_dim [96], word_embedding_dim [128], bidirectional [True], dropout [0.01]\n"
          ],
          "name": "stdout"
        },
        {
          "output_type": "stream",
          "text": [
            "Epoch 0: 100%|██████████| 13/13 [00:00<00:00, 15.03batch/s, accuracy=73.5, loss=0.84]\n",
            "Epoch 1: 100%|██████████| 13/13 [00:00<00:00, 15.02batch/s, accuracy=87.1, loss=0.39]\n",
            "Epoch 2: 100%|██████████| 13/13 [00:00<00:00, 15.48batch/s, accuracy=94.6, loss=0.183]\n",
            "Epoch 3: 100%|██████████| 13/13 [00:00<00:00, 15.18batch/s, accuracy=98.6, loss=0.0792]\n",
            "Epoch 4: 100%|██████████| 13/13 [00:00<00:00, 15.61batch/s, accuracy=99.5, loss=0.041]\n",
            "Epoch 0:  15%|█▌        | 2/13 [00:00<00:00, 17.78batch/s, accuracy=37.9, loss=2.39]"
          ],
          "name": "stderr"
        },
        {
          "output_type": "stream",
          "text": [
            "Training with hyperparameters: model_type [GRU], hidden_dim [96], word_embedding_dim [128], bidirectional [True], dropout [0.001]\n"
          ],
          "name": "stdout"
        },
        {
          "output_type": "stream",
          "text": [
            "Epoch 0: 100%|██████████| 13/13 [00:00<00:00, 15.52batch/s, accuracy=73.8, loss=0.815]\n",
            "Epoch 1: 100%|██████████| 13/13 [00:00<00:00, 15.51batch/s, accuracy=86.3, loss=0.398]\n",
            "Epoch 2: 100%|██████████| 13/13 [00:00<00:00, 15.67batch/s, accuracy=94.3, loss=0.186]\n",
            "Epoch 3: 100%|██████████| 13/13 [00:00<00:00, 15.51batch/s, accuracy=98.8, loss=0.0784]\n",
            "Epoch 4: 100%|██████████| 13/13 [00:00<00:00, 15.19batch/s, accuracy=99.5, loss=0.0397]\n",
            "Epoch 0:  23%|██▎       | 3/13 [00:00<00:00, 20.72batch/s, accuracy=39.7, loss=2.24]"
          ],
          "name": "stderr"
        },
        {
          "output_type": "stream",
          "text": [
            "Training with hyperparameters: model_type [GRU], hidden_dim [128], word_embedding_dim [128], bidirectional [False], dropout [0.0]\n"
          ],
          "name": "stdout"
        },
        {
          "output_type": "stream",
          "text": [
            "Epoch 0: 100%|██████████| 13/13 [00:00<00:00, 17.82batch/s, accuracy=70.7, loss=0.924]\n",
            "Epoch 1: 100%|██████████| 13/13 [00:00<00:00, 18.44batch/s, accuracy=83.2, loss=0.522]\n",
            "Epoch 2: 100%|██████████| 13/13 [00:00<00:00, 17.95batch/s, accuracy=91.3, loss=0.296]\n",
            "Epoch 3: 100%|██████████| 13/13 [00:00<00:00, 18.12batch/s, accuracy=95.6, loss=0.167]\n",
            "Epoch 4: 100%|██████████| 13/13 [00:00<00:00, 18.30batch/s, accuracy=97.3, loss=0.104]\n",
            "Epoch 0:  15%|█▌        | 2/13 [00:00<00:00, 19.58batch/s, accuracy=39.2, loss=2.23]"
          ],
          "name": "stderr"
        },
        {
          "output_type": "stream",
          "text": [
            "Training with hyperparameters: model_type [GRU], hidden_dim [128], word_embedding_dim [128], bidirectional [False], dropout [0.01]\n"
          ],
          "name": "stdout"
        },
        {
          "output_type": "stream",
          "text": [
            "Epoch 0: 100%|██████████| 13/13 [00:00<00:00, 17.39batch/s, accuracy=70, loss=0.946]\n",
            "Epoch 1: 100%|██████████| 13/13 [00:00<00:00, 18.32batch/s, accuracy=82.7, loss=0.533]\n",
            "Epoch 2: 100%|██████████| 13/13 [00:00<00:00, 17.32batch/s, accuracy=90.6, loss=0.304]\n",
            "Epoch 3: 100%|██████████| 13/13 [00:00<00:00, 18.09batch/s, accuracy=95.3, loss=0.177]\n",
            "Epoch 4: 100%|██████████| 13/13 [00:00<00:00, 18.06batch/s, accuracy=97.3, loss=0.112]\n",
            "Epoch 0:  15%|█▌        | 2/13 [00:00<00:00, 19.76batch/s, accuracy=40.7, loss=2.22]"
          ],
          "name": "stderr"
        },
        {
          "output_type": "stream",
          "text": [
            "Training with hyperparameters: model_type [GRU], hidden_dim [128], word_embedding_dim [128], bidirectional [False], dropout [0.001]\n"
          ],
          "name": "stdout"
        },
        {
          "output_type": "stream",
          "text": [
            "Epoch 0: 100%|██████████| 13/13 [00:00<00:00, 17.40batch/s, accuracy=70.2, loss=0.929]\n",
            "Epoch 1: 100%|██████████| 13/13 [00:00<00:00, 17.97batch/s, accuracy=83.5, loss=0.533]\n",
            "Epoch 2: 100%|██████████| 13/13 [00:00<00:00, 17.94batch/s, accuracy=91, loss=0.299]\n",
            "Epoch 3: 100%|██████████| 13/13 [00:00<00:00, 17.88batch/s, accuracy=95.1, loss=0.174]\n",
            "Epoch 4: 100%|██████████| 13/13 [00:00<00:00, 17.73batch/s, accuracy=97.3, loss=0.109]\n",
            "Epoch 0:  15%|█▌        | 2/13 [00:00<00:00, 16.65batch/s, accuracy=41.1, loss=2.35]"
          ],
          "name": "stderr"
        },
        {
          "output_type": "stream",
          "text": [
            "Training with hyperparameters: model_type [GRU], hidden_dim [128], word_embedding_dim [128], bidirectional [True], dropout [0.0]\n"
          ],
          "name": "stdout"
        },
        {
          "output_type": "stream",
          "text": [
            "Epoch 0: 100%|██████████| 13/13 [00:00<00:00, 14.33batch/s, accuracy=74.5, loss=0.761]\n",
            "Epoch 1: 100%|██████████| 13/13 [00:00<00:00, 14.85batch/s, accuracy=88.8, loss=0.355]\n",
            "Epoch 2: 100%|██████████| 13/13 [00:00<00:00, 14.89batch/s, accuracy=95.6, loss=0.151]\n",
            "Epoch 3: 100%|██████████| 13/13 [00:00<00:00, 14.62batch/s, accuracy=99.4, loss=0.0513]\n",
            "Epoch 4: 100%|██████████| 13/13 [00:00<00:00, 14.68batch/s, accuracy=99.8, loss=0.0272]\n",
            "Epoch 0:  15%|█▌        | 2/13 [00:00<00:00, 16.59batch/s, accuracy=40.5, loss=2.35]"
          ],
          "name": "stderr"
        },
        {
          "output_type": "stream",
          "text": [
            "Training with hyperparameters: model_type [GRU], hidden_dim [128], word_embedding_dim [128], bidirectional [True], dropout [0.01]\n"
          ],
          "name": "stdout"
        },
        {
          "output_type": "stream",
          "text": [
            "Epoch 0: 100%|██████████| 13/13 [00:00<00:00, 14.95batch/s, accuracy=75.5, loss=0.758]\n",
            "Epoch 1: 100%|██████████| 13/13 [00:00<00:00, 15.11batch/s, accuracy=88.5, loss=0.344]\n",
            "Epoch 2: 100%|██████████| 13/13 [00:00<00:00, 15.19batch/s, accuracy=96.2, loss=0.143]\n",
            "Epoch 3: 100%|██████████| 13/13 [00:00<00:00, 15.27batch/s, accuracy=99.2, loss=0.0517]\n",
            "Epoch 4: 100%|██████████| 13/13 [00:00<00:00, 15.21batch/s, accuracy=99.7, loss=0.0268]\n",
            "Epoch 0:  15%|█▌        | 2/13 [00:00<00:00, 17.59batch/s, accuracy=39.6, loss=2.36]"
          ],
          "name": "stderr"
        },
        {
          "output_type": "stream",
          "text": [
            "Training with hyperparameters: model_type [GRU], hidden_dim [128], word_embedding_dim [128], bidirectional [True], dropout [0.001]\n"
          ],
          "name": "stdout"
        },
        {
          "output_type": "stream",
          "text": [
            "Epoch 0: 100%|██████████| 13/13 [00:00<00:00, 14.79batch/s, accuracy=76.2, loss=0.766]\n",
            "Epoch 1: 100%|██████████| 13/13 [00:00<00:00, 14.85batch/s, accuracy=88.8, loss=0.357]\n",
            "Epoch 2: 100%|██████████| 13/13 [00:00<00:00, 14.91batch/s, accuracy=95.5, loss=0.156]\n",
            "Epoch 3: 100%|██████████| 13/13 [00:00<00:00, 14.78batch/s, accuracy=99.1, loss=0.055]\n",
            "Epoch 4: 100%|██████████| 13/13 [00:00<00:00, 15.04batch/s, accuracy=99.7, loss=0.0255]\n"
          ],
          "name": "stderr"
        }
      ]
    },
    {
      "cell_type": "code",
      "metadata": {
        "id": "UNdJiDFKyUOp",
        "colab": {
          "base_uri": "https://localhost:8080/"
        },
        "outputId": "71b1afea-dce0-4065-f58e-ec74b0f0b78e"
      },
      "source": [
        "import pandas as pd\n",
        "results = pd.DataFrame(results)\n",
        "results = results.sort_values(by='Accuracy', ascending=False)\n",
        "print(results)"
      ],
      "execution_count": 148,
      "outputs": [
        {
          "output_type": "stream",
          "text": [
            "    model  hidden_dim  word_embedding_dim  bidirectional  dropout   Accuracy\n",
            "165   GRU         128                  96           True    0.000  89.643404\n",
            "88   LSTM          96                 128           True    0.010  89.561022\n",
            "183   GRU          96                 128           True    0.000  89.466871\n",
            "189   GRU         128                 128           True    0.000  89.278569\n",
            "69   LSTM         128                  96           True    0.000  89.255031\n",
            "..    ...         ...                 ...            ...      ...        ...\n",
            "26   LSTM          32                  64          False    0.001  76.638814\n",
            "108   GRU          96                  32          False    0.000  76.591738\n",
            "102   GRU          64                  32          False    0.000  74.649876\n",
            "97    GRU          32                  32          False    0.010  74.279157\n",
            "98    GRU          32                  32          False    0.001  72.402024\n",
            "\n",
            "[192 rows x 6 columns]\n"
          ],
          "name": "stdout"
        }
      ]
    },
    {
      "cell_type": "markdown",
      "metadata": {
        "id": "6UC-61xxxp4p"
      },
      "source": [
        "###Final model"
      ]
    },
    {
      "cell_type": "code",
      "metadata": {
        "id": "VbV9iZz-xa2I"
      },
      "source": [
        "model = Tagger(model_type = \"GRU\",\n",
        "               word_embedding_dim=128,                                      # Dimensionality of the work embedding\n",
        "               hidden_dim=96,                                       # Dimensionality of the hidden state in the LSTM\n",
        "               vocabulary_size=len(token2idx),                              # The vocabulary incudes both the 'padding' and 'unknown' symbols\n",
        "               tagset_size=len(tag2idx)-1,                                  # We have no interest in the network outputting the padding symbol\n",
        "               bidirectional=True)   "
      ],
      "execution_count": 157,
      "outputs": []
    },
    {
      "cell_type": "code",
      "metadata": {
        "colab": {
          "base_uri": "https://localhost:8080/",
          "height": 501
        },
        "id": "X6mH2q6V1yHg",
        "outputId": "9c94b9a1-17e1-422d-c6a9-6626bbd98242"
      },
      "source": [
        "# training\n",
        "model.fit(X_train, y_train)\n",
        "\n",
        "#score\n",
        "score = model.score(X_test, y_test)\n",
        "print('\\n')\n",
        "print('====')\n",
        "print(f'Accuracy for the model is {score}')\n",
        "print('====')\n",
        "print('\\n')\n",
        "\n",
        "#plot\n",
        "model.plot()"
      ],
      "execution_count": 158,
      "outputs": [
        {
          "output_type": "stream",
          "text": [
            "Epoch 0: 100%|██████████| 13/13 [00:00<00:00, 15.62batch/s, accuracy=73.9, loss=0.814]\n",
            "Epoch 1: 100%|██████████| 13/13 [00:00<00:00, 16.07batch/s, accuracy=87, loss=0.389]\n",
            "Epoch 2: 100%|██████████| 13/13 [00:00<00:00, 16.06batch/s, accuracy=94.2, loss=0.188]\n",
            "Epoch 3: 100%|██████████| 13/13 [00:00<00:00, 16.15batch/s, accuracy=98.5, loss=0.0815]\n",
            "Epoch 4: 100%|██████████| 13/13 [00:00<00:00, 15.68batch/s, accuracy=99.5, loss=0.0389]\n"
          ],
          "name": "stderr"
        },
        {
          "output_type": "stream",
          "text": [
            "\n",
            "\n",
            "====\n",
            "Accuracy for the model is 89.09026715311286\n",
            "====\n",
            "\n",
            "\n"
          ],
          "name": "stdout"
        },
        {
          "output_type": "display_data",
          "data": {
            "image/png": "[encoded data removed]",
            "text/plain": [
              "<Figure size 432x288 with 2 Axes>"
            ]
          },
          "metadata": {
            "tags": [],
            "needs_background": "light"
          }
        }
      ]
    },
    {
      "cell_type": "markdown",
      "metadata": {
        "id": "sL9byrg-7EEC"
      },
      "source": [
        "### Baseline model\n",
        "\n",
        "As a Baseline model, I decided to use the most Vanilla LTSM, which was implemented in the beginning."
      ]
    },
    {
      "cell_type": "code",
      "metadata": {
        "id": "I5CRMf5w9t0G"
      },
      "source": [
        "model = Tagger(model_type = \"LSTM\",\n",
        "               word_embedding_dim=32,\n",
        "               hidden_dim=64, \n",
        "               vocabulary_size=len(token2idx),                             \n",
        "               tagset_size=len(tag2idx)-1)   "
      ],
      "execution_count": 142,
      "outputs": []
    },
    {
      "cell_type": "code",
      "metadata": {
        "colab": {
          "base_uri": "https://localhost:8080/",
          "height": 501
        },
        "id": "nAxImwhHqZgg",
        "outputId": "0c666e0f-f674-4119-962f-58bb106acaef"
      },
      "source": [
        "# training\n",
        "model.fit(X_train, y_train)\n",
        "\n",
        "#score\n",
        "score = model.score(X_test, y_test)\n",
        "print('\\n')\n",
        "print('====')\n",
        "print(f'Accuracy for the Baseline model is {score}')\n",
        "print('====')\n",
        "print('\\n')\n",
        "\n",
        "#plot\n",
        "model.plot()"
      ],
      "execution_count": 143,
      "outputs": [
        {
          "output_type": "stream",
          "text": [
            "Epoch 0: 100%|██████████| 13/13 [00:00<00:00, 20.49batch/s, accuracy=48.6, loss=1.8]\n",
            "Epoch 1: 100%|██████████| 13/13 [00:00<00:00, 20.83batch/s, accuracy=66.7, loss=1.14]\n",
            "Epoch 2: 100%|██████████| 13/13 [00:00<00:00, 21.61batch/s, accuracy=74.9, loss=0.795]\n",
            "Epoch 3: 100%|██████████| 13/13 [00:00<00:00, 20.98batch/s, accuracy=81.8, loss=0.584]\n",
            "Epoch 4: 100%|██████████| 13/13 [00:00<00:00, 21.29batch/s, accuracy=86.5, loss=0.438]\n"
          ],
          "name": "stderr"
        },
        {
          "output_type": "stream",
          "text": [
            "\n",
            "\n",
            "====\n",
            "Accuracy for the Baseline model is 79.42803342356126\n",
            "====\n",
            "\n",
            "\n"
          ],
          "name": "stdout"
        },
        {
          "output_type": "display_data",
          "data": {
            "image/png": "[encoded data removed]",
            "text/plain": [
              "<Figure size 432x288 with 2 Axes>"
            ]
          },
          "metadata": {
            "tags": [],
            "needs_background": "light"
          }
        }
      ]
    },
    {
      "cell_type": "markdown",
      "metadata": {
        "id": "y27475drjhcz"
      },
      "source": [
        "## Analysis"
      ]
    },
    {
      "cell_type": "markdown",
      "metadata": {
        "id": "N4G-W_jowxTO"
      },
      "source": [
        "**DATASETS:**\n",
        "\n",
        "I decided to implement RNN models for 3 languages: Polish, English and Swedish. Since UD datasets are already split into training and test sets, I treated them as guidelines and decided to split the data the same way as creators. I also decided not to exclude short sentences.\n",
        "\n",
        "\n",
        "**EXTENSIONS:**\n",
        "\n",
        "As I mentioned above, I decided to implement:\n",
        "\n",
        "•\tGRU: as a multi-layer gated recurrent unit (GRU) RNN to an input sequence.\n",
        "\n",
        "•\tBi-directional – when set to True, RNN becomes a bidirectional RNN.\n",
        "\n",
        "•\tDropout – “introduces a Dropout layer on the outputs of each RNN layer except the last layer, with dropout probability equal to dropout.”\n",
        "\n",
        "**THE BEST EXTENSIONS:**\n",
        "Undoubtedly, making the model ‘bidirectional’ improves its performance. Models, which are not bidirectional, have the worst accuracy for every language. \n",
        "When it comes, to the dropout, the best value is ‘0’ or ‘0.001’. I did not notice any special rule behind it. It seems that implementing the dropout can worsen the model.\n",
        "There is no huge difference between the accuracy of LSTM and GRU models. Swedish is the only language, which performed better on the GRU model. However, the difference is really small. \n",
        "\n",
        "\n",
        "**TUNING HYPERPARAMETERS:**\n",
        "\n",
        "To find the best implementation, I decided to run nested loops. The goal of it, was to find the best hyperparameters. It is worth noticing, that there are few differences between the results of the hyperparameters tuning each time, the code is being run. Therefore “Final model” includes specified hyperparameters, which I got the last time. If you would like to run the ‘tuning hyperparameters’ (it can take a while!), remember that the values in the ‘Final model’ need to be changed. \n",
        "\n",
        "**BASELINE ACCURACY**\n",
        "\n",
        "When we want to improve some systems, we need to compare the accuracy with the previous one. The baseline accuracy may be the performance of a simple system, in my case it is a basic LSTM model without any extensions.\n",
        "\n",
        "**MODEL COMPLEXITY AND ACCURACY**\n",
        "\n",
        "We can notice that my language models perform better on a higher dimensionality for the embedding and layers. When a language is morphologically complex, it requires higher dimensionality.\n",
        "\n",
        "**ACCURACY – COMPARISON**\n",
        "\n",
        "\n",
        "Surprisingly, all my models performed pretty similarly when it comes to accuracy. The best model for Polish achieved almost 91%, while the baseline model scored 88%. \n",
        "The final model for English achieved 86% of accuracy, while the baseline model scored 72%.\n",
        "When it comes to Swedish, the best model scored 85%, while the baseline model scored 79%. \n",
        "We need to note that there is a difference in the length of the chosen datasets (Polish is the biggest one, English is the smallest one). In my opinion, since my datasets are imbalanced (when compared to each other), we cannot completely base on the scores, which were achieved.\n",
        "\n",
        "\n",
        "\n"
      ]
    }
  ]
}