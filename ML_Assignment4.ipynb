{
  "nbformat": 4,
  "nbformat_minor": 0,
  "metadata": {
    "colab": {
      "name": "ML_Assignment4",
      "provenance": [],
      "collapsed_sections": []
    },
    "kernelspec": {
      "name": "python3",
      "display_name": "Python 3"
    },
    "language_info": {
      "name": "python"
    }
  },
  "cells": [
    {
      "cell_type": "markdown",
      "metadata": {
        "id": "58LjICoY5YsV"
      },
      "source": [
        "# Assignment 4: Gendered Directions in Embeddings\n",
        "\n",
        "### References\n",
        "\n",
        "Bolukbasi et al., (2016) \"[*Man is to Computer Programmer as Woman is to Homemaker? Debiasing Word Embeddings*](https://arxiv.org/pdf/1607.06520.pdf),\" arXiv\n",
        "\n",
        "Joulin et al. (2018) \"[*Loss in Translation: Learning Bilingual Word Mapping with a Retrieval Criterion*](https://arxiv.org/abs/1804.07745),\" arXiv\n"
      ]
    },
    {
      "cell_type": "code",
      "metadata": {
        "id": "g1-78pxMAa_Q",
        "colab": {
          "base_uri": "https://localhost:8080/"
        },
        "outputId": "4ff6a3d3-5f76-4166-ee6b-53bccf093e09"
      },
      "source": [
        "import numpy as np\n",
        "from urllib.request import urlopen\n",
        "from tqdm import tqdm\n",
        "import os.path\n",
        "import time\n",
        "\n",
        "class AlignedEmbeddingLoader(object):\n",
        "  \"\"\"This data loader will download an aligned fasttext embedding given a two letter language code.\n",
        "  More information ca be found at https://fasttext.cc/docs/en/aligned-vectors.html .\"\"\"\n",
        "  def __init__(self, lang='en'):\n",
        "    \"\"\"Data loader\"\"\"\n",
        "    self._dataurl = \"https://dl.fbaipublicfiles.com/fasttext/vectors-aligned/wiki.%s.align.vec\" % lang\n",
        "    cachefile = \"cache_%s.npz\" % lang\n",
        "    if os.path.exists(cachefile):\n",
        "      print(\"Loading cached data...\", end=\"\")\n",
        "      t = time.time()\n",
        "      data = np.load(cachefile)\n",
        "      self.idx2token_ = list(data['idx2token'])\n",
        "      self.vectors_ = data['vectors']\n",
        "      print(\"done (%isec)\" % (time.time()-t), flush=True)\n",
        "    else:\n",
        "      with urlopen(self._dataurl) as remote_file:\n",
        "        get_decoded_line = lambda file: file.readline().decode('utf-8')\n",
        "        self.n_tokens, self.n_dim = [int(n) for n in get_decoded_line(remote_file).split()]\n",
        "        self.idx2token_ = list()\n",
        "        self.vectors_ = np.zeros((self.n_tokens, self.n_dim), dtype=np.float32)\n",
        "        for n in tqdm(range(self.vectors_.shape[0]), desc=\"Downloading and parsing vectors\"):\n",
        "          textline = get_decoded_line(remote_file)\n",
        "          linedata = textline.split(' ')\n",
        "          self.idx2token_.append(linedata[0])\n",
        "          self.vectors_[n, :] = np.asarray(linedata[1:], dtype=np.float32)\n",
        "      np.savez(cachefile, vectors=self.vectors_, idx2token=self.idx2token_)\n",
        "    self.token2idx_ = {token:i for i, token in enumerate(self.idx2token_)}\n",
        "\n",
        "loaded_embedding = AlignedEmbeddingLoader('en')\n",
        "\n",
        "!ls -l"
      ],
      "execution_count": 3,
      "outputs": [
        {
          "output_type": "stream",
          "text": [
            "Downloading and parsing vectors: 100%|██████████| 2519370/2519370 [03:41<00:00, 11368.73it/s]\n"
          ],
          "name": "stderr"
        },
        {
          "output_type": "stream",
          "text": [
            "total 5196212\n",
            "-rw-r--r-- 1 root root 5320910082 Jun  2 15:56 cache_en.npz\n",
            "drwxr-xr-x 1 root root       4096 May  6 13:44 sample_data\n"
          ],
          "name": "stdout"
        }
      ]
    },
    {
      "cell_type": "markdown",
      "metadata": {
        "id": "rEuxXfXilufb"
      },
      "source": [
        "## Your analyzer\n",
        "This is the analyzer. Your task is to finish this in line with the unit tests, the assignment text specifications, and the paper Bolukbasi (2016)."
      ]
    },
    {
      "cell_type": "code",
      "metadata": {
        "id": "sREGXFXQ9rwv"
      },
      "source": [
        "from sklearn.metrics.pairwise import cosine_similarity, euclidean_distances\n",
        "\n",
        "class EmbeddingAnalyzer(object):\n",
        "  def __init__(self, embedding):\n",
        "    self.vectors_ = embedding.vectors_\n",
        "    self.token2idx_ = embedding.token2idx_\n",
        "    self.idx2token_ = embedding.idx2token_\n",
        "\n",
        "\n",
        "  def __len__(self):\n",
        "    \"\"\"Gives the number of tokens in the embedding.\"\"\"\n",
        "    return self.vectors_.shape[0]\n",
        "\n",
        "\n",
        "  def __getitem__(self, tokens):\n",
        "    \"\"\"Returns the vectors for a token or a list of tokens.\"\"\"\n",
        "    if type(tokens) is str:\n",
        "      idx = self.token2idx_[tokens]\n",
        "      return self.vectors_[idx]\n",
        "\n",
        "    elif type(tokens) is list:\n",
        "      vecs = np.zeros((len(tokens), self.vectors_.shape[1]),\n",
        "                         dtype=self.vectors_.dtype)\n",
        "      for i, token in enumerate(tokens):\n",
        "        idx = self.token2idx_[token]\n",
        "        vecs[i, :] = self.vectors_[idx]\n",
        "      return vecs\n",
        "\n",
        "\n",
        "  def __contains__(self, token):\n",
        "    \"\"\"Allows a user query if a tokens is in the embedding.\"\"\"\n",
        "    if token in self.token2idx_.keys():\n",
        "      return True\n",
        "\n",
        "\n",
        "  def projection(self, direction, vectors):\n",
        "    \"\"\"The cosine similarity between a reference direction and a matrix of word vectors.\n",
        "    direction:\n",
        "      A vector\n",
        "    vectors:\n",
        "      A row matrix with word vectors\"\"\"\n",
        "    cos = []\n",
        "    d = direction.reshape(1, -1)\n",
        "\n",
        "    if vectors.ndim == 1:\n",
        "      v = vectors.reshape(1, -1)\n",
        "      return cosine_similarity(d, v)[0][0]  #returning the number\n",
        "\n",
        "    else:\n",
        "      for v in vectors:  #matrix\n",
        "        v = v.reshape(1, -1)\n",
        "        cos.append(cosine_similarity(d, v)) \n",
        "      return cos\n",
        "\n",
        "\n",
        "  def simple_analogy(self, pair, query, k=5):\n",
        "    \"\"\"Simple/Classic word analogy as: man - woman = king - queen\"\"\"\n",
        "\n",
        "    v = self.__getitem__(query) - self.__getitem__(pair[0]) + self.__getitem__(pair[1])\n",
        "\n",
        "    v = v.reshape(1,-1)\n",
        "    \n",
        "    distances = euclidean_distances(self.vectors_, v).ravel()\n",
        "\n",
        "    matches = []\n",
        "\n",
        "    for idx in np.argsort(distances)[:k]:\n",
        "      matches.append(self.idx2token_[idx])\n",
        "\n",
        "    return matches\n",
        "\n",
        "\n",
        "  def similarity(self, token1, token2):\n",
        "    \"\"\"Returns the cosine similarity between two tokens.\"\"\"\n",
        "\n",
        "    vec_token1 = self.__getitem__(token1)  #vectorizing token1\n",
        "    vec_token2 = self.__getitem__(token2)  #vectorizing token2\n",
        "    \n",
        "    # reshaping matrices\n",
        "    vec_token1_reshaped = vec_token1.reshape(1, -1)\n",
        "    vec_token2_reshaped = vec_token2.reshape(1, -1)\n",
        "\n",
        "    # calculating cosine_similarity\n",
        "    cos_similarity = cosine_similarity(vec_token1_reshaped, vec_token2_reshaped)[0][0]\n",
        "\n",
        "    return cos_similarity\n",
        "\n",
        "\n",
        "  def analogies(self, analogy_direction, tokens):\n",
        "    \"\"\"The more complex word analogy method\"\"\"\n",
        "\n",
        "    lst = []\n",
        "    analog_dir = analogy_direction.reshape(1, -1)\n",
        "\n",
        "    for i, token in enumerate(tokens):\n",
        "\n",
        "      vec_token1 = self.__getitem__(token)\n",
        "      vec_token1_reshaped = vec_token1.reshape(1, -1)\n",
        "      max_cos_sim = -5000 #dummy value\n",
        "\n",
        "      for t in tokens:\n",
        "\n",
        "        if token != t:\n",
        "          vec_token2 = self.__getitem__(t) \n",
        "          vec_token2_reshaped = vec_token2.reshape(1, -1)\n",
        "\n",
        "          if euclidean_distances(vec_token1_reshaped - vec_token2_reshaped) <= 1:\n",
        "              vec_token_resh = vec_token1_reshaped - vec_token2_reshaped\n",
        "              cos = cosine_similarity(analog_dir + vec_token2_reshaped, vec_token1_reshaped)[0][0]\n",
        "\n",
        "              if cos > max_cos_sim:\n",
        "                max_cos_sim = cos\n",
        "                best_word = t \n",
        "\n",
        "          else:\n",
        "              cos = 0\n",
        "\n",
        "      lst.append((token, best_word))\n",
        "\n",
        "    return lst\n",
        "\n",
        "\n",
        "\n",
        "\n",
        "analyzer = EmbeddingAnalyzer(loaded_embedding)\n",
        "\n",
        "assert 'man' in analyzer\n",
        "assert 'woman' in analyzer\n",
        "assert 'kdjfsfhgkdsjfdh' not in analyzer\n",
        "\n",
        "assert len(analyzer) > 100000\n",
        "\n",
        "assert type(analyzer['man']) is np.ndarray\n",
        "assert np.isclose(np.sum(analyzer['man']-analyzer['man']), 0)"
      ],
      "execution_count": 16,
      "outputs": []
    },
    {
      "cell_type": "markdown",
      "metadata": {
        "id": "EX_7UbfKeLzH"
      },
      "source": [
        "## Word similarity\n",
        "\n",
        "We should be able to meassure similarity as cosine similarity.\n",
        "\n",
        "$cos(\\overrightarrow{cat}, \\overrightarrow{dog}) \\geq cos(\\overrightarrow{cat}, \\overrightarrow{cow})$"
      ]
    },
    {
      "cell_type": "code",
      "metadata": {
        "id": "LwrYqvyYMUQq"
      },
      "source": [
        "assert analyzer.similarity('cat', 'dog') >= analyzer.similarity('cat', 'cow')"
      ],
      "execution_count": 5,
      "outputs": []
    },
    {
      "cell_type": "markdown",
      "metadata": {
        "id": "TKsJ7LfELybJ"
      },
      "source": [
        "## Word analogies\n",
        "\n",
        "One of the core tasks for showing any semantic properties in an embedding is finding word analogies. We can this of this as word a is to word b, as word c is to word d. Our task is to find word d, knowing a, b, and c.\n",
        "\n",
        "$\\overrightarrow{a} - \\overrightarrow{b} \\approx \\overrightarrow{c} - \\overrightarrow{d}$\n",
        "\n",
        "For gender, this becomes:\n",
        "\n",
        "$\\overrightarrow{man} - \\overrightarrow{woman} \\approx \\overrightarrow{king} - \\overrightarrow{x}$\n",
        "\n",
        "By rearranging we get:\n",
        "\n",
        "$\\overrightarrow{king} - \\overrightarrow{man} + \\overrightarrow{woman} \\approx \\overrightarrow{x}$"
      ]
    },
    {
      "cell_type": "code",
      "metadata": {
        "colab": {
          "base_uri": "https://localhost:8080/"
        },
        "id": "CMtTEzuvHDls",
        "outputId": "0870d82b-990e-4237-bbcd-e993746ad8d4"
      },
      "source": [
        "best_matches = analyzer.simple_analogy(('man', 'woman'), 'king', k=5)\n",
        "\n",
        "print(\"Matches (in order of similarity):\")\n",
        "for i, token in enumerate(best_matches):\n",
        "  print(i+1, token)\n",
        "\n",
        "assert 'queen' in analyzer.simple_analogy(('man', 'woman'), 'king', k=5)"
      ],
      "execution_count": 6,
      "outputs": [
        {
          "output_type": "stream",
          "text": [
            "Matches (in order of similarity):\n",
            "1 king\n",
            "2 queen\n",
            "3 princess\n",
            "4 regnant\n",
            "5 princesses\n"
          ],
          "name": "stdout"
        }
      ]
    },
    {
      "cell_type": "markdown",
      "metadata": {
        "id": "yY3FS9q5x9qr"
      },
      "source": [
        "We can do this for capitols too.\n",
        "\n",
        "$\\overrightarrow{France} - \\overrightarrow{Japan} \\approx \\overrightarrow{Paris} - \\overrightarrow{x}$"
      ]
    },
    {
      "cell_type": "code",
      "metadata": {
        "colab": {
          "base_uri": "https://localhost:8080/"
        },
        "id": "xL3dPVqKx9wa",
        "outputId": "1aa06788-b866-47cd-bc31-2c3af8052c6c"
      },
      "source": [
        "best_matches = analyzer.simple_analogy(('france', 'japan'), 'paris', k=5)\n",
        "print(\"Matches (in order of similarity):\")\n",
        "for i, token in enumerate(best_matches):\n",
        "  print(i+1, token)\n",
        "\n",
        "assert 'tokyo' in analyzer.simple_analogy(('france', 'japan'), 'paris', k=5)"
      ],
      "execution_count": 7,
      "outputs": [
        {
          "output_type": "stream",
          "text": [
            "Matches (in order of similarity):\n",
            "1 tokyo\n",
            "2 japan\n",
            "3 osaka\n",
            "4 kyoto\n",
            "5 tokyo \n"
          ],
          "name": "stdout"
        }
      ]
    },
    {
      "cell_type": "markdown",
      "metadata": {
        "id": "X1EknjnwpI2H"
      },
      "source": [
        "Please try doing this for at least one other famous category (e.g. comparing adjectives)."
      ]
    },
    {
      "cell_type": "markdown",
      "metadata": {
        "id": "XgPGM1cvzIIo"
      },
      "source": [
        "## Finding the genderedness of professions\n",
        "\n",
        "Bulokbasi (2016) has a repo for the paper. We can download their data for professions. This allows us to find the genderedness for our embedding and plot against their survey data."
      ]
    },
    {
      "cell_type": "code",
      "metadata": {
        "colab": {
          "base_uri": "https://localhost:8080/"
        },
        "id": "ABmxQ1Fu56fr",
        "outputId": "99f79ed5-1274-4cfe-e0db-5b089fe19872"
      },
      "source": [
        "import json\n",
        "with urlopen('https://raw.githubusercontent.com/tolga-b/debiaswe/master/data/professions.json') as remote_file:\n",
        "  professions = {title: {'definitional': defi, 'stereotypical': ster} for title, defi, ster in json.load(remote_file)}\n",
        "print(\"Loaded %i professions\" % len(professions))"
      ],
      "execution_count": 8,
      "outputs": [
        {
          "output_type": "stream",
          "text": [
            "Loaded 320 professions\n"
          ],
          "name": "stdout"
        }
      ]
    },
    {
      "cell_type": "markdown",
      "metadata": {
        "id": "1mbuzbDNpygo"
      },
      "source": [
        "We want to find the projection of vectors for different profession on a gender direction. This can be done by finding the cosine similarity as:\n",
        "\n",
        "$cos(\\overrightarrow{man} - \\overrightarrow{woman}, \\overrightarrow{butcher})$\n",
        "\n",
        "$cos(\\overrightarrow{man} - \\overrightarrow{woman}, \\overrightarrow{ballerina})$\n",
        "\n",
        "The projection should be non-negative as $|cos(\\cdot,\\cdot)|$. However, by letting the projection method of the anlayzer give us the ccosine similarity, we can see the direction of the projection by looking at its sign."
      ]
    },
    {
      "cell_type": "code",
      "metadata": {
        "id": "uXVOOb8UEOsG"
      },
      "source": [
        "assert type(analyzer[['man', 'woman', 'butcher']]) is np.ndarray\n",
        "assert analyzer[['man', 'woman', 'butcher']].shape[0] == 3\n",
        "\n",
        "assert analyzer.projection(analyzer['man']-analyzer['woman'], analyzer['butcher']) > 0\n",
        "assert analyzer.projection(analyzer['man']-analyzer['woman'], analyzer['ballerina']) < 0"
      ],
      "execution_count": 9,
      "outputs": []
    },
    {
      "cell_type": "markdown",
      "metadata": {
        "id": "hvWMsRHWrZ-G"
      },
      "source": [
        "We create a woman-man direction."
      ]
    },
    {
      "cell_type": "code",
      "metadata": {
        "id": "o7qVcJM5_h7Y"
      },
      "source": [
        "direction = analyzer['man']-analyzer['woman']\n",
        "titles = [title for title in professions.keys() if title in analyzer]\n",
        "projection = analyzer.projection(direction, analyzer[titles])"
      ],
      "execution_count": 10,
      "outputs": []
    },
    {
      "cell_type": "markdown",
      "metadata": {
        "id": "I4ld8hekrdEm"
      },
      "source": [
        "The estimation of the gender direction can be improved by using several pairs. Again, we use the data from Bulokbasi (2016)."
      ]
    },
    {
      "cell_type": "code",
      "metadata": {
        "colab": {
          "base_uri": "https://localhost:8080/"
        },
        "id": "unzkpmHOs6Wi",
        "outputId": "638f1c2b-f9d3-4dc6-adc0-eb3520018252"
      },
      "source": [
        "import json\n",
        "with urlopen('https://raw.githubusercontent.com/tolga-b/debiaswe/master/data/definitional_pairs.json') as remote_file:\n",
        "  definitional_pairs = [(m, f) for m, f in json.load(remote_file)]\n",
        "definitional_pairs"
      ],
      "execution_count": 11,
      "outputs": [
        {
          "output_type": "execute_result",
          "data": {
            "text/plain": [
              "[('woman', 'man'),\n",
              " ('girl', 'boy'),\n",
              " ('she', 'he'),\n",
              " ('mother', 'father'),\n",
              " ('daughter', 'son'),\n",
              " ('gal', 'guy'),\n",
              " ('female', 'male'),\n",
              " ('her', 'his'),\n",
              " ('herself', 'himself'),\n",
              " ('Mary', 'John')]"
            ]
          },
          "metadata": {
            "tags": []
          },
          "execution_count": 11
        }
      ]
    },
    {
      "cell_type": "code",
      "metadata": {
        "id": "sueBKKyFGduH"
      },
      "source": [
        "direction2 = np.zeros(analyzer['man'].shape)\n",
        "for female, male in definitional_pairs:\n",
        "  direction2 += analyzer[male.lower()]\n",
        "  direction2 -= analyzer[female.lower()]\n",
        "\n",
        "projection2 = analyzer.projection(direction2, analyzer[titles])"
      ],
      "execution_count": 12,
      "outputs": []
    },
    {
      "cell_type": "markdown",
      "metadata": {
        "id": "DrRCBj3dr6m_"
      },
      "source": [
        "We can plot the relation between genderedness in the data and human annotation."
      ]
    },
    {
      "cell_type": "code",
      "metadata": {
        "colab": {
          "base_uri": "https://localhost:8080/",
          "height": 368
        },
        "id": "qxgJnULiG0_Q",
        "outputId": "1f4a898d-72cf-48d0-8558-76c6b2dcb315"
      },
      "source": [
        "import matplotlib.pyplot as plt\n",
        "import seaborn as sns\n",
        "\n",
        "fig = plt.figure(figsize=(12, 5))\n",
        "ax = fig.subplots(1, 2)\n",
        "stereotypicality = [professions[title]['stereotypical'] for title in titles]\n",
        "sns.regplot(x=projection, y=stereotypicality, ax=ax[0])\n",
        "a = sns.regplot(x=projection2, y=stereotypicality, ax=ax[1])\n",
        "ax[0].set_xlabel(\"Projection (one pair)\")\n",
        "ax[1].set_xlabel(\"Projection (several pairs)\")\n",
        "ax[0].set_ylabel(\"Human labelled stereotypicality\")\n",
        "fig.tight_layout(pad=.5)\n",
        "fig.show()"
      ],
      "execution_count": 13,
      "outputs": [
        {
          "output_type": "display_data",
          "data": {
            "image/png": "[encoded data removed]",
            "text/plain": [
              "<Figure size 864x360 with 2 Axes>"
            ]
          },
          "metadata": {
            "tags": [],
            "needs_background": "light"
          }
        }
      ]
    },
    {
      "cell_type": "code",
      "metadata": {
        "colab": {
          "base_uri": "https://localhost:8080/",
          "height": 368
        },
        "id": "Rb4MO33THKEN",
        "outputId": "7de1829f-3019-4e63-ffd1-8722dc9d126f"
      },
      "source": [
        "fig = plt.figure(figsize=(12, 5))\n",
        "ax = fig.subplots(1, 2)\n",
        "definitionality = [professions[title]['definitional'] for title in titles]\n",
        "sns.regplot(x=projection, y=definitionality, ax=ax[0])\n",
        "a = sns.regplot(x=projection2, y=definitionality, ax=ax[1])\n",
        "ax[0].set_xlabel(\"Projection (one pair)\")\n",
        "ax[1].set_xlabel(\"Projection (several pairs)\")\n",
        "ax[0].set_ylabel(\"Human labelled definitional genderedness\")\n",
        "fig.tight_layout(pad=.5)\n",
        "fig.show()"
      ],
      "execution_count": 14,
      "outputs": [
        {
          "output_type": "display_data",
          "data": {
            "image/png": "[encoded data removed]",
            "text/plain": [
              "<Figure size 864x360 with 2 Axes>"
            ]
          },
          "metadata": {
            "tags": [],
            "needs_background": "light"
          }
        }
      ]
    },
    {
      "cell_type": "markdown",
      "metadata": {
        "id": "cjgbqFix9A6Z"
      },
      "source": [
        "## More analogies\n",
        "\n",
        "The paper defines a more advances procedure for analogies as:\n",
        "\n",
        "$S_{(a,b)}(x, y) = \\left\\{\\begin{matrix}\n",
        "cos(\\overrightarrow{a}-\\overrightarrow{b}, \\overrightarrow{x}-\\overrightarrow{y}) & \\parallel \\overrightarrow{x}-\\overrightarrow{y} \\parallel \\leq 1\\\\ \n",
        "0 &  \\text{otherwise}\n",
        "\\end{matrix}\\right.$\n",
        "\n",
        "This should return a list of tuples with word pairs."
      ]
    },
    {
      "cell_type": "code",
      "metadata": {
        "colab": {
          "base_uri": "https://localhost:8080/"
        },
        "id": "HY3EsrrTvxFx",
        "outputId": "997cbc67-b7dd-4ae1-8558-62ec6b3fdfbc"
      },
      "source": [
        "assert len(analyzer.analogies(analyzer['man']-analyzer['woman'], ['actor', 'actress'])) == 2 #1\n",
        "assert type(analyzer.analogies(analyzer['man']-analyzer['woman'], ['actor', 'actress'])) == list\n",
        "assert type(analyzer.analogies(analyzer['man']-analyzer['woman'], ['actor', 'actress'])[0]) == tuple\n",
        "\n",
        "analyzer.analogies(analyzer['man']-analyzer['woman'], ['actor', 'actress'])"
      ],
      "execution_count": 17,
      "outputs": [
        {
          "output_type": "execute_result",
          "data": {
            "text/plain": [
              "[('actor', 'actress'), ('actress', 'actor')]"
            ]
          },
          "metadata": {
            "tags": []
          },
          "execution_count": 17
        }
      ]
    },
    {
      "cell_type": "code",
      "metadata": {
        "colab": {
          "base_uri": "https://localhost:8080/"
        },
        "id": "VK9et5C29AYD",
        "outputId": "57062770-e2e2-43ce-d8b6-c45b98c987ab"
      },
      "source": [
        "analyzer.analogies(analogy_direction=direction2, tokens=titles)"
      ],
      "execution_count": 18,
      "outputs": [
        {
          "output_type": "execute_result",
          "data": {
            "text/plain": [
              "[('accountant', 'bookkeeper'),\n",
              " ('acquaintance', 'housekeeper'),\n",
              " ('actor', 'actress'),\n",
              " ('actress', 'actor'),\n",
              " ('administrator', 'bureaucrat'),\n",
              " ('adventurer', 'trader'),\n",
              " ('advocate', 'campaigner'),\n",
              " ('aide', 'officer'),\n",
              " ('alderman', 'councilman'),\n",
              " ('alter_ego', 'fashion_designer'),\n",
              " ('ambassador', 'envoy'),\n",
              " ('analyst', 'commentator'),\n",
              " ('anthropologist', 'sociologist'),\n",
              " ('archaeologist', 'anthropologist'),\n",
              " ('archbishop', 'bishop'),\n",
              " ('architect', 'sculptor'),\n",
              " ('artist', 'painter'),\n",
              " ('artiste', 'performer'),\n",
              " ('assassin', 'hitman'),\n",
              " ('astronaut', 'scientist'),\n",
              " ('astronomer', 'mathematician'),\n",
              " ('athlete', 'swimmer'),\n",
              " ('attorney', 'solicitor'),\n",
              " ('author', 'writer'),\n",
              " ('baker', 'butler'),\n",
              " ('ballerina', 'dancer'),\n",
              " ('ballplayer', 'infielder'),\n",
              " ('banker', 'financier'),\n",
              " ('barber', 'hairdresser'),\n",
              " ('baron', 'socialite'),\n",
              " ('barrister', 'solicitor'),\n",
              " ('bartender', 'waitress'),\n",
              " ('biologist', 'scientist'),\n",
              " ('bishop', 'archbishop'),\n",
              " ('bodyguard', 'assassin'),\n",
              " ('bookkeeper', 'accountant'),\n",
              " ('boss', 'mobster'),\n",
              " ('boxer', 'wrestler'),\n",
              " ('broadcaster', 'journalist'),\n",
              " ('broker', 'stockbroker'),\n",
              " ('bureaucrat', 'administrator'),\n",
              " ('businessman', 'businesswoman'),\n",
              " ('businesswoman', 'businessman'),\n",
              " ('butcher', 'hairdresser'),\n",
              " ('butler', 'baker'),\n",
              " ('cabbie', 'trucker'),\n",
              " ('cameraman', 'cinematographer'),\n",
              " ('campaigner', 'environmentalist'),\n",
              " ('captain', 'lieutenant'),\n",
              " ('cardiologist', 'radiologist'),\n",
              " ('caretaker', 'housekeeper'),\n",
              " ('carpenter', 'foreman'),\n",
              " ('cartoonist', 'illustrator'),\n",
              " ('cellist', 'violinist'),\n",
              " ('chancellor', 'vice_chancellor'),\n",
              " ('chaplain', 'pastor'),\n",
              " ('character', 'protagonist'),\n",
              " ('chef', 'restaurateur'),\n",
              " ('chemist', 'physicist'),\n",
              " ('choreographer', 'dancer'),\n",
              " ('cinematographer', 'filmmaker'),\n",
              " ('citizen', 'lawmaker'),\n",
              " ('cleric', 'priest'),\n",
              " ('clerk', 'solicitor'),\n",
              " ('coach', 'manager'),\n",
              " ('collector', 'curator'),\n",
              " ('colonel', 'lieutenant'),\n",
              " ('columnist', 'journalist'),\n",
              " ('comedian', 'entertainer'),\n",
              " ('comic', 'cartoonist'),\n",
              " ('commander', 'lieutenant'),\n",
              " ('commentator', 'pundit'),\n",
              " ('commissioner', 'secretary'),\n",
              " ('composer', 'pianist'),\n",
              " ('conductor', 'soloist'),\n",
              " ('confesses', 'receptionist'),\n",
              " ('congressman', 'senator'),\n",
              " ('constable', 'policeman'),\n",
              " ('consultant', 'director'),\n",
              " ('cop', 'detective'),\n",
              " ('correspondent', 'journalist'),\n",
              " ('councilman', 'alderman'),\n",
              " ('councilor', 'councilman'),\n",
              " ('counselor', 'therapist'),\n",
              " ('critic', 'columnist'),\n",
              " ('crooner', 'singer'),\n",
              " ('crusader', 'warrior'),\n",
              " ('curator', 'librarian'),\n",
              " ('custodian', 'librarian'),\n",
              " ('dad', 'nanny'),\n",
              " ('dancer', 'choreographer'),\n",
              " ('dean', 'provost'),\n",
              " ('dentist', 'pharmacist'),\n",
              " ('deputy', 'secretary'),\n",
              " ('dermatologist', 'pediatrician'),\n",
              " ('detective', 'policeman'),\n",
              " ('diplomat', 'ambassador'),\n",
              " ('director', 'consultant'),\n",
              " ('doctor', 'dentist'),\n",
              " ('drummer', 'guitarist'),\n",
              " ('economist', 'sociologist'),\n",
              " ('editor', 'administrator'),\n",
              " ('educator', 'teacher'),\n",
              " ('electrician', 'welder'),\n",
              " ('employee', 'worker'),\n",
              " ('entertainer', 'performer'),\n",
              " ('entrepreneur', 'businesswoman'),\n",
              " ('environmentalist', 'campaigner'),\n",
              " ('envoy', 'ambassador'),\n",
              " ('epidemiologist', 'pediatrician'),\n",
              " ('evangelist', 'pastor'),\n",
              " ('farmer', 'housewife'),\n",
              " ('fashion_designer', 'alter_ego'),\n",
              " ('filmmaker', 'screenwriter'),\n",
              " ('financier', 'banker'),\n",
              " ('firebrand', 'warrior'),\n",
              " ('firefighter', 'fireman'),\n",
              " ('fireman', 'firefighter'),\n",
              " ('fisherman', 'sailor'),\n",
              " ('footballer', 'midfielder'),\n",
              " ('foreman', 'bookkeeper'),\n",
              " ('gangster', 'mobster'),\n",
              " ('gardener', 'housekeeper'),\n",
              " ('geologist', 'biologist'),\n",
              " ('goalkeeper', 'midfielder'),\n",
              " ('guitarist', 'vocalist'),\n",
              " ('hairdresser', 'waitress'),\n",
              " ('handyman', 'janitor'),\n",
              " ('headmaster', 'teacher'),\n",
              " ('historian', 'sociologist'),\n",
              " ('hitman', 'gangster'),\n",
              " ('homemaker', 'housewife'),\n",
              " ('hooker', 'baker'),\n",
              " ('housekeeper', 'nanny'),\n",
              " ('housewife', 'homemaker'),\n",
              " ('illustrator', 'cartoonist'),\n",
              " ('industrialist', 'philanthropist'),\n",
              " ('infielder', 'ballplayer'),\n",
              " ('inspector', 'superintendent'),\n",
              " ('instructor', 'teacher'),\n",
              " ('inventor', 'scientist'),\n",
              " ('investigator', 'detective'),\n",
              " ('janitor', 'waitress'),\n",
              " ('jeweler', 'shopkeeper'),\n",
              " ('journalist', 'columnist'),\n",
              " ('judge', 'attorney'),\n",
              " ('jurist', 'lawyer'),\n",
              " ('laborer', 'worker'),\n",
              " ('landlord', 'shopkeeper'),\n",
              " ('lawmaker', 'legislator'),\n",
              " ('lawyer', 'attorney'),\n",
              " ('lecturer', 'professor'),\n",
              " ('legislator', 'lawmaker'),\n",
              " ('librarian', 'curator'),\n",
              " ('lieutenant', 'colonel'),\n",
              " ('lifeguard', 'firefighter'),\n",
              " ('lyricist', 'singer'),\n",
              " ('maestro', 'violinist'),\n",
              " ('magician', 'entertainer'),\n",
              " ('magistrate', 'solicitor'),\n",
              " ('maid', 'housekeeper'),\n",
              " ('manager', 'coach'),\n",
              " ('marksman', 'trooper'),\n",
              " ('marshal', 'commander'),\n",
              " ('mathematician', 'physicist'),\n",
              " ('mechanic', 'electrician'),\n",
              " ('mediator', 'negotiator'),\n",
              " ('medic', 'firefighter'),\n",
              " ('midfielder', 'goalkeeper'),\n",
              " ('minister', 'undersecretary'),\n",
              " ('missionary', 'pastor'),\n",
              " ('mobster', 'gangster'),\n",
              " ('monk', 'nun'),\n",
              " ('musician', 'singer'),\n",
              " ('nanny', 'housekeeper'),\n",
              " ('narrator', 'protagonist'),\n",
              " ('naturalist', 'biologist'),\n",
              " ('negotiator', 'diplomat'),\n",
              " ('neurologist', 'pathologist'),\n",
              " ('neurosurgeon', 'cardiologist'),\n",
              " ('novelist', 'writer'),\n",
              " ('nun', 'monk'),\n",
              " ('nurse', 'dentist'),\n",
              " ('observer', 'correspondent'),\n",
              " ('officer', 'commander'),\n",
              " ('organist', 'pianist'),\n",
              " ('painter', 'sculptor'),\n",
              " ('paralegal', 'accountant'),\n",
              " ('parishioner', 'pastor'),\n",
              " ('parliamentarian', 'politician'),\n",
              " ('pastor', 'parishioner'),\n",
              " ('pathologist', 'neurologist'),\n",
              " ('patrolman', 'policeman'),\n",
              " ('pediatrician', 'cardiologist'),\n",
              " ('performer', 'entertainer'),\n",
              " ('pharmacist', 'physician'),\n",
              " ('philanthropist', 'businessman'),\n",
              " ('philosopher', 'sociologist'),\n",
              " ('photographer', 'photojournalist'),\n",
              " ('photojournalist', 'photographer'),\n",
              " ('physician', 'surgeon'),\n",
              " ('physicist', 'mathematician'),\n",
              " ('pianist', 'violinist'),\n",
              " ('planner', 'architect'),\n",
              " ('playwright', 'novelist'),\n",
              " ('plumber', 'electrician'),\n",
              " ('poet', 'playwright'),\n",
              " ('policeman', 'patrolman'),\n",
              " ('politician', 'lawyer'),\n",
              " ('pollster', 'analyst'),\n",
              " ('preacher', 'pastor'),\n",
              " ('president', 'secretary'),\n",
              " ('priest', 'parishioner'),\n",
              " ('principal', 'superintendent'),\n",
              " ('prisoner', 'soldier'),\n",
              " ('professor', 'lecturer'),\n",
              " ('programmer', 'planner'),\n",
              " ('promoter', 'publicist'),\n",
              " ('proprietor', 'shopkeeper'),\n",
              " ('prosecutor', 'attorney'),\n",
              " ('protagonist', 'character'),\n",
              " ('protege', 'bodyguard'),\n",
              " ('protester', 'policeman'),\n",
              " ('provost', 'chaplain'),\n",
              " ('psychiatrist', 'psychologist'),\n",
              " ('psychologist', 'psychiatrist'),\n",
              " ('publicist', 'journalist'),\n",
              " ('pundit', 'commentator'),\n",
              " ('rabbi', 'preacher'),\n",
              " ('radiologist', 'cardiologist'),\n",
              " ('ranger', 'trooper'),\n",
              " ('realtor', 'businesswoman'),\n",
              " ('receptionist', 'waitress'),\n",
              " ('researcher', 'scientist'),\n",
              " ('restaurateur', 'chef'),\n",
              " ('sailor', 'soldier'),\n",
              " ('saint', 'monk'),\n",
              " ('salesman', 'bookkeeper'),\n",
              " ('saxophonist', 'trumpeter'),\n",
              " ('scholar', 'historian'),\n",
              " ('scientist', 'researcher'),\n",
              " ('screenwriter', 'filmmaker'),\n",
              " ('sculptor', 'painter'),\n",
              " ('secretary', 'undersecretary'),\n",
              " ('senator', 'congressman'),\n",
              " ('sergeant', 'lieutenant'),\n",
              " ('servant', 'housekeeper'),\n",
              " ('serviceman', 'soldier'),\n",
              " ('shopkeeper', 'hairdresser'),\n",
              " ('singer', 'vocalist'),\n",
              " ('skipper', 'captain'),\n",
              " ('socialite', 'businesswoman'),\n",
              " ('sociologist', 'anthropologist'),\n",
              " ('soldier', 'serviceman'),\n",
              " ('solicitor', 'barrister'),\n",
              " ('soloist', 'cellist'),\n",
              " ('sportsman', 'athlete'),\n",
              " ('sportswriter', 'columnist'),\n",
              " ('statesman', 'diplomat'),\n",
              " ('steward', 'bureaucrat'),\n",
              " ('stockbroker', 'banker'),\n",
              " ('strategist', 'analyst'),\n",
              " ('student', 'teacher'),\n",
              " ('stylist', 'hairdresser'),\n",
              " ('substitute', 'understudy'),\n",
              " ('superintendent', 'inspector'),\n",
              " ('surgeon', 'physician'),\n",
              " ('surveyor', 'geologist'),\n",
              " ('swimmer', 'athlete'),\n",
              " ('teacher', 'educator'),\n",
              " ('technician', 'electrician'),\n",
              " ('teenager', 'housewife'),\n",
              " ('therapist', 'psychiatrist'),\n",
              " ('trader', 'broker'),\n",
              " ('treasurer', 'secretary'),\n",
              " ('trooper', 'patrolman'),\n",
              " ('trucker', 'bartender'),\n",
              " ('trumpeter', 'saxophonist'),\n",
              " ('tutor', 'teacher'),\n",
              " ('tycoon', 'businessman'),\n",
              " ('undersecretary', 'secretary'),\n",
              " ('understudy', 'goalkeeper'),\n",
              " ('valedictorian', 'lecturer'),\n",
              " ('vice_chancellor', 'chancellor'),\n",
              " ('violinist', 'cellist'),\n",
              " ('vocalist', 'guitarist'),\n",
              " ('waiter', 'waitress'),\n",
              " ('waitress', 'bartender'),\n",
              " ('warden', 'chaplain'),\n",
              " ('warrior', 'assassin'),\n",
              " ('welder', 'electrician'),\n",
              " ('worker', 'laborer'),\n",
              " ('wrestler', 'boxer'),\n",
              " ('writer', 'novelist')]"
            ]
          },
          "metadata": {
            "tags": []
          },
          "execution_count": 18
        }
      ]
    }
  ]
}